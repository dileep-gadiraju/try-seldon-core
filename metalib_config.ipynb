{
 "cells": [
  {
   "cell_type": "code",
   "execution_count": 1,
   "metadata": {},
   "outputs": [
    {
     "name": "stdout",
     "output_type": "stream",
     "text": [
      "namespace/metallb-system unchanged\n",
      "error: failed to create secret secrets \"memberlist\" already exists\n",
      "\u001b[33;1mWarning:\u001b[0m policy/v1beta1 PodSecurityPolicy is deprecated in v1.21+, unavailable in v1.25+\n",
      "podsecuritypolicy.policy/controller configured\n",
      "podsecuritypolicy.policy/speaker configured\n",
      "serviceaccount/controller unchanged\n",
      "serviceaccount/speaker unchanged\n",
      "clusterrole.rbac.authorization.k8s.io/metallb-system:controller unchanged\n",
      "clusterrole.rbac.authorization.k8s.io/metallb-system:speaker unchanged\n",
      "role.rbac.authorization.k8s.io/config-watcher unchanged\n",
      "role.rbac.authorization.k8s.io/pod-lister unchanged\n",
      "clusterrolebinding.rbac.authorization.k8s.io/metallb-system:controller unchanged\n",
      "clusterrolebinding.rbac.authorization.k8s.io/metallb-system:speaker unchanged\n",
      "rolebinding.rbac.authorization.k8s.io/config-watcher unchanged\n",
      "rolebinding.rbac.authorization.k8s.io/pod-lister unchanged\n",
      "daemonset.apps/speaker unchanged\n",
      "deployment.apps/controller unchanged\n"
     ]
    }
   ],
   "source": [
    "#### Configuring MetalLB\n",
    "#### To avoid svc External-IP Pending status issue\n",
    "!kubectl apply -f https://raw.githubusercontent.com/metallb/metallb/v0.9.3/manifests/namespace.yaml\n",
    "!kubectl create secret generic -n metallb-system memberlist --from-literal=secretkey=\"$(openssl rand -base64 128)\"\n",
    "!kubectl apply -f https://raw.githubusercontent.com/metallb/metallb/v0.9.3/manifests/metallb.yaml"
   ]
  },
  {
   "cell_type": "code",
   "execution_count": 2,
   "metadata": {},
   "outputs": [
    {
     "name": "stdout",
     "output_type": "stream",
     "text": [
      "Overwriting metallb-config.yaml\n"
     ]
    }
   ],
   "source": [
    "%%writefile metallb-config.yaml\n",
    "apiVersion: v1\n",
    "kind: ConfigMap\n",
    "metadata:\n",
    "  namespace: metallb-system\n",
    "  name: config\n",
    "data:\n",
    "  config: |\n",
    "    address-pools:\n",
    "    - name: default\n",
    "      protocol: layer2\n",
    "      addresses:\n",
    "      - 172.18.0.150-172.18.0.200"
   ]
  },
  {
   "cell_type": "code",
   "execution_count": 3,
   "metadata": {},
   "outputs": [
    {
     "name": "stdout",
     "output_type": "stream",
     "text": [
      "Error from server (AlreadyExists): error when creating \"metallb-config.yaml\": configmaps \"config\" already exists\n"
     ]
    }
   ],
   "source": [
    "!kubectl create -f metallb-config.yaml"
   ]
  },
  {
   "cell_type": "code",
   "execution_count": null,
   "metadata": {},
   "outputs": [],
   "source": [
    "!kubectl delete -f metallb-config.yaml"
   ]
  }
 ],
 "metadata": {
  "kernelspec": {
   "display_name": "base",
   "language": "python",
   "name": "python3"
  },
  "language_info": {
   "codemirror_mode": {
    "name": "ipython",
    "version": 3
   },
   "file_extension": ".py",
   "mimetype": "text/x-python",
   "name": "python",
   "nbconvert_exporter": "python",
   "pygments_lexer": "ipython3",
   "version": "3.9.12"
  },
  "orig_nbformat": 4,
  "vscode": {
   "interpreter": {
    "hash": "3c5b05c738269f3db37ab2b93400d252a3eceb4ebe547b00838e0efaaa2ac1dc"
   }
  }
 },
 "nbformat": 4,
 "nbformat_minor": 2
}
