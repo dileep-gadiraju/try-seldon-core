{
 "cells": [
  {
   "attachments": {},
   "cell_type": "markdown",
   "id": "945f9db1",
   "metadata": {},
   "source": [
    "# Graph Examples\n",
    "\n",
    "Port-forward to that ingress on localhost:8003 in a separate terminal either with:\n",
    "\n",
    "  * Ambassador: `kubectl port-forward $(kubectl get pods -n seldon -l app.kubernetes.io/name=ambassador -o jsonpath='{.items[0].metadata.name}') -n seldon 8004:8080`\n",
    "  * Istio: `kubectl port-forward $(kubectl get pods -l istio=ingressgateway -n istio-system -o jsonpath='{.items[0].metadata.name}') -n istio-system 8004:8080`\n"
   ]
  },
  {
   "cell_type": "code",
   "execution_count": 1,
   "id": "0bcfe613",
   "metadata": {},
   "outputs": [
    {
     "name": "stdout",
     "output_type": "stream",
     "text": [
      "Error from server (AlreadyExists): namespaces \"seldon\" already exists\n"
     ]
    }
   ],
   "source": [
    "!kubectl create namespace seldon"
   ]
  },
  {
   "cell_type": "code",
   "execution_count": 2,
   "id": "c6d2452b",
   "metadata": {},
   "outputs": [
    {
     "name": "stdout",
     "output_type": "stream",
     "text": [
      "Context \"kind-seldon\" modified.\n"
     ]
    }
   ],
   "source": [
    "!kubectl config set-context $(kubectl config current-context) --namespace=seldon"
   ]
  },
  {
   "cell_type": "markdown",
   "id": "33e483c7",
   "metadata": {},
   "source": [
    "## Input and output transformer with model in same pod"
   ]
  },
  {
   "cell_type": "code",
   "execution_count": 3,
   "id": "d6b9dca0",
   "metadata": {},
   "outputs": [
    {
     "name": "stdout",
     "output_type": "stream",
     "text": [
      "apiVersion: machinelearning.seldon.io/v1\n",
      "kind: SeldonDeployment\n",
      "metadata:\n",
      "  name: test\n",
      "spec:\n",
      "  predictors:\n",
      "  - componentSpecs:\n",
      "    - spec:\n",
      "        containers:\n",
      "        - image: seldonio/metadata-generic-node:1.14.0-dev\n",
      "          name: input-transformer\n",
      "        - image: seldonio/metadata-generic-node:1.14.0-dev\n",
      "          name: model\n",
      "        - image: seldonio/metadata-generic-node:1.14.0-dev\n",
      "          name: output-transformer\n",
      "    graph:\n",
      "      name: output-transformer\n",
      "      type: OUTPUT_TRANSFORMER\n",
      "      endpoint:\n",
      "        type: GRPC\n",
      "      children:\n",
      "        - name: input-transformer\n",
      "          type: TRANSFORMER\n",
      "          endpoint:\n",
      "            type: GRPC\n",
      "          children:\n",
      "            - name: model\n",
      "              type: MODEL\n",
      "              endpoint:\n",
      "                type: GRPC\n",
      "    name: test\n",
      "    replicas: 1\n"
     ]
    }
   ],
   "source": [
    "!cat seldon-core/examples/graph_examples/tin-model-tout.yaml"
   ]
  },
  {
   "cell_type": "code",
   "execution_count": 4,
   "id": "c6f39a99",
   "metadata": {},
   "outputs": [
    {
     "name": "stdout",
     "output_type": "stream",
     "text": [
      "seldondeployment.machinelearning.seldon.io/test created\n"
     ]
    }
   ],
   "source": [
    "!kubectl create -f seldon-core/examples/graph_examples/tin-model-tout.yaml"
   ]
  },
  {
   "cell_type": "code",
   "execution_count": 5,
   "id": "ba27098e",
   "metadata": {},
   "outputs": [
    {
     "name": "stdout",
     "output_type": "stream",
     "text": [
      "seldondeployment.machinelearning.seldon.io/sklearn condition met\n",
      "seldondeployment.machinelearning.seldon.io/test condition met\n"
     ]
    }
   ],
   "source": [
    "!kubectl wait --for condition=ready --timeout=300s sdep --all -n seldon"
   ]
  },
  {
   "cell_type": "code",
   "execution_count": 6,
   "id": "6f02a38f",
   "metadata": {},
   "outputs": [
    {
     "name": "stdout",
     "output_type": "stream",
     "text": [
      "{\"data\":{\"names\":[\"t:0\",\"t:1\",\"t:2\"],\"ndarray\":[[1.0,2.0,5.0]]},\"meta\":{\"requestPath\":{\"input-transformer\":\"seldonio/metadata-generic-node:1.14.0-dev\",\"model\":\"seldonio/metadata-generic-node:1.14.0-dev\",\"output-transformer\":\"seldonio/metadata-generic-node:1.14.0-dev\"}}}\n"
     ]
    }
   ],
   "source": [
    "!curl -s -d '{\"data\": {\"ndarray\":[[1.0, 2.0, 5.0]]}}' \\\n",
    "   -X POST http://localhost:8004/seldon/seldon/test/api/v1.0/predictions \\\n",
    "   -H \"Content-Type: application/json\""
   ]
  },
  {
   "cell_type": "code",
   "execution_count": 7,
   "id": "a9a8aa88",
   "metadata": {},
   "outputs": [
    {
     "name": "stdout",
     "output_type": "stream",
     "text": [
      "error: the path \"tin-model-tout.yaml\" does not exist\n"
     ]
    }
   ],
   "source": [
    "!kubectl delete -f tin-model-tout.yaml"
   ]
  },
  {
   "cell_type": "markdown",
   "id": "5ab6d167",
   "metadata": {},
   "source": [
    "## Input and output transformer with model in separate pods"
   ]
  },
  {
   "cell_type": "code",
   "execution_count": 8,
   "id": "d86ed5c7",
   "metadata": {},
   "outputs": [
    {
     "name": "stdout",
     "output_type": "stream",
     "text": [
      "apiVersion: machinelearning.seldon.io/v1\n",
      "kind: SeldonDeployment\n",
      "metadata:\n",
      "  name: test\n",
      "spec:\n",
      "  predictors:\n",
      "  - componentSpecs:\n",
      "    - spec:\n",
      "        containers:\n",
      "        - image: seldonio/metadata-generic-node:1.14.0-dev\n",
      "          name: input-transformer\n",
      "    - spec:\n",
      "        containers:\n",
      "        - image: seldonio/metadata-generic-node:1.14.0-dev\n",
      "          name: model\n",
      "    - spec:\n",
      "        containers:\n",
      "        - image: seldonio/metadata-generic-node:1.14.0-dev\n",
      "          name: output-transformer\n",
      "    graph:\n",
      "      name: output-transformer\n",
      "      type: OUTPUT_TRANSFORMER\n",
      "      endpoint:\n",
      "        type: GRPC\n",
      "      children:\n",
      "        - name: input-transformer\n",
      "          type: TRANSFORMER\n",
      "          endpoint:\n",
      "            type: GRPC\n",
      "          children:\n",
      "            - name: model\n",
      "              type: MODEL\n",
      "              endpoint:\n",
      "                type: GRPC\n",
      "    name: test\n",
      "    replicas: 1\n"
     ]
    }
   ],
   "source": [
    "!cat seldon-core/examples/graph_examples/tin-model-tout-sep-pods.yaml"
   ]
  },
  {
   "cell_type": "code",
   "execution_count": 9,
   "id": "f7c5178c",
   "metadata": {},
   "outputs": [
    {
     "name": "stdout",
     "output_type": "stream",
     "text": [
      "Error from server (AlreadyExists): error when creating \"seldon-core/examples/graph_examples/tin-model-tout-sep-pods.yaml\": seldondeployments.machinelearning.seldon.io \"test\" already exists\n"
     ]
    }
   ],
   "source": [
    "!kubectl create -f seldon-core/examples/graph_examples/tin-model-tout-sep-pods.yaml"
   ]
  },
  {
   "cell_type": "code",
   "execution_count": 10,
   "id": "5a83a428",
   "metadata": {},
   "outputs": [
    {
     "name": "stdout",
     "output_type": "stream",
     "text": [
      "seldondeployment.machinelearning.seldon.io/sklearn condition met\n",
      "seldondeployment.machinelearning.seldon.io/test condition met\n"
     ]
    }
   ],
   "source": [
    "!kubectl wait --for condition=ready --timeout=300s sdep --all -n seldon"
   ]
  },
  {
   "cell_type": "code",
   "execution_count": 11,
   "id": "2d8ba680",
   "metadata": {},
   "outputs": [
    {
     "name": "stdout",
     "output_type": "stream",
     "text": [
      "{\"data\":{\"names\":[\"t:0\",\"t:1\",\"t:2\"],\"ndarray\":[[1.0,2.0,5.0]]},\"meta\":{\"requestPath\":{\"input-transformer\":\"seldonio/metadata-generic-node:1.14.0-dev\",\"model\":\"seldonio/metadata-generic-node:1.14.0-dev\",\"output-transformer\":\"seldonio/metadata-generic-node:1.14.0-dev\"}}}\n"
     ]
    }
   ],
   "source": [
    "!curl -s -d '{\"data\": {\"ndarray\":[[1.0, 2.0, 5.0]]}}' \\\n",
    "   -X POST http://localhost:8004/seldon/seldon/test/api/v1.0/predictions \\\n",
    "   -H \"Content-Type: application/json\""
   ]
  },
  {
   "cell_type": "code",
   "execution_count": 13,
   "id": "7febb431",
   "metadata": {},
   "outputs": [
    {
     "name": "stdout",
     "output_type": "stream",
     "text": [
      "seldondeployment.machinelearning.seldon.io \"test\" deleted\n"
     ]
    }
   ],
   "source": [
    "!kubectl delete -f seldon-core/examples/graph_examples/tin-model-tout-sep-pods.yaml"
   ]
  },
  {
   "cell_type": "markdown",
   "id": "a95de935",
   "metadata": {},
   "source": [
    "## Input and output transformer with svcOrch in separate pod"
   ]
  },
  {
   "cell_type": "code",
   "execution_count": 14,
   "id": "f89eaa5d",
   "metadata": {},
   "outputs": [
    {
     "name": "stdout",
     "output_type": "stream",
     "text": [
      "apiVersion: machinelearning.seldon.io/v1\n",
      "kind: SeldonDeployment\n",
      "metadata:\n",
      "  name: test\n",
      "spec:\n",
      "  annotations:\n",
      "    seldon.io/engine-separate-pod: \"true\"\n",
      "  predictors:\n",
      "  - componentSpecs:\n",
      "    - spec:\n",
      "        containers:\n",
      "        - image: seldonio/metadata-generic-node:1.14.0-dev\n",
      "          name: input-transformer\n",
      "        - image: seldonio/metadata-generic-node:1.14.0-dev\n",
      "          name: model\n",
      "        - image: seldonio/metadata-generic-node:1.14.0-dev\n",
      "          name: output-transformer\n",
      "    graph:\n",
      "      name: output-transformer\n",
      "      type: OUTPUT_TRANSFORMER\n",
      "      endpoint:\n",
      "        type: GRPC\n",
      "      children:\n",
      "        - name: input-transformer\n",
      "          type: TRANSFORMER\n",
      "          endpoint:\n",
      "            type: GRPC\n",
      "          children:\n",
      "            - name: model\n",
      "              type: MODEL\n",
      "              endpoint:\n",
      "                type: GRPC\n",
      "    name: test\n",
      "    replicas: 1\n"
     ]
    }
   ],
   "source": [
    "!cat seldon-core/examples/graph_examples/tin-model-tout-sep-svcorch.yaml"
   ]
  },
  {
   "cell_type": "code",
   "execution_count": 15,
   "id": "9b073c46",
   "metadata": {},
   "outputs": [
    {
     "name": "stdout",
     "output_type": "stream",
     "text": [
      "seldondeployment.machinelearning.seldon.io/test created\n"
     ]
    }
   ],
   "source": [
    "!kubectl create -f seldon-core/examples/graph_examples/tin-model-tout-sep-svcorch.yaml"
   ]
  },
  {
   "cell_type": "code",
   "execution_count": 16,
   "id": "ef70b350",
   "metadata": {},
   "outputs": [
    {
     "name": "stdout",
     "output_type": "stream",
     "text": [
      "seldondeployment.machinelearning.seldon.io/sklearn condition met\n"
     ]
    }
   ],
   "source": [
    "!kubectl wait --for condition=ready --timeout=300s sdep --all -n seldon"
   ]
  },
  {
   "cell_type": "code",
   "execution_count": null,
   "id": "08892e09",
   "metadata": {},
   "outputs": [],
   "source": [
    "!curl -s -d '{\"data\": {\"ndarray\":[[1.0, 2.0, 5.0]]}}' \\\n",
    "   -X POST http://localhost:8004/seldon/seldon/test/api/v1.0/predictions \\\n",
    "   -H \"Content-Type: application/json\""
   ]
  },
  {
   "cell_type": "code",
   "execution_count": null,
   "id": "3497c521",
   "metadata": {},
   "outputs": [],
   "source": [
    "!kubectl delete -f seldon-core/examples/graph_examples/tin-model-tout-sep-svcorch.yaml"
   ]
  },
  {
   "cell_type": "markdown",
   "id": "1ec22240",
   "metadata": {},
   "source": [
    "## Combiner"
   ]
  },
  {
   "cell_type": "code",
   "execution_count": null,
   "id": "5c08af72",
   "metadata": {},
   "outputs": [],
   "source": [
    "!cat combiner.yaml"
   ]
  },
  {
   "cell_type": "code",
   "execution_count": null,
   "id": "dc5fdbab",
   "metadata": {},
   "outputs": [],
   "source": [
    "!kubectl create -f combiner.yaml"
   ]
  },
  {
   "cell_type": "code",
   "execution_count": null,
   "id": "b4691f11",
   "metadata": {},
   "outputs": [],
   "source": [
    "!kubectl wait --for condition=ready --timeout=300s sdep --all -n seldon"
   ]
  },
  {
   "cell_type": "code",
   "execution_count": null,
   "id": "3268c165",
   "metadata": {},
   "outputs": [],
   "source": [
    "!curl -s -d '{\"data\": {\"ndarray\":[[1.0, 2.0, 5.0]]}}' \\\n",
    "   -X POST http://localhost:8003/seldon/seldon/test/api/v1.0/predictions \\\n",
    "   -H \"Content-Type: application/json\""
   ]
  },
  {
   "cell_type": "code",
   "execution_count": null,
   "id": "5895393c",
   "metadata": {},
   "outputs": [],
   "source": [
    "!kubectl delete -f combiner.yaml"
   ]
  },
  {
   "cell_type": "code",
   "execution_count": null,
   "id": "7b12320a",
   "metadata": {},
   "outputs": [],
   "source": []
  }
 ],
 "metadata": {
  "kernelspec": {
   "display_name": "base",
   "language": "python",
   "name": "python3"
  },
  "language_info": {
   "codemirror_mode": {
    "name": "ipython",
    "version": 3
   },
   "file_extension": ".py",
   "mimetype": "text/x-python",
   "name": "python",
   "nbconvert_exporter": "python",
   "pygments_lexer": "ipython3",
   "version": "3.9.12"
  },
  "vscode": {
   "interpreter": {
    "hash": "3c5b05c738269f3db37ab2b93400d252a3eceb4ebe547b00838e0efaaa2ac1dc"
   }
  }
 },
 "nbformat": 4,
 "nbformat_minor": 5
}
