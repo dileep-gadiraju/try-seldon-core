{
 "cells": [
  {
   "cell_type": "markdown",
   "metadata": {},
   "source": [
    "# Install MinIO in cluster"
   ]
  },
  {
   "cell_type": "markdown",
   "metadata": {},
   "source": [
    "## Helm install minio"
   ]
  },
  {
   "cell_type": "code",
   "execution_count": 12,
   "metadata": {},
   "outputs": [
    {
     "name": "stdout",
     "output_type": "stream",
     "text": [
      "\u001b[0;32mKubernetes control plane\u001b[0m is running at \u001b[0;33mhttps://127.0.0.1:53321\u001b[0m\n",
      "\u001b[0;32mCoreDNS\u001b[0m is running at \u001b[0;33mhttps://127.0.0.1:53321/api/v1/namespaces/kube-system/services/kube-dns:dns/proxy\u001b[0m\n",
      "\n",
      "To further debug and diagnose cluster problems, use 'kubectl cluster-info dump'.\n"
     ]
    }
   ],
   "source": [
    "%%bash\n",
    "kubectl cluster-info --context kind-seldon"
   ]
  },
  {
   "cell_type": "code",
   "execution_count": 13,
   "metadata": {},
   "outputs": [
    {
     "name": "stderr",
     "output_type": "stream",
     "text": [
      "Error from server (NotFound): namespaces \"minio-system\" not found\n"
     ]
    },
    {
     "name": "stdout",
     "output_type": "stream",
     "text": [
      "namespace/minio-system created\n",
      "\"minio\" already exists with the same configuration, skipping\n",
      "NAME: minio\n",
      "LAST DEPLOYED: Sat Dec 10 12:08:37 2022\n",
      "NAMESPACE: minio-system\n",
      "STATUS: deployed\n",
      "REVISION: 1\n",
      "TEST SUITE: None\n",
      "NOTES:\n",
      "Minio can be accessed via port 9000 on the following DNS name from within your cluster:\n",
      "minio.minio-system.svc.cluster.local\n",
      "\n",
      "To access Minio from localhost, run the below commands:\n",
      "\n",
      "  1. export POD_NAME=$(kubectl get pods --namespace minio-system -l \"release=minio\" -o jsonpath=\"{.items[0].metadata.name}\")\n",
      "\n",
      "  2. kubectl port-forward $POD_NAME 9000 --namespace minio-system\n",
      "\n",
      "Read more about port forwarding here: http://kubernetes.io/docs/user-guide/kubectl/kubectl_port-forward/\n",
      "\n",
      "You can now access Minio server on http://localhost:9000. Follow the below steps to connect to Minio server with mc client:\n",
      "\n",
      "  1. Download the Minio mc client - https://docs.minio.io/docs/minio-client-quickstart-guide\n",
      "\n",
      "  2. Get the ACCESS_KEY=$(kubectl get secret minio -o jsonpath=\"{.data.accesskey}\" | base64 --decode) and the SECRET_KEY=$(kubectl get secret minio -o jsonpath=\"{.data.secretkey}\" | base64 --decode)\n",
      "\n",
      "  3. mc alias set minio-local http://localhost:9000 \"$ACCESS_KEY\" \"$SECRET_KEY\" --api s3v4\n",
      "\n",
      "  4. mc ls minio-local\n",
      "\n",
      "Alternately, you can use your browser or the Minio SDK to access the server - https://docs.minio.io/categories/17\n"
     ]
    }
   ],
   "source": [
    "%%bash\n",
    "kubectl delete ns minio-system\n",
    "kubectl create ns minio-system\n",
    "helm repo add minio https://helm.min.io/\n",
    "helm install minio minio/minio \\\n",
    "    --set accessKey=minioadmin \\\n",
    "    --set secretKey=minioadmin \\\n",
    "    --namespace minio-system"
   ]
  },
  {
   "cell_type": "code",
   "execution_count": 14,
   "metadata": {},
   "outputs": [
    {
     "name": "stdout",
     "output_type": "stream",
     "text": [
      "deployment \"minio\" successfully rolled out\n"
     ]
    }
   ],
   "source": [
    "!kubectl rollout status deployment -n minio-system minio"
   ]
  },
  {
   "cell_type": "markdown",
   "metadata": {},
   "source": [
    "## port-forward Minio to localhost\n",
    "\n",
    "in separate terminal:\n",
    "\n",
    "```bash\n",
    "kubectl port-forward -n minio-system svc/minio 8090:9000\n",
    "```\n",
    "\n",
    "or follow instructions printed by helm"
   ]
  },
  {
   "cell_type": "markdown",
   "metadata": {},
   "source": [
    "## Install MinIO CLI client tool"
   ]
  },
  {
   "cell_type": "markdown",
   "metadata": {},
   "source": [
    "Install minio using `go get`:"
   ]
  },
  {
   "cell_type": "code",
   "execution_count": null,
   "metadata": {},
   "outputs": [],
   "source": [
    "%%bash\n",
    "GO111MODULE=on go get github.com/minio/mc"
   ]
  },
  {
   "cell_type": "markdown",
   "metadata": {},
   "source": [
    "Or follow steps relevant to your platform from official [documentation](https://docs.min.io/docs/minio-client-quickstart-guide.html)."
   ]
  },
  {
   "cell_type": "markdown",
   "metadata": {},
   "source": [
    "## Configure mc client to talk to your cluster"
   ]
  },
  {
   "cell_type": "code",
   "execution_count": 17,
   "metadata": {},
   "outputs": [
    {
     "name": "stdout",
     "output_type": "stream",
     "text": [
      "Added `minio-seldon` successfully.\n"
     ]
    }
   ],
   "source": [
    "%%bash\n",
    "mc config host add minio-seldon http://localhost:9000 minioadmin minioadmin"
   ]
  }
 ],
 "metadata": {
  "kernelspec": {
   "display_name": "base",
   "language": "python",
   "name": "python3"
  },
  "language_info": {
   "codemirror_mode": {
    "name": "ipython",
    "version": 3
   },
   "file_extension": ".py",
   "mimetype": "text/x-python",
   "name": "python",
   "nbconvert_exporter": "python",
   "pygments_lexer": "ipython3",
   "version": "3.9.12"
  },
  "vscode": {
   "interpreter": {
    "hash": "3c5b05c738269f3db37ab2b93400d252a3eceb4ebe547b00838e0efaaa2ac1dc"
   }
  }
 },
 "nbformat": 4,
 "nbformat_minor": 4
}
