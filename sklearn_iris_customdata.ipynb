{
 "cells": [
  {
   "cell_type": "markdown",
   "metadata": {},
   "source": [
    "# Scikit-Learn Iris Model using customData\n",
    "\n",
    "* Wrap a scikit-learn python model for use as a prediction microservice in seldon-core\n",
    "    * Run locally on Docker to test\n",
    "    * Deploy on seldon-core running on a Kubernetes cluster"
   ]
  },
  {
   "cell_type": "markdown",
   "metadata": {},
   "source": [
    "## Dependencies\n",
    "\n",
    "* [s2i](https://github.com/openshift/source-to-image)\n",
    "* Seldon Core v1.0.3+ installed\n",
    "* `pip install sklearn seldon-core protobuf grpcio`"
   ]
  },
  {
   "cell_type": "code",
   "execution_count": 47,
   "metadata": {},
   "outputs": [
    {
     "name": "stdout",
     "output_type": "stream",
     "text": [
      "Requirement already satisfied: sklearn in /Users/dileep.gadiraju/opt/anaconda3/lib/python3.9/site-packages (0.0.post1)\n",
      "Requirement already satisfied: seldon-core in /Users/dileep.gadiraju/opt/anaconda3/lib/python3.9/site-packages (1.14.1)\n",
      "Requirement already satisfied: protobuf in /Users/dileep.gadiraju/opt/anaconda3/lib/python3.9/site-packages (4.21.12)\n",
      "Requirement already satisfied: grpcio in /Users/dileep.gadiraju/opt/anaconda3/lib/python3.9/site-packages (1.51.1)\n",
      "Collecting protobuf\n",
      "  Using cached protobuf-3.20.3-cp39-cp39-macosx_10_9_x86_64.whl (982 kB)\n",
      "Requirement already satisfied: cryptography<3.5,>=3.4 in /Users/dileep.gadiraju/opt/anaconda3/lib/python3.9/site-packages (from seldon-core) (3.4.8)\n",
      "Requirement already satisfied: werkzeug<2.1 in /Users/dileep.gadiraju/opt/anaconda3/lib/python3.9/site-packages (from seldon-core) (1.0.1)\n",
      "Requirement already satisfied: setuptools>=41.0.0 in /Users/dileep.gadiraju/opt/anaconda3/lib/python3.9/site-packages (from seldon-core) (61.2.0)\n",
      "Requirement already satisfied: prometheus-client<0.9.0,>=0.7.1 in /Users/dileep.gadiraju/opt/anaconda3/lib/python3.9/site-packages (from seldon-core) (0.8.0)\n",
      "Requirement already satisfied: grpcio-reflection<1.35.0 in /Users/dileep.gadiraju/opt/anaconda3/lib/python3.9/site-packages (from seldon-core) (1.34.1)\n",
      "Requirement already satisfied: requests<3.0.0 in /Users/dileep.gadiraju/opt/anaconda3/lib/python3.9/site-packages (from seldon-core) (2.27.1)\n",
      "Requirement already satisfied: itsdangerous==1.1.0 in /Users/dileep.gadiraju/opt/anaconda3/lib/python3.9/site-packages (from seldon-core) (1.1.0)\n",
      "Requirement already satisfied: opentracing<2.5.0,>=2.2.0 in /Users/dileep.gadiraju/opt/anaconda3/lib/python3.9/site-packages (from seldon-core) (2.4.0)\n",
      "Requirement already satisfied: jaeger-client<4.5.0,>=4.1.0 in /Users/dileep.gadiraju/opt/anaconda3/lib/python3.9/site-packages (from seldon-core) (4.4.0)\n",
      "Requirement already satisfied: markupsafe==1.1.1 in /Users/dileep.gadiraju/opt/anaconda3/lib/python3.9/site-packages (from seldon-core) (1.1.1)\n",
      "Requirement already satisfied: flatbuffers<2.0.0 in /Users/dileep.gadiraju/opt/anaconda3/lib/python3.9/site-packages (from seldon-core) (1.12)\n",
      "Requirement already satisfied: PyYAML<5.5,>=5.4 in /Users/dileep.gadiraju/opt/anaconda3/lib/python3.9/site-packages (from seldon-core) (5.4.1)\n",
      "Requirement already satisfied: gunicorn<20.2.0,>=19.9.0 in /Users/dileep.gadiraju/opt/anaconda3/lib/python3.9/site-packages (from seldon-core) (20.1.0)\n",
      "Requirement already satisfied: numpy<2.0.0 in /Users/dileep.gadiraju/opt/anaconda3/lib/python3.9/site-packages (from seldon-core) (1.21.5)\n",
      "Requirement already satisfied: jsonschema<4.0.0 in /Users/dileep.gadiraju/opt/anaconda3/lib/python3.9/site-packages (from seldon-core) (3.2.0)\n",
      "Requirement already satisfied: click<8.1,>=8.0.0a1 in /Users/dileep.gadiraju/opt/anaconda3/lib/python3.9/site-packages (from seldon-core) (8.0.4)\n",
      "Requirement already satisfied: Flask-OpenTracing<1.2.0,>=1.1.0 in /Users/dileep.gadiraju/opt/anaconda3/lib/python3.9/site-packages (from seldon-core) (1.1.0)\n",
      "Requirement already satisfied: urllib3==1.26.5 in /Users/dileep.gadiraju/opt/anaconda3/lib/python3.9/site-packages (from seldon-core) (1.26.5)\n",
      "Requirement already satisfied: grpcio-opentracing<1.2.0,>=1.1.4 in /Users/dileep.gadiraju/opt/anaconda3/lib/python3.9/site-packages (from seldon-core) (1.1.4)\n",
      "Requirement already satisfied: Flask-cors<4.0.0 in /Users/dileep.gadiraju/opt/anaconda3/lib/python3.9/site-packages (from seldon-core) (3.0.10)\n",
      "Requirement already satisfied: Flask<2.0.0 in /Users/dileep.gadiraju/opt/anaconda3/lib/python3.9/site-packages (from seldon-core) (1.1.2)\n",
      "Requirement already satisfied: cffi>=1.12 in /Users/dileep.gadiraju/opt/anaconda3/lib/python3.9/site-packages (from cryptography<3.5,>=3.4->seldon-core) (1.15.0)\n",
      "Requirement already satisfied: Jinja2>=2.10.1 in /Users/dileep.gadiraju/opt/anaconda3/lib/python3.9/site-packages (from Flask<2.0.0->seldon-core) (2.11.3)\n",
      "Requirement already satisfied: Six in /Users/dileep.gadiraju/opt/anaconda3/lib/python3.9/site-packages (from Flask-cors<4.0.0->seldon-core) (1.16.0)\n",
      "Requirement already satisfied: tornado>=4.3 in /Users/dileep.gadiraju/opt/anaconda3/lib/python3.9/site-packages (from jaeger-client<4.5.0,>=4.1.0->seldon-core) (6.1)\n",
      "Requirement already satisfied: threadloop<2,>=1 in /Users/dileep.gadiraju/opt/anaconda3/lib/python3.9/site-packages (from jaeger-client<4.5.0,>=4.1.0->seldon-core) (1.0.2)\n",
      "Requirement already satisfied: thrift in /Users/dileep.gadiraju/opt/anaconda3/lib/python3.9/site-packages (from jaeger-client<4.5.0,>=4.1.0->seldon-core) (0.16.0)\n",
      "Requirement already satisfied: attrs>=17.4.0 in /Users/dileep.gadiraju/opt/anaconda3/lib/python3.9/site-packages (from jsonschema<4.0.0->seldon-core) (21.4.0)\n",
      "Requirement already satisfied: pyrsistent>=0.14.0 in /Users/dileep.gadiraju/opt/anaconda3/lib/python3.9/site-packages (from jsonschema<4.0.0->seldon-core) (0.18.0)\n",
      "Requirement already satisfied: idna<4,>=2.5 in /Users/dileep.gadiraju/opt/anaconda3/lib/python3.9/site-packages (from requests<3.0.0->seldon-core) (2.10)\n",
      "Requirement already satisfied: certifi>=2017.4.17 in /Users/dileep.gadiraju/opt/anaconda3/lib/python3.9/site-packages (from requests<3.0.0->seldon-core) (2021.10.8)\n",
      "Requirement already satisfied: charset-normalizer~=2.0.0 in /Users/dileep.gadiraju/opt/anaconda3/lib/python3.9/site-packages (from requests<3.0.0->seldon-core) (2.0.4)\n",
      "Requirement already satisfied: pycparser in /Users/dileep.gadiraju/opt/anaconda3/lib/python3.9/site-packages (from cffi>=1.12->cryptography<3.5,>=3.4->seldon-core) (2.21)\n",
      "Installing collected packages: protobuf\n",
      "  Attempting uninstall: protobuf\n",
      "    Found existing installation: protobuf 4.21.12\n",
      "    Uninstalling protobuf-4.21.12:\n",
      "      Successfully uninstalled protobuf-4.21.12\n",
      "\u001b[31mERROR: pip's dependency resolver does not currently take into account all the packages that are installed. This behaviour is the source of the following dependency conflicts.\n",
      "torch2tflite 1.0.0 requires tflite-runtime~=2.5, which is not installed.\n",
      "tensorflow 2.11.0 requires flatbuffers>=2.0, but you have flatbuffers 1.12 which is incompatible.\n",
      "tensorflow 2.11.0 requires protobuf<3.20,>=3.9.2, but you have protobuf 3.20.3 which is incompatible.\n",
      "tensorflow-serving-api 2.11.0 requires protobuf<3.20,>=3.9.2, but you have protobuf 3.20.3 which is incompatible.\n",
      "grpcio-tools 1.51.1 requires protobuf<5.0dev,>=4.21.6, but you have protobuf 3.20.3 which is incompatible.\n",
      "torch2tflite 1.0.0 requires torch==1.8.1, but you have torch 1.9.1 which is incompatible.\n",
      "onnx 1.12.0 requires protobuf<=3.20.1,>=3.12.2, but you have protobuf 3.20.3 which is incompatible.\u001b[0m\u001b[31m\n",
      "\u001b[0mSuccessfully installed protobuf-3.20.3\n",
      "Requirement already satisfied: grpcio-tools in /Users/dileep.gadiraju/opt/anaconda3/lib/python3.9/site-packages (1.51.1)\n",
      "Requirement already satisfied: setuptools in /Users/dileep.gadiraju/opt/anaconda3/lib/python3.9/site-packages (from grpcio-tools) (61.2.0)\n",
      "Requirement already satisfied: grpcio>=1.51.1 in /Users/dileep.gadiraju/opt/anaconda3/lib/python3.9/site-packages (from grpcio-tools) (1.51.1)\n",
      "Collecting protobuf<5.0dev,>=4.21.6\n",
      "  Using cached protobuf-4.21.12-cp37-abi3-macosx_10_9_universal2.whl (486 kB)\n",
      "Installing collected packages: protobuf\n",
      "  Attempting uninstall: protobuf\n",
      "    Found existing installation: protobuf 3.20.3\n",
      "    Uninstalling protobuf-3.20.3:\n",
      "      Successfully uninstalled protobuf-3.20.3\n",
      "\u001b[31mERROR: pip's dependency resolver does not currently take into account all the packages that are installed. This behaviour is the source of the following dependency conflicts.\n",
      "torch2tflite 1.0.0 requires tflite-runtime~=2.5, which is not installed.\n",
      "tensorflow 2.11.0 requires flatbuffers>=2.0, but you have flatbuffers 1.12 which is incompatible.\n",
      "tensorflow 2.11.0 requires protobuf<3.20,>=3.9.2, but you have protobuf 4.21.12 which is incompatible.\n",
      "tensorflow-serving-api 2.11.0 requires protobuf<3.20,>=3.9.2, but you have protobuf 4.21.12 which is incompatible.\n",
      "tensorboard 2.11.0 requires protobuf<4,>=3.9.2, but you have protobuf 4.21.12 which is incompatible.\n",
      "seldon-core 1.14.1 requires protobuf<4.0.0, but you have protobuf 4.21.12 which is incompatible.\n",
      "google-cloud-logging 2.7.2 requires protobuf<4.0.0dev, but you have protobuf 4.21.12 which is incompatible.\n",
      "torch2tflite 1.0.0 requires torch==1.8.1, but you have torch 1.9.1 which is incompatible.\n",
      "onnx 1.12.0 requires protobuf<=3.20.1,>=3.12.2, but you have protobuf 4.21.12 which is incompatible.\u001b[0m\u001b[31m\n",
      "\u001b[0mSuccessfully installed protobuf-4.21.12\n",
      "Requirement already satisfied: protobuf in /Users/dileep.gadiraju/opt/anaconda3/lib/python3.9/site-packages (4.21.12)\n",
      "Requirement already satisfied: pip in /Users/dileep.gadiraju/opt/anaconda3/lib/python3.9/site-packages (22.3.1)\n"
     ]
    }
   ],
   "source": [
    "!pip3 install sklearn seldon-core protobuf grpcio \n",
    "!pip3 install grpcio-tools\n",
    "!pip3 install --upgrade protobuf\n",
    "!pip3 install --upgrade pip"
   ]
  },
  {
   "cell_type": "code",
   "execution_count": 53,
   "metadata": {},
   "outputs": [
    {
     "name": "stdout",
     "output_type": "stream",
     "text": [
      "Found existing installation: protobuf 4.21.12\n",
      "Uninstalling protobuf-4.21.12:\n",
      "  Would remove:\n",
      "    /Users/dileep.gadiraju/opt/anaconda3/lib/python3.9/site-packages/google/_upb/_message.abi3.so\n",
      "    /Users/dileep.gadiraju/opt/anaconda3/lib/python3.9/site-packages/google/protobuf/*\n",
      "    /Users/dileep.gadiraju/opt/anaconda3/lib/python3.9/site-packages/protobuf-4.21.12.dist-info/*\n",
      "Proceed (Y/n)? ^C\n",
      "\u001b[31mERROR: Operation cancelled by user\u001b[0m\u001b[31m\n",
      "\u001b[0mCollecting protobuf==4.21\n",
      "  Downloading protobuf-4.21.0-cp37-abi3-macosx_10_9_universal2.whl (483 kB)\n",
      "\u001b[2K     \u001b[90m━━━━━━━━━━━━━━━━━━━━━━━━━━━━━━━━━━━━━━━\u001b[0m \u001b[32m483.0/483.0 kB\u001b[0m \u001b[31m4.0 MB/s\u001b[0m eta \u001b[36m0:00:00\u001b[0m00:01\u001b[0m00:01\u001b[0m\n",
      "\u001b[?25h\u001b[33mWARNING: The candidate selected for download or install is a yanked version: 'protobuf' candidate (version 4.21.0 at https://files.pythonhosted.org/packages/4a/a1/bca58f61cf6a36606cb8b12dd9f2dfa0cadde02dcd9e76a81fe3da77ba42/protobuf-4.21.0-cp37-abi3-macosx_10_9_universal2.whl (from https://pypi.org/simple/protobuf/))\n",
      "Reason for being yanked: Required python version not configured correctly (https://github.com/protocolbuffers/protobuf/issues/10076)\u001b[0m\u001b[33m\n",
      "\u001b[0m"
     ]
    }
   ],
   "source": [
    "# !pip3 uninstall protobuf\n",
    "!pip3 install protobuf==4.21"
   ]
  },
  {
   "cell_type": "markdown",
   "metadata": {},
   "source": [
    "## Train locally"
   ]
  },
  {
   "cell_type": "code",
   "execution_count": 48,
   "metadata": {},
   "outputs": [
    {
     "name": "stdout",
     "output_type": "stream",
     "text": [
      "Loading iris data set...\n",
      "Dataset loaded!\n",
      "Training model...\n",
      "Model trained!\n",
      "Saving model in ./custom-models/iris/IrisClassifier.sav\n",
      "Model saved!\n"
     ]
    },
    {
     "name": "stderr",
     "output_type": "stream",
     "text": [
      "/Users/dileep.gadiraju/opt/anaconda3/lib/python3.9/site-packages/sklearn/linear_model/_logistic.py:814: ConvergenceWarning: lbfgs failed to converge (status=1):\n",
      "STOP: TOTAL NO. of ITERATIONS REACHED LIMIT.\n",
      "\n",
      "Increase the number of iterations (max_iter) or scale the data as shown in:\n",
      "    https://scikit-learn.org/stable/modules/preprocessing.html\n",
      "Please also refer to the documentation for alternative solver options:\n",
      "    https://scikit-learn.org/stable/modules/linear_model.html#logistic-regression\n",
      "  n_iter_i = _check_optimize_result(\n"
     ]
    }
   ],
   "source": [
    "import os\n",
    "\n",
    "import numpy as np\n",
    "from sklearn import datasets\n",
    "import joblib\n",
    "from sklearn.linear_model import LogisticRegression\n",
    "from sklearn.pipeline import Pipeline\n",
    "\n",
    "\n",
    "def main():\n",
    "    clf = LogisticRegression()\n",
    "    p = Pipeline([(\"clf\", clf)])\n",
    "    print(\"Training model...\")\n",
    "    p.fit(X, y)\n",
    "    print(\"Model trained!\")\n",
    "\n",
    "    filename_p = \"./custom-models/iris/IrisClassifier.sav\"\n",
    "    print(\"Saving model in %s\" % filename_p)\n",
    "    joblib.dump(p, filename_p)\n",
    "    print(\"Model saved!\")\n",
    "\n",
    "\n",
    "if __name__ == \"__main__\":\n",
    "    print(\"Loading iris data set...\")\n",
    "    iris = datasets.load_iris()\n",
    "    X, y = iris.data, iris.target\n",
    "    print(\"Dataset loaded!\")\n",
    "    main()"
   ]
  },
  {
   "cell_type": "markdown",
   "metadata": {},
   "source": [
    "## Custom Protobuf Specification\n",
    "\n",
    "First, we'll need to define our custom protobuf specification so that it can be leveraged."
   ]
  },
  {
   "cell_type": "code",
   "execution_count": 49,
   "metadata": {},
   "outputs": [
    {
     "name": "stdout",
     "output_type": "stream",
     "text": [
      "Overwriting ./custom-models/iris/iris.proto\n"
     ]
    }
   ],
   "source": [
    "%%writefile ./custom-models/iris/iris.proto\n",
    "\n",
    "syntax = \"proto3\";\n",
    "\n",
    "package iris;\n",
    "\n",
    "message IrisPredictRequest {\n",
    "    float sepal_length = 1;\n",
    "    float sepal_width = 2;\n",
    "    float petal_length = 3;\n",
    "    float petal_width = 4;\n",
    "}\n",
    "\n",
    "message IrisPredictResponse {\n",
    "    float setosa = 1;\n",
    "    float versicolor = 2;\n",
    "    float virginica = 3;\n",
    "}"
   ]
  },
  {
   "cell_type": "markdown",
   "metadata": {},
   "source": [
    "## Custom Protobuf Compilation\n",
    "\n",
    "We will need to compile our custom protobuf for python so that we can unpack the `customData` field passed to our `predict` method later on."
   ]
  },
  {
   "cell_type": "code",
   "execution_count": 50,
   "metadata": {},
   "outputs": [],
   "source": [
    "!python3 -m grpc.tools.protoc --python_out=./custom-models/iris --proto_path=./custom-models/iris iris.proto"
   ]
  },
  {
   "cell_type": "markdown",
   "metadata": {},
   "source": [
    "## gRPC test\n",
    "\n",
    "Wrap model using s2i"
   ]
  },
  {
   "cell_type": "code",
   "execution_count": 51,
   "metadata": {
    "scrolled": true
   },
   "outputs": [
    {
     "name": "stdout",
     "output_type": "stream",
     "text": [
      "error: Unable to load docker config: json: cannot unmarshal string into Go value of type docker.dockerConfig\n",
      "---> Installing application source...\n",
      "Collecting pip-licenses\n",
      "Downloading pip_licenses-3.5.5-py3-none-any.whl (17 kB)\n",
      "Collecting PTable\n",
      "Downloading PTable-0.9.2.tar.gz (31 kB)\n",
      "Building wheels for collected packages: PTable\n",
      "Building wheel for PTable (setup.py): started\n",
      "Building wheel for PTable (setup.py): finished with status 'done'\n",
      "Created wheel for PTable: filename=PTable-0.9.2-py3-none-any.whl size=22907 sha256=2298be0ca09b501316053819a12b0c02e426675d37094f0178a6ef9b90b11fed\n",
      "Stored in directory: /root/.cache/pip/wheels/33/df/2f/674985b3f8a2de3f96357d1eadef5110f74fa91b3785e52a54\n",
      "Successfully built PTable\n",
      "Installing collected packages: PTable, pip-licenses\n",
      "Successfully installed PTable-0.9.2 pip-licenses-3.5.5\n",
      "WARNING: You are using pip version 20.2; however, version 22.3.1 is available.\n",
      "You should consider upgrading via the '/opt/conda/bin/python -m pip install --upgrade pip' command.\n",
      "created path: ./licenses/license_info.csv\n",
      "created path: ./licenses/license.txt\n",
      "Build completed successfully\n"
     ]
    }
   ],
   "source": [
    "!s2i build ./custom-models/iris seldonio/seldon-core-s2i-python37-ubi8:1.7.0-dev seldonio/sklearn-iris-customdata:0.1 --env MODEL_NAME=\"iris_pb2.py\" --env SERVICE_TYPE=\"MODEL\" --env PERSISTENCE=0"
   ]
  },
  {
   "cell_type": "markdown",
   "metadata": {},
   "source": [
    "Serve the model locally"
   ]
  },
  {
   "cell_type": "code",
   "execution_count": 38,
   "metadata": {},
   "outputs": [
    {
     "name": "stdout",
     "output_type": "stream",
     "text": [
      "b98aeeb76c816c8db54e666b7892e5aae27b351d314678d54799d258b8d1934c\n"
     ]
    }
   ],
   "source": [
    "!docker run --name \"iris_predictor\" -d --rm -p 5000:5000 seldonio/sklearn-iris-customdata:0.1"
   ]
  },
  {
   "cell_type": "markdown",
   "metadata": {},
   "source": [
    "Test using custom protobuf payload"
   ]
  },
  {
   "cell_type": "code",
   "execution_count": null,
   "metadata": {},
   "outputs": [],
   "source": [
    "import grpc\n",
    "from iris_pb2 import IrisPredictRequest, IrisPredictResponse\n",
    "\n",
    "from seldon_core.proto import prediction_pb2, prediction_pb2_grpc\n",
    "\n",
    "channel = grpc.insecure_channel(\"localhost:5000\")\n",
    "stub = prediction_pb2_grpc.ModelStub(channel)\n",
    "\n",
    "iris_request = IrisPredictRequest(\n",
    "    sepal_length=7.233, sepal_width=4.652, petal_length=7.39, petal_width=0.324\n",
    ")\n",
    "\n",
    "seldon_request = prediction_pb2.SeldonMessage()\n",
    "seldon_request.customData.Pack(iris_request)\n",
    "\n",
    "response = stub.Predict(seldon_request)\n",
    "\n",
    "iris_response = IrisPredictResponse()\n",
    "response.customData.Unpack(iris_response)\n",
    "\n",
    "print(iris_response)"
   ]
  },
  {
   "cell_type": "markdown",
   "metadata": {},
   "source": [
    "Stop serving model"
   ]
  },
  {
   "cell_type": "code",
   "execution_count": null,
   "metadata": {},
   "outputs": [],
   "source": [
    "!docker rm iris_predictor --force"
   ]
  },
  {
   "cell_type": "markdown",
   "metadata": {},
   "source": [
    "## Setup Seldon Core\n",
    "\n",
    "Use the [setup notebook](https://github.com/SeldonIO/seldon-core/blob/master/notebooks/seldon_core_setup.ipynb) to setup Seldon Core with an ingress - either Ambassador or Istio\n",
    "\n",
    "Then port-forward to that ingress on localhost:8003 in a separate terminal either with:\n",
    "\n",
    "* Ambassador: `kubectl port-forward $(kubectl get pods -n seldon -l app.kubernetes.io/name=ambassador -o jsonpath='{.items[0].metadata.name}') -n seldon 8003:8080`\n",
    "* Istio: `kubectl port-forward $(kubectl get pods -l istio=ingressgateway -n istio-system -o jsonpath='{.items[0].metadata.name}') -n istio-system 8003:80`"
   ]
  },
  {
   "cell_type": "code",
   "execution_count": null,
   "metadata": {},
   "outputs": [],
   "source": [
    "!kubectl create namespace seldon"
   ]
  },
  {
   "cell_type": "code",
   "execution_count": null,
   "metadata": {},
   "outputs": [],
   "source": [
    "!kubectl config set-context $(kubectl config current-context) --namespace=seldon"
   ]
  },
  {
   "cell_type": "markdown",
   "metadata": {},
   "source": [
    "## Deploy your Seldon Model\n",
    "\n",
    "We first create a configuration file:"
   ]
  },
  {
   "cell_type": "code",
   "execution_count": null,
   "metadata": {},
   "outputs": [],
   "source": [
    "%%writefile sklearn_iris_customdata_deployment.yaml\n",
    "\n",
    "apiVersion: machinelearning.seldon.io/v1\n",
    "kind: SeldonDeployment\n",
    "metadata:\n",
    "  name: seldon-deployment-example\n",
    "spec:\n",
    "  name: sklearn-iris-deployment\n",
    "  predictors:\n",
    "  - componentSpecs:\n",
    "    - spec:\n",
    "        containers:\n",
    "        - image: groszewn/sklearn-iris-customdata:0.1\n",
    "          imagePullPolicy: IfNotPresent\n",
    "          name: sklearn-iris-classifier\n",
    "    graph:\n",
    "      children: []\n",
    "      endpoint:\n",
    "        type: GRPC\n",
    "      name: sklearn-iris-classifier\n",
    "      type: MODEL\n",
    "    name: sklearn-iris-predictor\n",
    "    replicas: 1"
   ]
  },
  {
   "cell_type": "markdown",
   "metadata": {},
   "source": [
    "### Run the model in our cluster\n",
    "\n",
    "Apply the Seldon Deployment configuration file we just created"
   ]
  },
  {
   "cell_type": "code",
   "execution_count": null,
   "metadata": {},
   "outputs": [],
   "source": [
    "!kubectl create -f sklearn_iris_customdata_deployment.yaml"
   ]
  },
  {
   "cell_type": "markdown",
   "metadata": {},
   "source": [
    "### Check that the model has been deployed"
   ]
  },
  {
   "cell_type": "code",
   "execution_count": null,
   "metadata": {},
   "outputs": [],
   "source": [
    "!kubectl rollout status deploy/$(kubectl get deploy -l seldon-deployment-id=seldon-deployment-example -o jsonpath='{.items[0].metadata.name}')"
   ]
  },
  {
   "cell_type": "markdown",
   "metadata": {},
   "source": [
    "## Test by sending prediction calls\n",
    "\n",
    "`IrisPredictRequest` sent via the `customData` field."
   ]
  },
  {
   "cell_type": "code",
   "execution_count": null,
   "metadata": {},
   "outputs": [],
   "source": [
    "iris_request = IrisPredictRequest(\n",
    "    sepal_length=7.233, sepal_width=4.652, petal_length=7.39, petal_width=0.324\n",
    ")\n",
    "\n",
    "seldon_request = prediction_pb2.SeldonMessage()\n",
    "seldon_request.customData.Pack(iris_request)\n",
    "\n",
    "channel = grpc.insecure_channel(\"localhost:8003\")\n",
    "stub = prediction_pb2_grpc.SeldonStub(channel)\n",
    "\n",
    "metadata = [(\"seldon\", \"seldon-deployment-example\"), (\"namespace\", \"seldon\")]\n",
    "\n",
    "response = stub.Predict(request=seldon_request, metadata=metadata)\n",
    "\n",
    "iris_response = IrisPredictResponse()\n",
    "response.customData.Unpack(iris_response)\n",
    "\n",
    "print(iris_response)"
   ]
  },
  {
   "cell_type": "markdown",
   "metadata": {},
   "source": [
    "### Cleanup our deployment"
   ]
  },
  {
   "cell_type": "code",
   "execution_count": null,
   "metadata": {},
   "outputs": [],
   "source": [
    "!kubectl delete -f sklearn_iris_customdata_deployment.yaml"
   ]
  }
 ],
 "metadata": {
  "kernelspec": {
   "display_name": "base",
   "language": "python",
   "name": "python3"
  },
  "language_info": {
   "codemirror_mode": {
    "name": "ipython",
    "version": 3
   },
   "file_extension": ".py",
   "mimetype": "text/x-python",
   "name": "python",
   "nbconvert_exporter": "python",
   "pygments_lexer": "ipython3",
   "version": "3.9.12"
  },
  "vscode": {
   "interpreter": {
    "hash": "3c5b05c738269f3db37ab2b93400d252a3eceb4ebe547b00838e0efaaa2ac1dc"
   }
  }
 },
 "nbformat": 4,
 "nbformat_minor": 4
}
