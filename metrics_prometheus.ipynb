{
 "cells": [
  {
   "attachments": {},
   "cell_type": "markdown",
   "id": "18a9259d-8e0f-4a03-9884-d5e755fa0a93",
   "metadata": {},
   "source": [
    "# Basic Examples of Metrics with Prometheus Operator\n",
    "\n",
    "## Prerequisites\n",
    "\n",
    " * A kubernetes cluster with kubectl configured\n",
    " * curl\n",
    " \n",
    "\n",
    "## Setup Seldon Core\n",
    "\n",
    "Install Seldon Core as described in [docs](https://docs.seldon.io/projects/seldon-core/en/latest/workflow/install.html).\n",
    "\n",
    "Then port-forward to that ingress on localhost:8004 in a separate terminal either with:\n",
    "```bash\n",
    "kubectl port-forward -n istio-system svc/istio-ingressgateway 8004:80\n",
    "```"
   ]
  },
  {
   "cell_type": "code",
   "execution_count": 23,
   "id": "daeea512-4a13-4c06-9e66-c09d3d125d32",
   "metadata": {},
   "outputs": [
    {
     "name": "stderr",
     "output_type": "stream",
     "text": [
      "Error from server (AlreadyExists): namespaces \"seldon\" already exists\n"
     ]
    },
    {
     "name": "stdout",
     "output_type": "stream",
     "text": [
      "Seldon namespace already exists\n",
      "Context \"kind-seldon\" modified.\n"
     ]
    }
   ],
   "source": [
    "%%bash\n",
    "kubectl create namespace seldon || echo \"Seldon namespace already exists\"\n",
    "kubectl config set-context $(kubectl config current-context) --namespace=seldon"
   ]
  },
  {
   "cell_type": "markdown",
   "id": "8f3d861f-1b1c-4125-be2c-2323138fc86e",
   "metadata": {},
   "source": [
    "## Install Prometheus Operator"
   ]
  },
  {
   "cell_type": "code",
   "execution_count": 24,
   "id": "64b71ab8-ba35-420c-8160-3c7bbff657c0",
   "metadata": {},
   "outputs": [
    {
     "name": "stderr",
     "output_type": "stream",
     "text": [
      "Error from server (AlreadyExists): namespaces \"seldon-monitoring\" already exists\n"
     ]
    },
    {
     "name": "stdout",
     "output_type": "stream",
     "text": [
      "\"bitnami\" already exists with the same configuration, skipping\n",
      "Release \"seldon-monitoring\" does not exist. Installing it now.\n"
     ]
    },
    {
     "name": "stderr",
     "output_type": "stream",
     "text": [
      "W0117 10:06:04.533081   15170 warnings.go:70] policy/v1beta1 PodSecurityPolicy is deprecated in v1.21+, unavailable in v1.25+\n",
      "W0117 10:06:04.535757   15170 warnings.go:70] policy/v1beta1 PodSecurityPolicy is deprecated in v1.21+, unavailable in v1.25+\n",
      "W0117 10:06:04.539793   15170 warnings.go:70] policy/v1beta1 PodSecurityPolicy is deprecated in v1.21+, unavailable in v1.25+\n",
      "W0117 10:06:04.543044   15170 warnings.go:70] policy/v1beta1 PodSecurityPolicy is deprecated in v1.21+, unavailable in v1.25+\n",
      "W0117 10:06:04.547089   15170 warnings.go:70] policy/v1beta1 PodSecurityPolicy is deprecated in v1.21+, unavailable in v1.25+\n",
      "W0117 10:06:05.071156   15170 warnings.go:70] policy/v1beta1 PodSecurityPolicy is deprecated in v1.21+, unavailable in v1.25+\n",
      "W0117 10:06:05.072233   15170 warnings.go:70] policy/v1beta1 PodSecurityPolicy is deprecated in v1.21+, unavailable in v1.25+\n",
      "W0117 10:06:05.072357   15170 warnings.go:70] policy/v1beta1 PodSecurityPolicy is deprecated in v1.21+, unavailable in v1.25+\n",
      "W0117 10:06:05.072390   15170 warnings.go:70] policy/v1beta1 PodSecurityPolicy is deprecated in v1.21+, unavailable in v1.25+\n",
      "W0117 10:06:05.072467   15170 warnings.go:70] policy/v1beta1 PodSecurityPolicy is deprecated in v1.21+, unavailable in v1.25+\n"
     ]
    },
    {
     "name": "stdout",
     "output_type": "stream",
     "text": [
      "NAME: seldon-monitoring\n",
      "LAST DEPLOYED: Tue Jan 17 10:06:02 2023\n",
      "NAMESPACE: seldon-monitoring\n",
      "STATUS: deployed\n",
      "REVISION: 1\n",
      "TEST SUITE: None\n",
      "NOTES:\n",
      "CHART NAME: kube-prometheus\n",
      "CHART VERSION: 8.3.1\n",
      "APP VERSION: 0.61.1\n",
      "\n",
      "** Please be patient while the chart is being deployed **\n",
      "\n",
      "Watch the Prometheus Operator Deployment status using the command:\n",
      "\n",
      "    kubectl get deploy -w --namespace seldon-monitoring -l app.kubernetes.io/name=kube-prometheus-operator,app.kubernetes.io/instance=seldon-monitoring\n",
      "\n",
      "Watch the Prometheus StatefulSet status using the command:\n",
      "\n",
      "    kubectl get sts -w --namespace seldon-monitoring -l app.kubernetes.io/name=kube-prometheus-prometheus,app.kubernetes.io/instance=seldon-monitoring\n",
      "\n",
      "Prometheus can be accessed via port \"9090\" on the following DNS name from within your cluster:\n",
      "\n",
      "    seldon-monitoring-prometheus.seldon-monitoring.svc.cluster.local\n",
      "\n",
      "To access Prometheus from outside the cluster execute the following commands:\n",
      "\n",
      "    echo \"Prometheus URL: http://127.0.0.1:9090/\"\n",
      "    kubectl port-forward --namespace seldon-monitoring svc/seldon-monitoring-prometheus 9090:9090\n",
      "\n",
      "Watch the Alertmanager StatefulSet status using the command:\n",
      "\n",
      "    kubectl get sts -w --namespace seldon-monitoring -l app.kubernetes.io/name=kube-prometheus-alertmanager,app.kubernetes.io/instance=seldon-monitoring\n",
      "\n",
      "Alertmanager can be accessed via port \"9093\" on the following DNS name from within your cluster:\n",
      "\n",
      "    seldon-monitoring-alertmanager.seldon-monitoring.svc.cluster.local\n",
      "\n",
      "To access Alertmanager from outside the cluster execute the following commands:\n",
      "\n",
      "    echo \"Alertmanager URL: http://127.0.0.1:9093/\"\n",
      "    kubectl port-forward --namespace seldon-monitoring svc/seldon-monitoring-alertmanager 9093:9093\n"
     ]
    }
   ],
   "source": [
    "%%bash\n",
    "kubectl create namespace seldon-monitoring\n",
    "helm repo add bitnami https://charts.bitnami.com/bitnami\n",
    "# Note: we set prometheus.scrapeInterval=1s for CI tests reliability here\n",
    "helm upgrade --install seldon-monitoring kube-prometheus \\\n",
    "    --version 8.3.1 \\\n",
    "    --set fullnameOverride=seldon-monitoring \\\n",
    "    --namespace seldon-monitoring \\\n",
    "    --repo https://charts.bitnami.com/bitnami"
   ]
  },
  {
   "cell_type": "code",
   "execution_count": 3,
   "id": "e7cf56f9",
   "metadata": {},
   "outputs": [
    {
     "name": "stdout",
     "output_type": "stream",
     "text": [
      "NAME                                                        READY   STATUS    RESTARTS   AGE\n",
      "pod/alertmanager-seldon-monitoring-alertmanager-0           2/2     Running   0          3m2s\n",
      "pod/prometheus-seldon-monitoring-prometheus-0               2/2     Running   0          3m1s\n",
      "pod/seldon-monitoring-blackbox-exporter-7d5f5895d8-czwkj    1/1     Running   0          3m4s\n",
      "pod/seldon-monitoring-kube-state-metrics-5dd77fd87d-sf755   1/1     Running   0          3m4s\n",
      "pod/seldon-monitoring-node-exporter-gtjvk                   0/1     Pending   0          3m4s\n",
      "pod/seldon-monitoring-operator-bd4fd7b75-nwfrx              1/1     Running   0          3m4s\n",
      "\n",
      "NAME                                           TYPE        CLUSTER-IP      EXTERNAL-IP   PORT(S)                      AGE\n",
      "service/alertmanager-operated                  ClusterIP   None            <none>        9093/TCP,9094/TCP,9094/UDP   3m2s\n",
      "service/prometheus-operated                    ClusterIP   None            <none>        9090/TCP                     3m1s\n",
      "service/seldon-monitoring-alertmanager         ClusterIP   10.96.183.155   <none>        9093/TCP                     3m5s\n",
      "service/seldon-monitoring-blackbox-exporter    ClusterIP   10.96.63.39     <none>        19115/TCP                    3m5s\n",
      "service/seldon-monitoring-kube-state-metrics   ClusterIP   10.96.126.222   <none>        8080/TCP                     3m5s\n",
      "service/seldon-monitoring-node-exporter        ClusterIP   10.96.157.255   <none>        9100/TCP                     3m5s\n",
      "service/seldon-monitoring-operator             ClusterIP   10.96.179.115   <none>        8080/TCP                     3m5s\n",
      "service/seldon-monitoring-prometheus           ClusterIP   10.96.202.26    <none>        9090/TCP                     3m5s\n",
      "\n",
      "NAME                                             DESIRED   CURRENT   READY   UP-TO-DATE   AVAILABLE   NODE SELECTOR   AGE\n",
      "daemonset.apps/seldon-monitoring-node-exporter   1         1         0       1            0           <none>          3m5s\n",
      "\n",
      "NAME                                                   READY   UP-TO-DATE   AVAILABLE   AGE\n",
      "deployment.apps/seldon-monitoring-blackbox-exporter    1/1     1            1           3m5s\n",
      "deployment.apps/seldon-monitoring-kube-state-metrics   1/1     1            1           3m5s\n",
      "deployment.apps/seldon-monitoring-operator             1/1     1            1           3m5s\n",
      "\n",
      "NAME                                                              DESIRED   CURRENT   READY   AGE\n",
      "replicaset.apps/seldon-monitoring-blackbox-exporter-7d5f5895d8    1         1         1       3m5s\n",
      "replicaset.apps/seldon-monitoring-kube-state-metrics-5dd77fd87d   1         1         1       3m5s\n",
      "replicaset.apps/seldon-monitoring-operator-bd4fd7b75              1         1         1       3m4s\n",
      "\n",
      "NAME                                                           READY   AGE\n",
      "statefulset.apps/alertmanager-seldon-monitoring-alertmanager   1/1     3m2s\n",
      "statefulset.apps/prometheus-seldon-monitoring-prometheus       1/1     3m1s\n"
     ]
    }
   ],
   "source": [
    "!kubectl get all -n seldon-monitoring"
   ]
  },
  {
   "cell_type": "code",
   "execution_count": 25,
   "id": "0a808114-e0cf-4033-9374-bc9d8e1bb018",
   "metadata": {},
   "outputs": [
    {
     "name": "stdout",
     "output_type": "stream",
     "text": [
      "deployment \"seldon-monitoring-operator\" successfully rolled out\n",
      "statefulset rolling update complete 1 pods at revision prometheus-seldon-monitoring-prometheus-7b486666c5...\n",
      "statefulset rolling update complete 1 pods at revision prometheus-seldon-monitoring-prometheus-7b486666c5...\n"
     ]
    }
   ],
   "source": [
    "%%bash\n",
    "# Extra sleep as statefulset is not always present right away\n",
    "sleep 5 \n",
    "kubectl rollout status -n seldon-monitoring deployment/seldon-monitoring-operator\n",
    "kubectl rollout status -n seldon-monitoring statefulset.apps/prometheus-seldon-monitoring-prometheus\n",
    "kubectl rollout status -n seldon-monitoring statefulsets/prometheus-seldon-monitoring-prometheus"
   ]
  },
  {
   "cell_type": "code",
   "execution_count": 26,
   "id": "02d2c5c9-704c-48dc-b5e6-c1b7bf700384",
   "metadata": {},
   "outputs": [
    {
     "name": "stdout",
     "output_type": "stream",
     "text": [
      "podmonitor.monitoring.coreos.com/seldon-podmonitor unchanged\n"
     ]
    }
   ],
   "source": [
    "%%bash\n",
    "cat <<EOF | kubectl apply -f -\n",
    "apiVersion: monitoring.coreos.com/v1\n",
    "kind: PodMonitor\n",
    "metadata:\n",
    "  name: seldon-podmonitor\n",
    "  namespace: seldon-monitoring\n",
    "spec:\n",
    "  selector:\n",
    "    matchLabels:\n",
    "      app.kubernetes.io/managed-by: seldon-core\n",
    "  podMetricsEndpoints:\n",
    "    - port: metrics\n",
    "      path: /prometheus\n",
    "  namespaceSelector:\n",
    "    any: true\n",
    "EOF"
   ]
  },
  {
   "cell_type": "markdown",
   "id": "d9d0052c-ee64-44b0-a259-dc56e8287da2",
   "metadata": {},
   "source": [
    "## Deploy Example Model"
   ]
  },
  {
   "cell_type": "code",
   "execution_count": 27,
   "id": "ef44380c-7a4e-4deb-ac3a-0dba88098c50",
   "metadata": {},
   "outputs": [
    {
     "name": "stdout",
     "output_type": "stream",
     "text": [
      "Overwriting echo-sdep.yaml\n"
     ]
    }
   ],
   "source": [
    "%%writefile echo-sdep.yaml\n",
    "apiVersion: machinelearning.seldon.io/v1\n",
    "kind: SeldonDeployment\n",
    "metadata:\n",
    "  name: echo\n",
    "  namespace: seldon\n",
    "spec:\n",
    "  predictors:\n",
    "  - name: default\n",
    "    replicas: 1\n",
    "    graph:\n",
    "      name: classifier\n",
    "      type: MODEL\n",
    "    componentSpecs:\n",
    "    - spec:\n",
    "        containers:\n",
    "        - image: seldonio/echo-model:1.15.0-dev\n",
    "          name: classifier"
   ]
  },
  {
   "cell_type": "code",
   "execution_count": 28,
   "id": "68615758-07a3-420e-977a-88d9962f6ae6",
   "metadata": {},
   "outputs": [
    {
     "name": "stdout",
     "output_type": "stream",
     "text": [
      "Error from server (NotFound): error when deleting \"echo-sdep.yaml\": seldondeployments.machinelearning.seldon.io \"echo\" not found\n",
      "seldondeployment.machinelearning.seldon.io/echo created\n"
     ]
    }
   ],
   "source": [
    "!kubectl delete -f echo-sdep.yaml\n",
    "!kubectl apply -f echo-sdep.yaml"
   ]
  },
  {
   "cell_type": "code",
   "execution_count": 29,
   "id": "15b44a10-2fd0-4ccf-89fc-f57561f8f66f",
   "metadata": {},
   "outputs": [
    {
     "name": "stdout",
     "output_type": "stream",
     "text": [
      "Waiting for deployment \"echo-default-0-classifier\" rollout to finish: 0 of 1 updated replicas are available...\n",
      "deployment \"echo-default-0-classifier\" successfully rolled out\n"
     ]
    }
   ],
   "source": [
    "%%bash\n",
    "deployment=$(kubectl get deploy -l seldon-deployment-id=echo -o jsonpath='{.items[0].metadata.name}')\n",
    "kubectl rollout status deploy/${deployment}"
   ]
  },
  {
   "cell_type": "markdown",
   "id": "a2fb60f9-6eea-46c6-9cd2-ad6e69ce0c6d",
   "metadata": {},
   "source": [
    "## Sent series of REST requests"
   ]
  },
  {
   "cell_type": "code",
   "execution_count": 35,
   "id": "65961c3c-2eba-4610-a751-1faee739f723",
   "metadata": {},
   "outputs": [
    {
     "name": "stdout",
     "output_type": "stream",
     "text": [
      "Waiting 5s for model to fully ready\n",
      "Waiting 10s for Prometheus to scrape metrics\n"
     ]
    }
   ],
   "source": [
    "%%bash\n",
    "\n",
    "# Wait for the model to become fully ready\n",
    "echo \"Waiting 5s for model to fully ready\"\n",
    "sleep 5\n",
    "\n",
    "# Send 20 requests to REST endpoint\n",
    "for i in `seq 1 10`; do sleep 0.1 && \\\n",
    "   curl -s -H \"Content-Type: application/json\" \\\n",
    "   -d '{\"data\": {\"ndarray\":[[1.0, 2.0, 5.0]]}}' \\\n",
    "   http://localhost:8004/seldon/seldon/echo/api/v1.0/predictions > /dev/null ; \\\n",
    "done\n",
    "\n",
    "# Give time for metrics to get collected by Prometheus\n",
    "echo \"Waiting 10s for Prometheus to scrape metrics\"\n",
    "sleep 10"
   ]
  },
  {
   "cell_type": "markdown",
   "id": "d7be3a3f-fa33-4942-afa7-0ccc13ac12cc",
   "metadata": {},
   "source": [
    "## Check Metrics (REST)"
   ]
  },
  {
   "cell_type": "code",
   "execution_count": 36,
   "id": "8f7658f3-6dc6-4d42-96c2-664a29dea9b9",
   "metadata": {},
   "outputs": [],
   "source": [
    "import json"
   ]
  },
  {
   "cell_type": "code",
   "execution_count": 37,
   "id": "856542d5-5d19-4954-bbcd-6ff9d55c07da",
   "metadata": {},
   "outputs": [
    {
     "name": "stdout",
     "output_type": "stream",
     "text": [
      "Overwriting get-metrics.sh\n"
     ]
    }
   ],
   "source": [
    "%%writefile get-metrics.sh\n",
    "QUERY='query=seldon_api_executor_client_requests_seconds_count{deployment_name=~\"echo\",namespace=~\"seldon\",method=~\"post\"}'\n",
    "QUERY_URL=http://seldon-monitoring-prometheus.seldon-monitoring.svc.cluster.local:9090/api/v1/query\n",
    "\n",
    "kubectl run --quiet=true -it --rm curlmetrics-$(date +%s) --image=radial/busyboxplus:curl --restart=Never -- \\\n",
    "    curl --data-urlencode ${QUERY} ${QUERY_URL}"
   ]
  },
  {
   "cell_type": "code",
   "execution_count": 38,
   "id": "4d99a102-2edf-427a-9dd2-589a675ae3c5",
   "metadata": {},
   "outputs": [],
   "source": [
    "metrics = ! bash get-metrics.sh\n",
    "metrics = json.loads(metrics[0])"
   ]
  },
  {
   "cell_type": "code",
   "execution_count": 39,
   "id": "4482f74e-d9e4-4162-aff3-547096bc4f64",
   "metadata": {},
   "outputs": [
    {
     "data": {
      "text/plain": [
       "{'status': 'success',\n",
       " 'data': {'resultType': 'vector',\n",
       "  'result': [{'metric': {'__name__': 'seldon_api_executor_client_requests_seconds_count',\n",
       "     'code': '200',\n",
       "     'container': 'seldon-container-engine',\n",
       "     'deployment_name': 'echo',\n",
       "     'endpoint': 'metrics',\n",
       "     'instance': '10.244.0.36:8000',\n",
       "     'job': 'seldon-monitoring/seldon-podmonitor',\n",
       "     'method': 'post',\n",
       "     'model_image': 'seldonio/echo-model',\n",
       "     'model_name': 'classifier',\n",
       "     'model_version': '1.15.0-dev',\n",
       "     'namespace': 'seldon',\n",
       "     'pod': 'echo-default-0-classifier-6f8fd9d7b8-ht4g2',\n",
       "     'predictor_name': 'default',\n",
       "     'service': '/predict'},\n",
       "    'value': [1673930453.285, '10']}]}}"
      ]
     },
     "execution_count": 39,
     "metadata": {},
     "output_type": "execute_result"
    }
   ],
   "source": [
    "metrics"
   ]
  },
  {
   "cell_type": "code",
   "execution_count": 40,
   "id": "c6747dd2-b57a-4c06-ae24-f9d33d2d12d7",
   "metadata": {},
   "outputs": [],
   "source": [
    "counter = int(metrics[\"data\"][\"result\"][0][\"value\"][1])\n",
    "assert counter == 10, f\"expected 10 requests, got {counter}\""
   ]
  },
  {
   "cell_type": "markdown",
   "id": "71d8bfa6-9d74-4e57-94fd-de77e5aa62ab",
   "metadata": {},
   "source": [
    "## Send series GRPC requests"
   ]
  },
  {
   "cell_type": "code",
   "execution_count": 42,
   "id": "3837706f-e3d4-4769-8baf-28b5b93a27a9",
   "metadata": {},
   "outputs": [
    {
     "name": "stdout",
     "output_type": "stream",
     "text": [
      "Waiting 10s for Prometheus to scrape metrics\n"
     ]
    }
   ],
   "source": [
    "%%bash\n",
    "cd ./seldon-core/executor/proto && for i in `seq 1 10`; do sleep 0.1 && \\\n",
    "    grpcurl -d '{\"data\": {\"ndarray\":[[1.0, 2.0, 5.0]]}}' \\\n",
    "    -rpc-header seldon:echo -rpc-header namespace:seldon \\\n",
    "    -plaintext -proto ./prediction.proto \\\n",
    "     0.0.0.0:8004 seldon.protos.Seldon/Predict > /dev/null ; \\\n",
    "done\n",
    "\n",
    "# Give time for metrics to get collected by Prometheus\n",
    "echo \"Waiting 10s for Prometheus to scrape metrics\"\n",
    "sleep 10"
   ]
  },
  {
   "cell_type": "markdown",
   "id": "2ab45941-b7bc-4185-bce7-65b2dfceebea",
   "metadata": {},
   "source": [
    "## Check metrics (GRPC)"
   ]
  },
  {
   "cell_type": "code",
   "execution_count": 47,
   "id": "35e322fe-0231-4a80-9ab5-1266d8293686",
   "metadata": {},
   "outputs": [
    {
     "name": "stdout",
     "output_type": "stream",
     "text": [
      "Overwriting get-metrics.sh\n"
     ]
    }
   ],
   "source": [
    "%%writefile get-metrics.sh\n",
    "QUERY='query=seldon_api_executor_client_requests_seconds_count{deployment_name=~\"echo\",namespace=~\"seldon\",method=~\"unary\"}'\n",
    "QUERY_URL=http://seldon-monitoring-prometheus.seldon-monitoring.svc.cluster.local:9090/api/v1/query\n",
    "\n",
    "kubectl run --quiet=true -it --rm curlmetrics-$(date +%s) --image=radial/busyboxplus:curl --restart=Never -- \\\n",
    "    curl --data-urlencode ${QUERY} ${QUERY_URL}"
   ]
  },
  {
   "cell_type": "code",
   "execution_count": 48,
   "id": "4c2803f4-ae28-4bd3-b413-7b46905562d2",
   "metadata": {},
   "outputs": [],
   "source": [
    "metrics = ! bash get-metrics.sh\n",
    "metrics = json.loads(metrics[0])"
   ]
  },
  {
   "cell_type": "code",
   "execution_count": 49,
   "id": "6f049fb7-a180-40c7-91ed-e93916e12ff5",
   "metadata": {},
   "outputs": [
    {
     "ename": "AssertionError",
     "evalue": "expected 10 requests, got 20",
     "output_type": "error",
     "traceback": [
      "\u001b[0;31m---------------------------------------------------------------------------\u001b[0m",
      "\u001b[0;31mAssertionError\u001b[0m                            Traceback (most recent call last)",
      "\u001b[1;32m/Users/dileep.gadiraju/projects/AI4BHARAT/try-seldon-core/metrics_prometheus.ipynb Cell 25\u001b[0m in \u001b[0;36m<cell line: 2>\u001b[0;34m()\u001b[0m\n\u001b[1;32m      <a href='vscode-notebook-cell:/Users/dileep.gadiraju/projects/AI4BHARAT/try-seldon-core/metrics_prometheus.ipynb#X33sZmlsZQ%3D%3D?line=0'>1</a>\u001b[0m counter \u001b[39m=\u001b[39m \u001b[39mint\u001b[39m(metrics[\u001b[39m\"\u001b[39m\u001b[39mdata\u001b[39m\u001b[39m\"\u001b[39m][\u001b[39m\"\u001b[39m\u001b[39mresult\u001b[39m\u001b[39m\"\u001b[39m][\u001b[39m0\u001b[39m][\u001b[39m\"\u001b[39m\u001b[39mvalue\u001b[39m\u001b[39m\"\u001b[39m][\u001b[39m1\u001b[39m])\n\u001b[0;32m----> <a href='vscode-notebook-cell:/Users/dileep.gadiraju/projects/AI4BHARAT/try-seldon-core/metrics_prometheus.ipynb#X33sZmlsZQ%3D%3D?line=1'>2</a>\u001b[0m \u001b[39massert\u001b[39;00m counter \u001b[39m==\u001b[39m \u001b[39m10\u001b[39m, \u001b[39mf\u001b[39m\u001b[39m\"\u001b[39m\u001b[39mexpected 10 requests, got \u001b[39m\u001b[39m{\u001b[39;00mcounter\u001b[39m}\u001b[39;00m\u001b[39m\"\u001b[39m\n",
      "\u001b[0;31mAssertionError\u001b[0m: expected 10 requests, got 20"
     ]
    }
   ],
   "source": [
    "counter = int(metrics[\"data\"][\"result\"][0][\"value\"][1])\n",
    "assert counter == 20, f\"expected 20 requests, got {counter}\""
   ]
  },
  {
   "cell_type": "markdown",
   "id": "18f24cd5-dc78-47d8-91a2-29cf4d9e15ce",
   "metadata": {},
   "source": [
    "## Check Custom Metrics"
   ]
  },
  {
   "cell_type": "markdown",
   "id": "16ef0e4f-54ac-46e0-8802-3671f59b6301",
   "metadata": {},
   "source": [
    "This model defines a few custom metrics in its `.py` class definition:\n",
    "```Python\n",
    "    def metrics(self):\n",
    "        print(\"metrics called\")\n",
    "        return [\n",
    "            # a counter which will increase by the given value\n",
    "            {\"type\": \"COUNTER\", \"key\": \"mycounter\", \"value\": 1},\n",
    "\n",
    "            # a gauge which will be set to given value\n",
    "            {\"type\": \"GAUGE\", \"key\": \"mygauge\", \"value\": 100},\n",
    "\n",
    "            # a timer (in msecs) which  will be aggregated into HISTOGRAM\n",
    "            {\"type\": \"TIMER\", \"key\": \"mytimer\", \"value\": 20.2},\n",
    "        ]\n",
    "```      \n",
    "\n",
    "We will be checking value of `mygaguge` metrics."
   ]
  },
  {
   "cell_type": "code",
   "execution_count": 43,
   "id": "a068adcf-69d4-4c36-ade2-2633eff3a121",
   "metadata": {},
   "outputs": [
    {
     "name": "stdout",
     "output_type": "stream",
     "text": [
      "Overwriting get-metrics.sh\n"
     ]
    }
   ],
   "source": [
    "%%writefile get-metrics.sh\n",
    "QUERY='query=mygauge{deployment_name=~\"echo\",namespace=~\"seldon\"}'\n",
    "QUERY_URL=http://seldon-monitoring-prometheus.seldon-monitoring.svc.cluster.local:9090/api/v1/query\n",
    "\n",
    "kubectl run --quiet=true -it --rm curlmetrics-$(date +%s) --image=radial/busyboxplus:curl --restart=Never -- \\\n",
    "    curl --data-urlencode ${QUERY} ${QUERY_URL}"
   ]
  },
  {
   "cell_type": "code",
   "execution_count": 44,
   "id": "5a6bd6c8-979a-485a-8a03-a1fdf8f57ae4",
   "metadata": {},
   "outputs": [],
   "source": [
    "metrics = ! bash get-metrics.sh\n",
    "metrics = json.loads(metrics[0])"
   ]
  },
  {
   "cell_type": "code",
   "execution_count": 45,
   "id": "13dcac52-9291-4a6b-a7c0-3585540653f9",
   "metadata": {},
   "outputs": [
    {
     "data": {
      "text/plain": [
       "{'status': 'success',\n",
       " 'data': {'resultType': 'vector',\n",
       "  'result': [{'metric': {'__name__': 'mygauge',\n",
       "     'container': 'classifier',\n",
       "     'deployment_name': 'echo',\n",
       "     'endpoint': 'metrics',\n",
       "     'image_name': 'seldonio/echo-model',\n",
       "     'image_version': '1.15.0-dev',\n",
       "     'instance': '10.244.0.26:6000',\n",
       "     'job': 'seldon-monitoring/seldon-podmonitor',\n",
       "     'method': 'predict',\n",
       "     'model_image': 'seldonio/echo-model',\n",
       "     'model_name': 'classifier',\n",
       "     'model_version': '1.15.0-dev',\n",
       "     'namespace': 'seldon',\n",
       "     'pod': 'echo-default-0-classifier-6f8fd9d7b8-sgjjt',\n",
       "     'predictor_name': 'default',\n",
       "     'predictor_version': 'default',\n",
       "     'seldon_deployment_name': 'echo',\n",
       "     'worker_id': '47'},\n",
       "    'value': [1673261684.981, '100']}]}}"
      ]
     },
     "execution_count": 45,
     "metadata": {},
     "output_type": "execute_result"
    }
   ],
   "source": [
    "metrics"
   ]
  },
  {
   "cell_type": "code",
   "execution_count": 46,
   "id": "a09b418c-fff1-4a40-8f2d-c66a575b5794",
   "metadata": {},
   "outputs": [],
   "source": [
    "gauge = int(metrics[\"data\"][\"result\"][0][\"value\"][1])\n",
    "assert gauge == 100, f\"expected 100 on guage, got {gauge}\""
   ]
  },
  {
   "cell_type": "markdown",
   "id": "5367eb4d-90c8-4383-a4b8-30e8dfa66907",
   "metadata": {},
   "source": [
    "## Cleanup"
   ]
  },
  {
   "cell_type": "code",
   "execution_count": 22,
   "id": "a836ece4-879f-42b8-9622-c01a0d1f1bb9",
   "metadata": {},
   "outputs": [
    {
     "name": "stdout",
     "output_type": "stream",
     "text": [
      "seldondeployment.machinelearning.seldon.io \"echo\" deleted\n",
      "W0117 10:04:56.967333   15095 warnings.go:70] policy/v1beta1 PodSecurityPolicy is deprecated in v1.21+, unavailable in v1.25+\n",
      "W0117 10:04:57.031115   15095 warnings.go:70] policy/v1beta1 PodSecurityPolicy is deprecated in v1.21+, unavailable in v1.25+\n",
      "W0117 10:04:57.031138   15095 warnings.go:70] policy/v1beta1 PodSecurityPolicy is deprecated in v1.21+, unavailable in v1.25+\n",
      "W0117 10:04:57.031207   15095 warnings.go:70] policy/v1beta1 PodSecurityPolicy is deprecated in v1.21+, unavailable in v1.25+\n",
      "W0117 10:04:57.031116   15095 warnings.go:70] policy/v1beta1 PodSecurityPolicy is deprecated in v1.21+, unavailable in v1.25+\n",
      "release \"seldon-monitoring\" uninstalled\n"
     ]
    }
   ],
   "source": [
    "!kubectl delete sdep -n seldon echo\n",
    "!helm uninstall -n seldon-monitoring seldon-monitoring"
   ]
  }
 ],
 "metadata": {
  "kernelspec": {
   "display_name": "base",
   "language": "python",
   "name": "python3"
  },
  "language_info": {
   "codemirror_mode": {
    "name": "ipython",
    "version": 3
   },
   "file_extension": ".py",
   "mimetype": "text/x-python",
   "name": "python",
   "nbconvert_exporter": "python",
   "pygments_lexer": "ipython3",
   "version": "3.9.12"
  },
  "vscode": {
   "interpreter": {
    "hash": "3c5b05c738269f3db37ab2b93400d252a3eceb4ebe547b00838e0efaaa2ac1dc"
   }
  }
 },
 "nbformat": 4,
 "nbformat_minor": 5
}
