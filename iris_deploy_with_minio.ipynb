{
 "cells": [
  {
   "cell_type": "markdown",
   "metadata": {},
   "source": [
    "# Basic Examples for SKlearn Prepackaged Server with MinIO\n",
    "\n",
    "\n",
    "## Prerequisites\n",
    "\n",
    " * A kubernetes cluster with kubectl configured\n",
    " * curl\n",
    "\n",
    "## Setup Seldon Core\n",
    "\n",
    "Use the setup notebook to [Setup Cluster](https://docs.seldon.io/projects/seldon-core/en/latest/examples/seldon_core_setup.html#Setup-Cluster) with [Ambassador Ingress](https://docs.seldon.io/projects/seldon-core/en/latest/examples/seldon_core_setup.html#Ambassador) and [Install Seldon Core](https://docs.seldon.io/projects/seldon-core/en/latest/examples/seldon_core_setup.html#Install-Seldon-Core). Instructions [also online](https://docs.seldon.io/projects/seldon-core/en/latest/examples/seldon_core_setup.html).\n",
    "\n",
    "## Setup MinIO\n",
    "\n",
    "Use the provided [notebook](https://docs.seldon.io/projects/seldon-core/en/latest/examples/minio_setup.html) to install Minio in your cluster and configure `mc` CLI tool. \n",
    "Instructions [also online](https://docs.seldon.io/projects/seldon-core/en/latest/examples/minio_setup.html)."
   ]
  },
  {
   "cell_type": "code",
   "execution_count": 53,
   "metadata": {},
   "outputs": [
    {
     "name": "stdout",
     "output_type": "stream",
     "text": [
      "namespace/seldon created\n",
      "Context \"kind-seldon\" modified.\n"
     ]
    }
   ],
   "source": [
    "#### Create Seldon ns and set as current context\n",
    "!kubectl create namespace seldon\n",
    "!kubectl config set-context $(kubectl config current-context) --namespace=seldon"
   ]
  },
  {
   "cell_type": "markdown",
   "metadata": {},
   "source": [
    "## Copy iris model into local MinIO"
   ]
  },
  {
   "cell_type": "code",
   "execution_count": 55,
   "metadata": {},
   "outputs": [
    {
     "name": "stdout",
     "output_type": "stream",
     "text": [
      "Added `gcs` successfully.\n",
      "Bucket created successfully `minio-seldon/iris`.\n",
      "`gcs/seldon-models/sklearn/iris/model.joblib` -> `minio-seldon/iris/model.joblib`\n",
      "Total: 0 B, Transferred: 1.06 KiB, Speed: 16.71 KiB/s\n",
      "`gcs/seldon-models/sklearn/iris/metadata.yaml` -> `minio-seldon/iris/metadata.yaml`\n",
      "Total: 0 B, Transferred: 162 B, Speed: 2.16 KiB/s\n"
     ]
    }
   ],
   "source": [
    "%%bash\n",
    "mc config host add gcs https://storage.googleapis.com \"\" \"\" \n",
    "\n",
    "mc mb minio-seldon/iris -p\n",
    "mc cp gcs/seldon-models/sklearn/iris/model.joblib minio-seldon/iris/\n",
    "mc cp gcs/seldon-models/sklearn/iris/metadata.yaml minio-seldon/iris/"
   ]
  },
  {
   "attachments": {},
   "cell_type": "markdown",
   "metadata": {},
   "source": [
    "#### Access MINIO @ http://localhost:9000/minio/iris/"
   ]
  },
  {
   "cell_type": "markdown",
   "metadata": {},
   "source": [
    "## Modify model metadata (optional)"
   ]
  },
  {
   "cell_type": "code",
   "execution_count": 56,
   "metadata": {},
   "outputs": [
    {
     "name": "stdout",
     "output_type": "stream",
     "text": [
      "\n",
      "name: iris\n",
      "versions: [iris/v1]\n",
      "platform: sklearn\n",
      "inputs:\n",
      "- datatype: BYTES\n",
      "  name: input\n",
      "  shape: [ 4 ]\n",
      "outputs:\n",
      "- datatype: BYTES\n",
      "  name: output\n",
      "  shape: [ 3 ]\n"
     ]
    }
   ],
   "source": [
    "%%bash\n",
    "mc cat minio-seldon/iris/metadata.yaml"
   ]
  },
  {
   "cell_type": "code",
   "execution_count": 57,
   "metadata": {},
   "outputs": [
    {
     "name": "stdout",
     "output_type": "stream",
     "text": [
      "Overwriting metadata.yaml\n"
     ]
    }
   ],
   "source": [
    "%%writefile metadata.yaml\n",
    "\n",
    "name: iris\n",
    "versions: [iris/v1-updated]\n",
    "platform: sklearn\n",
    "inputs:\n",
    "- datatype: BYTES\n",
    "  name: input\n",
    "  shape: [ 1, 4 ]\n",
    "outputs:\n",
    "- datatype: BYTES\n",
    "  name: output\n",
    "  shape: [ 3 ]"
   ]
  },
  {
   "cell_type": "code",
   "execution_count": 72,
   "metadata": {},
   "outputs": [
    {
     "name": "stdout",
     "output_type": "stream",
     "text": [
      "`/Users/dileep.gadiraju/projects/AI4BHARAT/try-seldon-core/metadata.yaml` -> `minio-seldon/iris/metadata.yaml`\n",
      "Total: 0 B, Transferred: 173 B, Speed: 8.56 KiB/s\n"
     ]
    }
   ],
   "source": [
    "%%bash\n",
    "mc cp metadata.yaml minio-seldon/iris/"
   ]
  },
  {
   "cell_type": "markdown",
   "metadata": {},
   "source": [
    "## Deploy sklearn server"
   ]
  },
  {
   "cell_type": "code",
   "execution_count": 59,
   "metadata": {},
   "outputs": [
    {
     "name": "stdout",
     "output_type": "stream",
     "text": [
      "Overwriting secret.yaml\n"
     ]
    }
   ],
   "source": [
    "%%writefile secret.yaml\n",
    "\n",
    "apiVersion: v1\n",
    "kind: Secret\n",
    "metadata:\n",
    "  name: seldon-init-container-secret\n",
    "type: Opaque\n",
    "stringData:\n",
    "  RCLONE_CONFIG_S3_TYPE: s3\n",
    "  RCLONE_CONFIG_S3_PROVIDER: minio\n",
    "  RCLONE_CONFIG_S3_ACCESS_KEY_ID: minioadmin\n",
    "  RCLONE_CONFIG_S3_SECRET_ACCESS_KEY: minioadmin\n",
    "  RCLONE_CONFIG_S3_ENDPOINT: http://minio.minio-system.svc.cluster.local:9000\n",
    "  RCLONE_CONFIG_S3_ENV_AUTH: \"false\""
   ]
  },
  {
   "cell_type": "code",
   "execution_count": 60,
   "metadata": {},
   "outputs": [
    {
     "name": "stdout",
     "output_type": "stream",
     "text": [
      "Error from server (NotFound): error when deleting \"secret.yaml\": secrets \"seldon-init-container-secret\" not found\n",
      "secret/seldon-init-container-secret created\n"
     ]
    }
   ],
   "source": [
    "!kubectl delete -f secret.yaml\n",
    "!kubectl create -f secret.yaml"
   ]
  },
  {
   "cell_type": "code",
   "execution_count": 61,
   "metadata": {},
   "outputs": [
    {
     "name": "stdout",
     "output_type": "stream",
     "text": [
      "Overwriting deploy.yaml\n"
     ]
    }
   ],
   "source": [
    "%%writefile deploy.yaml\n",
    "\n",
    "apiVersion: machinelearning.seldon.io/v1\n",
    "kind: SeldonDeployment\n",
    "metadata:\n",
    "  name: minio-sklearn\n",
    "spec:\n",
    "  predictors:\n",
    "    - graph:\n",
    "        implementation: SKLEARN_SERVER\n",
    "        modelUri: s3://iris\n",
    "        envSecretRefName: seldon-init-container-secret\n",
    "        name: classifier\n",
    "      name: default\n",
    "      replicas: 1\n",
    "      componentSpecs:\n",
    "      - spec:\n",
    "          containers:\n",
    "          - name: classifier\n",
    "            image: seldonio/sklearnserver:1.9.1\n",
    "            ports:\n",
    "              - containerPort: 8004\n",
    "                name: http\n",
    "                protocol: TCP\n",
    "# spec:\n",
    "#   name: iris\n",
    "#   predictors:\n",
    "#   - componentSpecs:\n",
    "#     graph:\n",
    "#       children: []\n",
    "#       implementation: SKLEARN_SERVER\n",
    "#       modelUri: s3://iris\n",
    "#       envSecretRefName: seldon-init-container-secret\n",
    "#       name: classifier\n",
    "#     name: default\n",
    "#     replicas: 1"
   ]
  },
  {
   "cell_type": "code",
   "execution_count": 77,
   "metadata": {},
   "outputs": [
    {
     "name": "stdout",
     "output_type": "stream",
     "text": [
      "seldondeployment.machinelearning.seldon.io \"minio-sklearn\" deleted\n"
     ]
    }
   ],
   "source": [
    "!kubectl delete -f deploy.yaml\n",
    "!kubectl create -f deploy.yaml"
   ]
  },
  {
   "cell_type": "code",
   "execution_count": 63,
   "metadata": {},
   "outputs": [
    {
     "name": "stdout",
     "output_type": "stream",
     "text": [
      "Waiting for deployment \"minio-sklearn-default-0-classifier\" rollout to finish: 0 of 1 updated replicas are available...\n",
      "deployment \"minio-sklearn-default-0-classifier\" successfully rolled out\n"
     ]
    }
   ],
   "source": [
    "!kubectl rollout status deploy/$(kubectl get deploy -l seldon-deployment-id=minio-sklearn -o jsonpath='{.items[0].metadata.name}')"
   ]
  },
  {
   "cell_type": "markdown",
   "metadata": {},
   "source": [
    "## Test deployment"
   ]
  },
  {
   "cell_type": "markdown",
   "metadata": {},
   "source": [
    "### Test prediction"
   ]
  },
  {
   "cell_type": "code",
   "execution_count": 76,
   "metadata": {},
   "outputs": [
    {
     "name": "stdout",
     "output_type": "stream",
     "text": [
      "{\n",
      "  \"data\": {\n",
      "    \"names\": [\n",
      "      \"t:0\",\n",
      "      \"t:1\",\n",
      "      \"t:2\"\n",
      "    ],\n",
      "    \"ndarray\": [\n",
      "      [\n",
      "        0.9548873249364169,\n",
      "        0.04505474761561406,\n",
      "        5.7927447968952436e-05\n",
      "      ]\n",
      "    ]\n",
      "  },\n",
      "  \"meta\": {\n",
      "    \"requestPath\": {\n",
      "      \"classifier\": \"seldonio/sklearnserver:1.9.1\"\n",
      "    }\n",
      "  }\n",
      "}\n"
     ]
    }
   ],
   "source": [
    "%%bash\n",
    "curl -s -X POST -H 'Content-Type: application/json' \\\n",
    "    -d '{\"data\":{\"ndarray\":[[5.964, 4.006, 2.081, 1.031]]}}' \\\n",
    "    http://localhost:8004/seldon/seldon/minio-sklearn/api/v1.0/predictions  | jq ."
   ]
  },
  {
   "cell_type": "markdown",
   "metadata": {},
   "source": [
    "### Test model metadata (optional)"
   ]
  },
  {
   "cell_type": "code",
   "execution_count": 75,
   "metadata": {},
   "outputs": [
    {
     "name": "stdout",
     "output_type": "stream",
     "text": [
      "{\n",
      "  \"custom\": {},\n",
      "  \"inputs\": [\n",
      "    {\n",
      "      \"datatype\": \"BYTES\",\n",
      "      \"name\": \"input\",\n",
      "      \"shape\": [\n",
      "        1,\n",
      "        4\n",
      "      ]\n",
      "    }\n",
      "  ],\n",
      "  \"name\": \"iris\",\n",
      "  \"outputs\": [\n",
      "    {\n",
      "      \"datatype\": \"BYTES\",\n",
      "      \"name\": \"output\",\n",
      "      \"shape\": [\n",
      "        3\n",
      "      ]\n",
      "    }\n",
      "  ],\n",
      "  \"platform\": \"sklearn\",\n",
      "  \"versions\": [\n",
      "    \"iris/v1-updated\"\n",
      "  ]\n",
      "}\n"
     ]
    }
   ],
   "source": [
    "%%bash\n",
    "curl -s http://localhost:8004/seldon/seldon/minio-sklearn/api/v1.0/metadata/classifier | jq ."
   ]
  },
  {
   "cell_type": "markdown",
   "metadata": {},
   "source": [
    "### Test for CI"
   ]
  },
  {
   "cell_type": "code",
   "execution_count": null,
   "metadata": {},
   "outputs": [],
   "source": [
    "import json\n",
    "\n",
    "data = !curl -s -X POST -H 'Content-Type: application/json' -d '{\"data\":{\"ndarray\":[[5.964, 4.006, 2.081, 1.031]]}}' http://localhost:8004/seldon/seldon/minio-sklearn/api/v1.0/predictions\n",
    "data = json.loads(data[0])\n",
    "\n",
    "assert data == {\n",
    "    \"data\": {\n",
    "        \"names\": [\"t:0\", \"t:1\", \"t:2\"],\n",
    "        \"ndarray\": [[0.9548873249364169, 0.04505474761561406, 5.7927447968952436e-05]],\n",
    "    },\n",
    "    \"meta\": {},\n",
    "}"
   ]
  },
  {
   "cell_type": "code",
   "execution_count": 69,
   "metadata": {},
   "outputs": [
    {
     "ename": "AssertionError",
     "evalue": "",
     "output_type": "error",
     "traceback": [
      "\u001b[0;31m---------------------------------------------------------------------------\u001b[0m",
      "\u001b[0;31mAssertionError\u001b[0m                            Traceback (most recent call last)",
      "\u001b[1;32m/Users/dileep.gadiraju/projects/AI4BHARAT/try-seldon-core/iris_deploy_with_minio.ipynb Cell 23\u001b[0m in \u001b[0;36m<cell line: 6>\u001b[0;34m()\u001b[0m\n\u001b[1;32m      <a href='vscode-notebook-cell:/Users/dileep.gadiraju/projects/AI4BHARAT/try-seldon-core/iris_deploy_with_minio.ipynb#X26sZmlsZQ%3D%3D?line=2'>3</a>\u001b[0m meta \u001b[39m=\u001b[39m get_ipython()\u001b[39m.\u001b[39mgetoutput(\u001b[39m'\u001b[39m\u001b[39mcurl -s http://localhost:8004/seldon/seldon/minio-sklearn/api/v1.0/metadata/classifier\u001b[39m\u001b[39m'\u001b[39m)\n\u001b[1;32m      <a href='vscode-notebook-cell:/Users/dileep.gadiraju/projects/AI4BHARAT/try-seldon-core/iris_deploy_with_minio.ipynb#X26sZmlsZQ%3D%3D?line=3'>4</a>\u001b[0m meta \u001b[39m=\u001b[39m json\u001b[39m.\u001b[39mloads(meta[\u001b[39m0\u001b[39m])\n\u001b[0;32m----> <a href='vscode-notebook-cell:/Users/dileep.gadiraju/projects/AI4BHARAT/try-seldon-core/iris_deploy_with_minio.ipynb#X26sZmlsZQ%3D%3D?line=5'>6</a>\u001b[0m \u001b[39massert\u001b[39;00m data \u001b[39m==\u001b[39m {\n\u001b[1;32m      <a href='vscode-notebook-cell:/Users/dileep.gadiraju/projects/AI4BHARAT/try-seldon-core/iris_deploy_with_minio.ipynb#X26sZmlsZQ%3D%3D?line=6'>7</a>\u001b[0m     \u001b[39m\"\u001b[39m\u001b[39mdata\u001b[39m\u001b[39m\"\u001b[39m: {\n\u001b[1;32m      <a href='vscode-notebook-cell:/Users/dileep.gadiraju/projects/AI4BHARAT/try-seldon-core/iris_deploy_with_minio.ipynb#X26sZmlsZQ%3D%3D?line=7'>8</a>\u001b[0m         \u001b[39m\"\u001b[39m\u001b[39mnames\u001b[39m\u001b[39m\"\u001b[39m: [\u001b[39m\"\u001b[39m\u001b[39mt:0\u001b[39m\u001b[39m\"\u001b[39m, \u001b[39m\"\u001b[39m\u001b[39mt:1\u001b[39m\u001b[39m\"\u001b[39m, \u001b[39m\"\u001b[39m\u001b[39mt:2\u001b[39m\u001b[39m\"\u001b[39m],\n\u001b[1;32m      <a href='vscode-notebook-cell:/Users/dileep.gadiraju/projects/AI4BHARAT/try-seldon-core/iris_deploy_with_minio.ipynb#X26sZmlsZQ%3D%3D?line=8'>9</a>\u001b[0m         \u001b[39m\"\u001b[39m\u001b[39mndarray\u001b[39m\u001b[39m\"\u001b[39m: [[\u001b[39m0.9548873249364169\u001b[39m, \u001b[39m0.04505474761561406\u001b[39m, \u001b[39m5.7927447968952436e-05\u001b[39m]],\n\u001b[1;32m     <a href='vscode-notebook-cell:/Users/dileep.gadiraju/projects/AI4BHARAT/try-seldon-core/iris_deploy_with_minio.ipynb#X26sZmlsZQ%3D%3D?line=9'>10</a>\u001b[0m     },\n\u001b[1;32m     <a href='vscode-notebook-cell:/Users/dileep.gadiraju/projects/AI4BHARAT/try-seldon-core/iris_deploy_with_minio.ipynb#X26sZmlsZQ%3D%3D?line=10'>11</a>\u001b[0m     \u001b[39m\"\u001b[39m\u001b[39mmeta\u001b[39m\u001b[39m\"\u001b[39m: {},\n\u001b[1;32m     <a href='vscode-notebook-cell:/Users/dileep.gadiraju/projects/AI4BHARAT/try-seldon-core/iris_deploy_with_minio.ipynb#X26sZmlsZQ%3D%3D?line=11'>12</a>\u001b[0m }\n",
      "\u001b[0;31mAssertionError\u001b[0m: "
     ]
    }
   ],
   "source": [
    "import json\n",
    "\n",
    "meta = !curl -s http://localhost:8004/seldon/seldon/minio-sklearn/api/v1.0/metadata/classifier\n",
    "meta = json.loads(meta[0])\n",
    "\n",
    "assert data == {\n",
    "    \"data\": {\n",
    "        \"names\": [\"t:0\", \"t:1\", \"t:2\"],\n",
    "        \"ndarray\": [[0.9548873249364169, 0.04505474761561406, 5.7927447968952436e-05]],\n",
    "    },\n",
    "    \"meta\": {},\n",
    "}"
   ]
  },
  {
   "cell_type": "markdown",
   "metadata": {},
   "source": [
    "## Cleanup"
   ]
  },
  {
   "cell_type": "code",
   "execution_count": 14,
   "metadata": {},
   "outputs": [
    {
     "name": "stdout",
     "output_type": "stream",
     "text": [
      "seldondeployment.machinelearning.seldon.io \"minio-sklearn\" deleted\n"
     ]
    }
   ],
   "source": [
    "!kubectl delete -f deploy.yaml"
   ]
  }
 ],
 "metadata": {
  "kernelspec": {
   "display_name": "base",
   "language": "python",
   "name": "python3"
  },
  "language_info": {
   "codemirror_mode": {
    "name": "ipython",
    "version": 3
   },
   "file_extension": ".py",
   "mimetype": "text/x-python",
   "name": "python",
   "nbconvert_exporter": "python",
   "pygments_lexer": "ipython3",
   "version": "3.9.12"
  },
  "vscode": {
   "interpreter": {
    "hash": "3c5b05c738269f3db37ab2b93400d252a3eceb4ebe547b00838e0efaaa2ac1dc"
   }
  }
 },
 "nbformat": 4,
 "nbformat_minor": 4
}
