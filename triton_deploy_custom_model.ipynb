{
 "cells": [
  {
   "attachments": {},
   "cell_type": "markdown",
   "metadata": {},
   "source": [
    "### Copy PyTorch cifar10 model to MINIO\n",
    "Make sure MINIO Setup is done, Refer [minio_setup.ipynb](./minio_setup.ipynb)"
   ]
  },
  {
   "cell_type": "code",
   "execution_count": null,
   "metadata": {},
   "outputs": [],
   "source": [
    "%%bash\n",
    "kubectl cluster-info --context kind-seldon\n",
    "mc config host add gcs https://storage.googleapis.com \"\" \"\" \n",
    "\n",
    "mc mb minio-seldon/pytorchcifar10 -p\n",
    "mc cp gcs/seldon-models/triton/pytorch_cifar10/cifar10 minio-seldon/pytorchcifar10/ --recursive"
   ]
  },
  {
   "attachments": {},
   "cell_type": "markdown",
   "metadata": {},
   "source": [
    "#### Create namespace for experimentation"
   ]
  },
  {
   "cell_type": "code",
   "execution_count": null,
   "metadata": {},
   "outputs": [],
   "source": [
    "!kubectl create namespace seldon\n",
    "!kubectl config set-context $(kubectl config current-context) --namespace=seldon"
   ]
  },
  {
   "attachments": {},
   "cell_type": "markdown",
   "metadata": {},
   "source": [
    "#### TorchScript CIFAR10 Model\n"
   ]
  },
  {
   "cell_type": "code",
   "execution_count": 1,
   "metadata": {},
   "outputs": [
    {
     "name": "stdout",
     "output_type": "stream",
     "text": [
      "Overwriting secret.yaml\n"
     ]
    }
   ],
   "source": [
    "%%writefile secret.yaml\n",
    "apiVersion: v1\n",
    "kind: Secret\n",
    "metadata:\n",
    "  name: seldon-init-pt-secret\n",
    "type: Opaque\n",
    "stringData:\n",
    "  RCLONE_CONFIG_S3_TYPE: s3\n",
    "  RCLONE_CONFIG_S3_PROVIDER: minio\n",
    "  RCLONE_CONFIG_S3_ACCESS_KEY_ID: minioadmin\n",
    "  RCLONE_CONFIG_S3_SECRET_ACCESS_KEY: minioadmin\n",
    "  RCLONE_CONFIG_S3_ENDPOINT: http://minio.minio-system.svc.cluster.local:9000\n",
    "  RCLONE_CONFIG_S3_ENV_AUTH: \"false\""
   ]
  },
  {
   "cell_type": "code",
   "execution_count": 2,
   "metadata": {},
   "outputs": [
    {
     "name": "stdout",
     "output_type": "stream",
     "text": [
      "Error from server (NotFound): error when deleting \"secret.yaml\": secrets \"seldon-init-pt-secret\" not found\n",
      "secret/seldon-init-pt-secret created\n"
     ]
    }
   ],
   "source": [
    "!kubectl delete -f secret.yaml\n",
    "!kubectl create -f secret.yaml"
   ]
  },
  {
   "cell_type": "code",
   "execution_count": 3,
   "metadata": {},
   "outputs": [
    {
     "name": "stdout",
     "output_type": "stream",
     "text": [
      "Overwriting resources/triton_pt_cifar10.yaml\n"
     ]
    }
   ],
   "source": [
    "%%writefile resources/triton_pt_cifar10.yaml\n",
    "apiVersion: machinelearning.seldon.io/v1\n",
    "kind: SeldonDeployment\n",
    "metadata:\n",
    "  name: cifar10\n",
    "  namespace: seldon\n",
    "spec:\n",
    "  annotations:\n",
    "    seldon.io/engine-seldon-log-messages-externally: \"true\"\n",
    "  name: resnet32\n",
    "  predictors:\n",
    "  - graph:\n",
    "      implementation: TRITON_SERVER\n",
    "      logger:\n",
    "        mode: all\n",
    "      modelUri: s3://pytorchcifar10\n",
    "      envSecretRefName: seldon-init-pt-secret      \n",
    "      name: cifar10\n",
    "      type: MODEL\n",
    "    name: default\n",
    "    replicas: 1\n",
    "  protocol: v2"
   ]
  },
  {
   "cell_type": "code",
   "execution_count": 4,
   "metadata": {},
   "outputs": [
    {
     "name": "stdout",
     "output_type": "stream",
     "text": [
      "error: error parsing resources/triton_pt_cifar10.yaml: error converting YAML to JSON: yaml: line 13: mapping values are not allowed in this context\n",
      "error: error parsing resources/triton_pt_cifar10.yaml: error converting YAML to JSON: yaml: line 13: mapping values are not allowed in this context\n"
     ]
    }
   ],
   "source": [
    "!kubectl delete -f resources/triton_pt_cifar10.yaml\n",
    "!kubectl create -f resources/triton_pt_cifar10.yaml"
   ]
  }
 ],
 "metadata": {
  "kernelspec": {
   "display_name": "Python 3",
   "language": "python",
   "name": "python3"
  },
  "language_info": {
   "codemirror_mode": {
    "name": "ipython",
    "version": 3
   },
   "file_extension": ".py",
   "mimetype": "text/x-python",
   "name": "python",
   "nbconvert_exporter": "python",
   "pygments_lexer": "ipython3",
   "version": "3.7.8"
  },
  "orig_nbformat": 4,
  "vscode": {
   "interpreter": {
    "hash": "0207f39545ce9b6005991c9fcae14dd869925620f8111abadc3e533d4fd7bd18"
   }
  }
 },
 "nbformat": 4,
 "nbformat_minor": 2
}
