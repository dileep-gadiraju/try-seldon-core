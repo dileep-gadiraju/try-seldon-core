{
 "cells": [
  {
   "attachments": {},
   "cell_type": "markdown",
   "metadata": {},
   "source": [
    "### Copy PyTorch cifar10 model to MINIO\n",
    "Make sure MINIO Setup is done, Refer [minio_setup.ipynb](./minio_setup.ipynb)"
   ]
  },
  {
   "cell_type": "code",
   "execution_count": 15,
   "metadata": {},
   "outputs": [
    {
     "name": "stdout",
     "output_type": "stream",
     "text": [
      "\u001b[0;32mKubernetes control plane\u001b[0m is running at \u001b[0;33mhttps://127.0.0.1:57215\u001b[0m\n",
      "\u001b[0;32mCoreDNS\u001b[0m is running at \u001b[0;33mhttps://127.0.0.1:57215/api/v1/namespaces/kube-system/services/kube-dns:dns/proxy\u001b[0m\n",
      "\n",
      "To further debug and diagnose cluster problems, use 'kubectl cluster-info dump'.\n",
      "Added `gcs` successfully.\n",
      "Bucket created successfully `minio-seldon/pytorchcifar10`.\n",
      "`gcs/seldon-models/triton/pytorch_cifar10/cifar10/1/model.pt` -> `minio-seldon/pytorchcifar10/cifar10/1/model.pt`\n",
      "`gcs/seldon-models/triton/pytorch_cifar10/cifar10/config.pbtxt` -> `minio-seldon/pytorchcifar10/cifar10/config.pbtxt`\n",
      "Total: 0 B, Transferred: 255.32 KiB, Speed: 221.84 KiB/s\n"
     ]
    }
   ],
   "source": [
    "%%bash\n",
    "kubectl cluster-info --context kind-seldon\n",
    "mc config host add gcs https://storage.googleapis.com \"\" \"\" \n",
    "\n",
    "mc mb minio-seldon/pytorchcifar10 -p\n",
    "mc cp gcs/seldon-models/triton/pytorch_cifar10/cifar10 minio-seldon/pytorchcifar10/ --recursive"
   ]
  },
  {
   "attachments": {},
   "cell_type": "markdown",
   "metadata": {},
   "source": [
    "#### Create namespace for experimentation"
   ]
  },
  {
   "cell_type": "code",
   "execution_count": 1,
   "metadata": {},
   "outputs": [
    {
     "name": "stdout",
     "output_type": "stream",
     "text": [
      "Error from server (AlreadyExists): namespaces \"seldon\" already exists\n",
      "Context \"kind-seldon\" modified.\n"
     ]
    }
   ],
   "source": [
    "!kubectl create namespace seldon\n",
    "!kubectl config set-context $(kubectl config current-context) --namespace=seldon"
   ]
  },
  {
   "attachments": {},
   "cell_type": "markdown",
   "metadata": {},
   "source": [
    "#### TorchScript CIFAR10 Model\n"
   ]
  },
  {
   "cell_type": "code",
   "execution_count": 20,
   "metadata": {},
   "outputs": [
    {
     "name": "stdout",
     "output_type": "stream",
     "text": [
      "(10000, 32, 32, 3) (10000, 1)\n"
     ]
    }
   ],
   "source": [
    "import os\n",
    "\n",
    "import matplotlib.pyplot as plt\n",
    "import tensorflow as tf\n",
    "\n",
    "train, test = tf.keras.datasets.cifar10.load_data()\n",
    "X_test, y_test = test\n",
    "X_test = X_test.astype(\"float32\") / 255\n",
    "print(X_test.shape, y_test.shape)\n",
    "class_names = [\n",
    "    \"airplane\",\n",
    "    \"automobile\",\n",
    "    \"bird\",\n",
    "    \"cat\",\n",
    "    \"deer\",\n",
    "    \"dog\",\n",
    "    \"frog\",\n",
    "    \"horse\",\n",
    "    \"ship\",\n",
    "    \"truck\",\n",
    "]"
   ]
  },
  {
   "cell_type": "code",
   "execution_count": 21,
   "metadata": {},
   "outputs": [
    {
     "name": "stdout",
     "output_type": "stream",
     "text": [
      "Overwriting secret-custom-triton.yaml\n"
     ]
    }
   ],
   "source": [
    "%%writefile secret-custom-triton.yaml\n",
    "apiVersion: v1\n",
    "kind: Secret\n",
    "metadata:\n",
    "  name: seldon-init-pt-secret\n",
    "type: Opaque\n",
    "stringData:\n",
    "  RCLONE_CONFIG_S3_TYPE: s3\n",
    "  RCLONE_CONFIG_S3_PROVIDER: minio\n",
    "  RCLONE_CONFIG_S3_ACCESS_KEY_ID: minioadmin\n",
    "  RCLONE_CONFIG_S3_SECRET_ACCESS_KEY: minioadmin\n",
    "  RCLONE_CONFIG_S3_ENDPOINT: http://minio.minio-system.svc.cluster.local:9000\n",
    "  RCLONE_CONFIG_S3_ENV_AUTH: \"false\""
   ]
  },
  {
   "cell_type": "code",
   "execution_count": 5,
   "metadata": {},
   "outputs": [
    {
     "name": "stdout",
     "output_type": "stream",
     "text": [
      "secret \"seldon-init-pt-secret\" deleted\n",
      "secret/seldon-init-pt-secret created\n"
     ]
    }
   ],
   "source": [
    "!kubectl delete -f secret-custom-triton.yaml\n",
    "!kubectl create -f secret-custom-triton.yaml"
   ]
  },
  {
   "cell_type": "code",
   "execution_count": 6,
   "metadata": {},
   "outputs": [
    {
     "name": "stdout",
     "output_type": "stream",
     "text": [
      "Overwriting resources/triton_pt_cifar10.yaml\n"
     ]
    }
   ],
   "source": [
    "%%writefile resources/triton_pt_cifar10.yaml\n",
    "apiVersion: machinelearning.seldon.io/v1\n",
    "kind: SeldonDeployment\n",
    "metadata:\n",
    "  name: cifar10\n",
    "  namespace: seldon\n",
    "spec:\n",
    "  annotations:\n",
    "    seldon.io/engine-seldon-log-messages-externally: \"true\"\n",
    "  name: resnet32\n",
    "  predictors:\n",
    "  - graph:\n",
    "      implementation: TRITON_SERVER\n",
    "      logger:\n",
    "        mode: all\n",
    "      modelUri: s3://pytorchcifar10\n",
    "      envSecretRefName: seldon-init-pt-secret      \n",
    "      name: cifar10\n",
    "      type: MODEL\n",
    "    name: default\n",
    "    replicas: 1\n",
    "  protocol: v2"
   ]
  },
  {
   "cell_type": "code",
   "execution_count": 7,
   "metadata": {},
   "outputs": [
    {
     "name": "stdout",
     "output_type": "stream",
     "text": [
      "Error from server (NotFound): error when deleting \"resources/triton_pt_cifar10.yaml\": seldondeployments.machinelearning.seldon.io \"cifar10\" not found\n",
      "seldondeployment.machinelearning.seldon.io/cifar10 created\n"
     ]
    }
   ],
   "source": [
    "!kubectl delete -f resources/triton_pt_cifar10.yaml\n",
    "!kubectl create -f resources/triton_pt_cifar10.yaml"
   ]
  },
  {
   "cell_type": "code",
   "execution_count": 15,
   "metadata": {},
   "outputs": [
    {
     "name": "stdout",
     "output_type": "stream",
     "text": [
      "deployment \"cifar10-default-0-cifar10\" successfully rolled out\n"
     ]
    }
   ],
   "source": [
    "### check the pod\n",
    "!kubectl rollout status deploy/$(kubectl get deploy -l seldon-deployment-id=cifar10 -o jsonpath='{.items[0].metadata.name}')"
   ]
  },
  {
   "attachments": {},
   "cell_type": "markdown",
   "metadata": {},
   "source": [
    "##### Test the results."
   ]
  },
  {
   "cell_type": "code",
   "execution_count": 17,
   "metadata": {},
   "outputs": [
    {
     "name": "stdout",
     "output_type": "stream",
     "text": [
      "Files already downloaded and verified\n"
     ]
    }
   ],
   "source": [
    "import torch\n",
    "import torchvision\n",
    "import torchvision.transforms as transforms\n",
    "\n",
    "transform = transforms.Compose(\n",
    "    [transforms.ToTensor(), transforms.Normalize((0.5, 0.5, 0.5), (0.5, 0.5, 0.5))]\n",
    ")\n",
    "testset = torchvision.datasets.CIFAR10(\n",
    "    root=\"./data\", train=False, download=True, transform=transform\n",
    ")\n",
    "\n",
    "testloader = torch.utils.data.DataLoader(\n",
    "    testset, batch_size=10, shuffle=False, num_workers=2\n",
    ")\n",
    "for data in testloader:\n",
    "    images, labels = data\n",
    "    break"
   ]
  },
  {
   "cell_type": "code",
   "execution_count": 22,
   "metadata": {},
   "outputs": [
    {
     "name": "stderr",
     "output_type": "stream",
     "text": [
      "  % Total    % Received % Xferd  Average Speed   Time    Time     Time  Current\n",
      "                                 Dload  Upload   Total   Spent    Left  Speed\n",
      "100 63672  100   309  100 63363   4717   944k --:--:-- --:--:-- --:--:--  956k\n"
     ]
    },
    {
     "data": {
      "image/png": "[encoded data removed]",
      "text/plain": [
       "<Figure size 640x480 with 1 Axes>"
      ]
     },
     "metadata": {},
     "output_type": "display_data"
    },
    {
     "name": "stdout",
     "output_type": "stream",
     "text": [
      "class: airplane\n",
      "prediction: airplane\n"
     ]
    }
   ],
   "source": [
    "import json\n",
    "from subprocess import PIPE, Popen, run\n",
    "\n",
    "import numpy as np\n",
    "\n",
    "idx = 3\n",
    "test_example = images[idx : idx + 1]\n",
    "test_example = test_example.tolist()\n",
    "payload = (\n",
    "    '{\"inputs\":[{\"name\":\"input__0\",\"datatype\":\"FP32\",\"shape\":[1, 3, 32, 32],\"data\":'\n",
    "    + f\"{test_example}\"\n",
    "    + \"}]}\"\n",
    ")\n",
    "cmd = f\"\"\"curl -d '{payload}' \\\n",
    "   http://localhost:8004/seldon/seldon/cifar10/v2/models/cifar10/infer \\\n",
    "   -H \"Content-Type: application/json\"\n",
    "\"\"\"\n",
    "ret = Popen(cmd, shell=True, stdout=PIPE)\n",
    "raw = ret.stdout.read().decode(\"utf-8\")\n",
    "res = json.loads(raw)\n",
    "arr = np.array(res[\"outputs\"][0][\"data\"])\n",
    "X = X_test[idx].reshape(1, 32, 32, 3)\n",
    "plt.imshow(X.reshape(32, 32, 3))\n",
    "plt.axis(\"off\")\n",
    "plt.show()\n",
    "\n",
    "print(\"class:\", class_names[labels[idx]])\n",
    "print(\"prediction:\", class_names[arr.argmax()])"
   ]
  },
  {
   "cell_type": "code",
   "execution_count": 25,
   "metadata": {},
   "outputs": [
    {
     "name": "stdout",
     "output_type": "stream",
     "text": [
      "seldondeployment.machinelearning.seldon.io/cifar10 scaled\n"
     ]
    }
   ],
   "source": [
    "## Scale the Seldon Deployment\n",
    "!kubectl scale --replicas=4 sdep/cifar10"
   ]
  },
  {
   "cell_type": "code",
   "execution_count": 34,
   "metadata": {},
   "outputs": [
    {
     "name": "stdout",
     "output_type": "stream",
     "text": [
      "cifar10-default-0-cifar10"
     ]
    }
   ],
   "source": [
    "## check the deplyments\n",
    "## References [seldon-core scaling](https://docs.seldon.io/projects/seldon-core/en/latest/graph/scaling.html)\n",
    "!kubectl get deploy -l seldon-deployment-id=cifar10 -o jsonpath='{.items[0].metadata.name}'"
   ]
  }
 ],
 "metadata": {
  "kernelspec": {
   "display_name": "Python 3",
   "language": "python",
   "name": "python3"
  },
  "language_info": {
   "codemirror_mode": {
    "name": "ipython",
    "version": 3
   },
   "file_extension": ".py",
   "mimetype": "text/x-python",
   "name": "python",
   "nbconvert_exporter": "python",
   "pygments_lexer": "ipython3",
   "version": "3.7.8"
  },
  "orig_nbformat": 4,
  "vscode": {
   "interpreter": {
    "hash": "0207f39545ce9b6005991c9fcae14dd869925620f8111abadc3e533d4fd7bd18"
   }
  }
 },
 "nbformat": 4,
 "nbformat_minor": 2
}
