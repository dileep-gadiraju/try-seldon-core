{
 "cells": [
  {
   "attachments": {},
   "cell_type": "markdown",
   "metadata": {},
   "source": [
    "### Deploys Triton custom models from [azureml-examples](https://github.com/azure/azureml-examples) repo"
   ]
  },
  {
   "cell_type": "code",
   "execution_count": 1,
   "metadata": {},
   "outputs": [
    {
     "name": "stdout",
     "output_type": "stream",
     "text": [
      "fatal: destination path 'azureml-examples' already exists and is not an empty directory.\n"
     ]
    }
   ],
   "source": [
    "#### clone the github repo\n",
    "!git clone https://github.com/azure/azureml-examples"
   ]
  },
  {
   "cell_type": "code",
   "execution_count": 3,
   "metadata": {},
   "outputs": [
    {
     "name": "stdout",
     "output_type": "stream",
     "text": [
      "\u001b[34mmodel_1\u001b[m\u001b[m\n",
      "\n",
      "azureml-examples/cli/endpoints/online/triton/single-model/models/model_1:\n",
      "\u001b[34m1\u001b[m\u001b[m\n",
      "\n",
      "azureml-examples/cli/endpoints/online/triton/single-model/models/model_1/1:\n",
      "model.onnx\n"
     ]
    }
   ],
   "source": [
    "!ls -R azureml-examples/cli/endpoints/online/triton/single-model/models"
   ]
  },
  {
   "cell_type": "code",
   "execution_count": 6,
   "metadata": {},
   "outputs": [
    {
     "name": "stdout",
     "output_type": "stream",
     "text": [
      "Overwriting resources/triton_custom_model.yaml\n"
     ]
    }
   ],
   "source": [
    "%%writefile resources/triton_custom_model.yaml\n",
    "apiVersion: machinelearning.seldon.io/v1\n",
    "kind: SeldonDeployment\n",
    "metadata:\n",
    "  name: triton-custom\n",
    "  namespace: seldon\n",
    "spec:\n",
    "  predictors:\n",
    "  - graph:\n",
    "      implementation: TRITON_SERVER\n",
    "      logger:\n",
    "        mode: all\n",
    "      modelUri: https://github.com/Azure/azureml-examples/tree/main/cli/endpoints/online/triton/single-model/models/model_1/1\n",
    "      name: triton-custom\n",
    "      type: MODEL\n",
    "    name: default\n",
    "    replicas: 1\n",
    "  protocol: v2"
   ]
  },
  {
   "cell_type": "code",
   "execution_count": 8,
   "metadata": {},
   "outputs": [
    {
     "name": "stdout",
     "output_type": "stream",
     "text": [
      "seldondeployment.machinelearning.seldon.io \"triton-custom\" deleted\n"
     ]
    }
   ],
   "source": [
    "#!kubectl delete -f resources/triton_custom_model.yaml\n",
    "!kubectl apply -f resources/triton_custom_model.yaml"
   ]
  },
  {
   "cell_type": "code",
   "execution_count": null,
   "metadata": {},
   "outputs": [],
   "source": [
    "!kubectl rollout status -n seldon deploy/$(kubectl get deploy -l seldon-deployment-id=triton-custom -n seldon -o jsonpath='{.items[0].metadata.name}')"
   ]
  }
 ],
 "metadata": {
  "kernelspec": {
   "display_name": "Python 3.9.12 ('base')",
   "language": "python",
   "name": "python3"
  },
  "language_info": {
   "codemirror_mode": {
    "name": "ipython",
    "version": 3
   },
   "file_extension": ".py",
   "mimetype": "text/x-python",
   "name": "python",
   "nbconvert_exporter": "python",
   "pygments_lexer": "ipython3",
   "version": "3.9.12"
  },
  "orig_nbformat": 4,
  "vscode": {
   "interpreter": {
    "hash": "3c5b05c738269f3db37ab2b93400d252a3eceb4ebe547b00838e0efaaa2ac1dc"
   }
  }
 },
 "nbformat": 4,
 "nbformat_minor": 2
}
