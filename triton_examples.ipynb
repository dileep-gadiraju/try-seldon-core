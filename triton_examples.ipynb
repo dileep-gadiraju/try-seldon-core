{
 "cells": [
  {
   "cell_type": "markdown",
   "metadata": {},
   "source": [
    "# Triton Examples\n",
    "\n",
    "## Prerequisites\n",
    "\n",
    " * For the test data you will need to install `torch`, `torchvision` and `tensorflow`\n",
    " * For the visualization `matplotlib`\n",
    " * For calling the service `curl`\n"
   ]
  },
  {
   "cell_type": "markdown",
   "metadata": {},
   "source": [
    "## Setup Seldon Core\n",
    "\n",
    "Follow the instructions to [Setup Cluster](https://docs.seldon.io/projects/seldon-core/en/latest/examples/seldon_core_setup.html#Setup-Cluster) with [Ambassador Ingress](https://docs.seldon.io/projects/seldon-core/en/latest/examples/seldon_core_setup.html#Ambassador) and [Install Seldon Core](https://docs.seldon.io/projects/seldon-core/en/latest/examples/seldon_core_setup.html#Install-Seldon-Core).\n",
    "\n",
    " Then port-forward to that ingress on localhost:8003 in a separate terminal either with:\n",
    "\n",
    " * Ambassador: `kubectl port-forward $(kubectl get pods -n seldon -l app.kubernetes.io/name=ambassador -o jsonpath='{.items[0].metadata.name}') -n seldon 8004:8080`\n",
    " * Istio: `kubectl port-forward $(kubectl get pods -l istio=ingressgateway -n istio-system -o jsonpath='{.items[0].metadata.name}') -n istio-system 8004:8080`\n",
    "\n",
    "### Create Namespace for experimentation\n",
    "\n",
    "We will first set up the namespace of Seldon where we will be deploying all our models"
   ]
  },
  {
   "cell_type": "code",
   "execution_count": 44,
   "metadata": {},
   "outputs": [
    {
     "name": "stdout",
     "output_type": "stream",
     "text": [
      "Error from server (AlreadyExists): namespaces \"seldon\" already exists\n"
     ]
    }
   ],
   "source": [
    "!kubectl create namespace seldon"
   ]
  },
  {
   "cell_type": "markdown",
   "metadata": {},
   "source": [
    "And then we will set the current workspace to use the seldon namespace so all our commands are run there by default (instead of running everything in the default namespace.)"
   ]
  },
  {
   "cell_type": "code",
   "execution_count": 1,
   "metadata": {},
   "outputs": [
    {
     "name": "stdout",
     "output_type": "stream",
     "text": [
      "Context \"kind-seldon\" modified.\n"
     ]
    }
   ],
   "source": [
    "!kubectl config set-context $(kubectl config current-context) --namespace=seldon"
   ]
  },
  {
   "cell_type": "code",
   "execution_count": 2,
   "metadata": {},
   "outputs": [
    {
     "name": "stdout",
     "output_type": "stream",
     "text": [
      "(10000, 32, 32, 3) (10000, 1)\n"
     ]
    }
   ],
   "source": [
    "import os\n",
    "\n",
    "import matplotlib.pyplot as plt\n",
    "import tensorflow as tf\n",
    "\n",
    "train, test = tf.keras.datasets.cifar10.load_data()\n",
    "X_test, y_test = test\n",
    "X_test = X_test.astype(\"float32\") / 255\n",
    "print(X_test.shape, y_test.shape)\n",
    "class_names = [\n",
    "    \"airplane\",\n",
    "    \"automobile\",\n",
    "    \"bird\",\n",
    "    \"cat\",\n",
    "    \"deer\",\n",
    "    \"dog\",\n",
    "    \"frog\",\n",
    "    \"horse\",\n",
    "    \"ship\",\n",
    "    \"truck\",\n",
    "]"
   ]
  },
  {
   "cell_type": "markdown",
   "metadata": {},
   "source": [
    "## Triton Model Naming\n",
    "\n",
    "You need to name the model in the graph with the same name as the triton model loaded as this name will be used in the path to triton."
   ]
  },
  {
   "cell_type": "markdown",
   "metadata": {},
   "source": [
    "## Tensorflow CIFAR10 Model\n"
   ]
  },
  {
   "cell_type": "code",
   "execution_count": 3,
   "metadata": {},
   "outputs": [
    {
     "name": "stdout",
     "output_type": "stream",
     "text": [
      "Overwriting resources/triton_tf_cifar10.yaml\n"
     ]
    }
   ],
   "source": [
    "%%writefile resources/triton_tf_cifar10.yaml\n",
    "apiVersion: machinelearning.seldon.io/v1\n",
    "kind: SeldonDeployment\n",
    "metadata:\n",
    "  name: cifar10\n",
    "  namespace: seldon\n",
    "spec:\n",
    "  annotations:\n",
    "    seldon.io/engine-seldon-log-messages-externally: \"true\"\n",
    "  name: resnet32\n",
    "  predictors:\n",
    "  - graph:\n",
    "      implementation: TRITON_SERVER\n",
    "      logger:\n",
    "        mode: all\n",
    "      modelUri: gs://seldon-models/triton/tf_cifar10\n",
    "      name: cifar10\n",
    "      type: MODEL\n",
    "    name: default\n",
    "    replicas: 1\n",
    "  protocol: v2"
   ]
  },
  {
   "cell_type": "code",
   "execution_count": 4,
   "metadata": {},
   "outputs": [
    {
     "name": "stdout",
     "output_type": "stream",
     "text": [
      "Error from server (NotFound): error when deleting \"./resources/triton_tf_cifar10.yaml\": seldondeployments.machinelearning.seldon.io \"cifar10\" not found\n",
      "seldondeployment.machinelearning.seldon.io/cifar10 created\n"
     ]
    }
   ],
   "source": [
    "!kubectl delete -f ./resources/triton_tf_cifar10.yaml\n",
    "!kubectl apply -f ./resources/triton_tf_cifar10.yaml"
   ]
  },
  {
   "cell_type": "code",
   "execution_count": 5,
   "metadata": {},
   "outputs": [
    {
     "name": "stdout",
     "output_type": "stream",
     "text": [
      "Waiting for deployment \"cifar10-default-0-cifar10\" rollout to finish: 0 of 1 updated replicas are available...\n",
      "error: deployment \"cifar10-default-0-cifar10\" exceeded its progress deadline\n"
     ]
    }
   ],
   "source": [
    "!kubectl rollout status -n seldon deploy/$(kubectl get deploy -l seldon-deployment-id=cifar10 -n seldon -o jsonpath='{.items[0].metadata.name}')"
   ]
  },
  {
   "cell_type": "code",
   "execution_count": 6,
   "metadata": {},
   "outputs": [
    {
     "name": "stderr",
     "output_type": "stream",
     "text": [
      "  % Total    % Received % Xferd  Average Speed   Time    Time     Time  Current\n",
      "                                 Dload  Upload   Total   Spent    Left  Speed\n",
      "100 63903  100   336  100 63567    280  52989  0:00:01  0:00:01 --:--:-- 53296\n"
     ]
    },
    {
     "data": {
      "image/png": "[encoded data removed]",
      "text/plain": [
       "<Figure size 432x288 with 1 Axes>"
      ]
     },
     "metadata": {
      "needs_background": "light"
     },
     "output_type": "display_data"
    },
    {
     "name": "stdout",
     "output_type": "stream",
     "text": [
      "class: ship\n",
      "prediction: ship\n"
     ]
    }
   ],
   "source": [
    "import json\n",
    "from subprocess import PIPE, Popen, run\n",
    "\n",
    "import numpy as np\n",
    "\n",
    "idx = 1\n",
    "test_example = X_test[idx : idx + 1].tolist()\n",
    "payload = (\n",
    "    '{\"inputs\":[{\"name\":\"input_1\",\"datatype\":\"FP32\",\"shape\":[1, 32, 32, 3],\"data\":'\n",
    "    + f\"{test_example}\"\n",
    "    + \"}]}\"\n",
    ")\n",
    "cmd = f\"\"\"curl -d '{payload}' \\\n",
    "   http://localhost:8004/seldon/seldon/cifar10/v2/models/cifar10/infer \\\n",
    "   -H \"Content-Type: application/json\"\n",
    "\"\"\"\n",
    "ret = Popen(cmd, shell=True, stdout=PIPE)\n",
    "raw = ret.stdout.read().decode(\"utf-8\")\n",
    "res = json.loads(raw)\n",
    "arr = np.array(res[\"outputs\"][0][\"data\"])\n",
    "X = X_test[idx].reshape(1, 32, 32, 3)\n",
    "plt.imshow(X.reshape(32, 32, 3))\n",
    "plt.axis(\"off\")\n",
    "plt.show()\n",
    "print(\"class:\", class_names[y_test[idx][0]])\n",
    "print(\"prediction:\", class_names[arr.argmax()])"
   ]
  },
  {
   "cell_type": "code",
   "execution_count": 7,
   "metadata": {},
   "outputs": [
    {
     "name": "stdout",
     "output_type": "stream",
     "text": [
      "seldondeployment.machinelearning.seldon.io \"cifar10\" deleted\n"
     ]
    }
   ],
   "source": [
    "!kubectl delete -f resources/triton_tf_cifar10.yaml"
   ]
  },
  {
   "cell_type": "markdown",
   "metadata": {},
   "source": [
    "## ONNX CIFAR10 Model\n"
   ]
  },
  {
   "cell_type": "code",
   "execution_count": 20,
   "metadata": {},
   "outputs": [
    {
     "name": "stdout",
     "output_type": "stream",
     "text": [
      "Writing resources/triton_onnx_cifar10.yaml\n"
     ]
    }
   ],
   "source": [
    "%%writefile resources/triton_onnx_cifar10.yaml\n",
    "apiVersion: machinelearning.seldon.io/v1\n",
    "kind: SeldonDeployment\n",
    "metadata:\n",
    "  name: cifar10\n",
    "  namespace: seldon\n",
    "spec:\n",
    "  annotations:\n",
    "    seldon.io/engine-seldon-log-messages-externally: \"true\"\n",
    "  name: resnet32\n",
    "  predictors:\n",
    "  - graph:\n",
    "      implementation: TRITON_SERVER\n",
    "      logger:\n",
    "        mode: all\n",
    "      modelUri: gs://seldon-models/triton/onnx_cifar10\n",
    "      name: cifar10\n",
    "      type: MODEL\n",
    "    name: default\n",
    "    replicas: 1\n",
    "  protocol: v2"
   ]
  },
  {
   "cell_type": "code",
   "execution_count": 21,
   "metadata": {},
   "outputs": [
    {
     "name": "stdout",
     "output_type": "stream",
     "text": [
      "seldondeployment.machinelearning.seldon.io/cifar10 created\n"
     ]
    }
   ],
   "source": [
    "!kubectl apply -f resources/triton_onnx_cifar10.yaml"
   ]
  },
  {
   "cell_type": "code",
   "execution_count": 23,
   "metadata": {},
   "outputs": [
    {
     "name": "stdout",
     "output_type": "stream",
     "text": [
      "deployment \"cifar10-default-0-cifar10\" successfully rolled out\n"
     ]
    }
   ],
   "source": [
    "!kubectl rollout status -n seldon deploy/$(kubectl get deploy -l seldon-deployment-id=cifar10 -n seldon -o jsonpath='{.items[0].metadata.name}')"
   ]
  },
  {
   "cell_type": "code",
   "execution_count": 25,
   "metadata": {},
   "outputs": [
    {
     "name": "stderr",
     "output_type": "stream",
     "text": [
      "  % Total    % Received % Xferd  Average Speed   Time    Time     Time  Current\n",
      "                                 Dload  Upload   Total   Spent    Left  Speed\n",
      "100 63913  100   344  100 63569   5134   926k --:--:-- --:--:-- --:--:--  945k\n"
     ]
    },
    {
     "data": {
      "image/png": "[encoded data removed]",
      "text/plain": [
       "<Figure size 432x288 with 1 Axes>"
      ]
     },
     "metadata": {
      "needs_background": "light"
     },
     "output_type": "display_data"
    },
    {
     "name": "stdout",
     "output_type": "stream",
     "text": [
      "class: ship\n",
      "prediction: ship\n"
     ]
    }
   ],
   "source": [
    "import json\n",
    "from subprocess import PIPE, Popen, run\n",
    "\n",
    "import numpy as np\n",
    "\n",
    "idx = 1\n",
    "test_example = X_test[idx : idx + 1].tolist()\n",
    "payload = (\n",
    "    '{\"inputs\":[{\"name\":\"input_1:0\",\"datatype\":\"FP32\",\"shape\":[1, 32, 32, 3],\"data\":'\n",
    "    + f\"{test_example}\"\n",
    "    + \"}]}\"\n",
    ")\n",
    "cmd = f\"\"\"curl -d '{payload}' \\\n",
    "   http://localhost:8004/seldon/seldon/cifar10/v2/models/cifar10/infer \\\n",
    "   -H \"Content-Type: application/json\"\n",
    "\"\"\"\n",
    "ret = Popen(cmd, shell=True, stdout=PIPE)\n",
    "raw = ret.stdout.read().decode(\"utf-8\")\n",
    "res = json.loads(raw)\n",
    "arr = np.array(res[\"outputs\"][0][\"data\"])\n",
    "X = X_test[idx].reshape(1, 32, 32, 3)\n",
    "plt.imshow(X.reshape(32, 32, 3))\n",
    "plt.axis(\"off\")\n",
    "plt.show()\n",
    "print(\"class:\", class_names[y_test[idx][0]])\n",
    "print(\"prediction:\", class_names[arr.argmax()])"
   ]
  },
  {
   "cell_type": "code",
   "execution_count": 26,
   "metadata": {},
   "outputs": [
    {
     "name": "stdout",
     "output_type": "stream",
     "text": [
      "seldondeployment.machinelearning.seldon.io \"cifar10\" deleted\n"
     ]
    }
   ],
   "source": [
    "!kubectl delete -f resources/triton_onnx_cifar10.yaml"
   ]
  },
  {
   "attachments": {},
   "cell_type": "markdown",
   "metadata": {},
   "source": [
    "#### TorchScript CIFAR10 Model -- issue with default image nvcr.io/nvidia/tritonserver:21.08-py3. to be overridden by nvcr.io/nvidia/tritonserver:22.10-py3\n"
   ]
  },
  {
   "cell_type": "code",
   "execution_count": 16,
   "metadata": {},
   "outputs": [
    {
     "name": "stdout",
     "output_type": "stream",
     "text": [
      "Overwriting resources/triton_pt_cifar10.yaml\n"
     ]
    }
   ],
   "source": [
    "%%writefile resources/triton_pt_cifar10.yaml\n",
    "apiVersion: machinelearning.seldon.io/v1\n",
    "kind: SeldonDeployment\n",
    "metadata:\n",
    "  name: cifar10\n",
    "  namespace: seldon\n",
    "spec:\n",
    "  annotations:\n",
    "    seldon.io/engine-seldon-log-messages-externally: \"true\"\n",
    "  name: resnet32\n",
    "  predictors:\n",
    "  - graph:\n",
    "      implementation: TRITON_SERVER\n",
    "      logger:\n",
    "        mode: all\n",
    "      modelUri: gs://seldon-models/triton/pytorch_cifar10\n",
    "      name: cifar10\n",
    "      type: MODEL\n",
    "    name: default\n",
    "    replicas: 1\n",
    "  protocol: v2"
   ]
  },
  {
   "cell_type": "code",
   "execution_count": 28,
   "metadata": {},
   "outputs": [
    {
     "name": "stdout",
     "output_type": "stream",
     "text": [
      "seldondeployment.machinelearning.seldon.io/cifar10 created\n"
     ]
    }
   ],
   "source": [
    "!kubectl apply -f resources/triton_pt_cifar10.yaml"
   ]
  },
  {
   "cell_type": "code",
   "execution_count": 29,
   "metadata": {},
   "outputs": [
    {
     "name": "stdout",
     "output_type": "stream",
     "text": [
      "Waiting for deployment \"cifar10-default-0-cifar10\" rollout to finish: 0 of 1 updated replicas are available...\n",
      "deployment \"cifar10-default-0-cifar10\" successfully rolled out\n"
     ]
    }
   ],
   "source": [
    "!kubectl rollout status -n seldon deploy/$(kubectl get deploy -l seldon-deployment-id=cifar10 -n seldon -o jsonpath='{.items[0].metadata.name}')"
   ]
  },
  {
   "cell_type": "code",
   "execution_count": 13,
   "metadata": {},
   "outputs": [
    {
     "name": "stdout",
     "output_type": "stream",
     "text": [
      "Files already downloaded and verified\n"
     ]
    }
   ],
   "source": [
    "import torch\n",
    "import torchvision\n",
    "import torchvision.transforms as transforms\n",
    "\n",
    "transform = transforms.Compose(\n",
    "    [transforms.ToTensor(), transforms.Normalize((0.5, 0.5, 0.5), (0.5, 0.5, 0.5))]\n",
    ")\n",
    "testset = torchvision.datasets.CIFAR10(\n",
    "    root=\"./data\", train=False, download=True, transform=transform\n",
    ")\n",
    "\n",
    "testloader = torch.utils.data.DataLoader(\n",
    "    testset, batch_size=10, shuffle=False, num_workers=2\n",
    ")\n",
    "for data in testloader:\n",
    "    images, labels = data\n",
    "    break"
   ]
  },
  {
   "cell_type": "code",
   "execution_count": null,
   "metadata": {},
   "outputs": [],
   "source": [
    "import json\n",
    "from subprocess import PIPE, Popen, run\n",
    "\n",
    "import numpy as np\n",
    "\n",
    "idx = 3\n",
    "test_example = images[idx : idx + 1]\n",
    "test_example = test_example.tolist()\n",
    "payload = (\n",
    "    '{\"inputs\":[{\"name\":\"input__0\",\"datatype\":\"FP32\",\"shape\":[1, 3, 32, 32],\"data\":'\n",
    "    + f\"{test_example}\"\n",
    "    + \"}]}\"\n",
    ")\n",
    "cmd = f\"\"\"curl -d '{payload}' \\\n",
    "   http://localhost:8004/seldon/seldon/cifar10/v2/models/cifar10/infer \\\n",
    "   -H \"Content-Type: application/json\"\n",
    "\"\"\"\n",
    "ret = Popen(cmd, shell=True, stdout=PIPE)\n",
    "raw = ret.stdout.read().decode(\"utf-8\")\n",
    "res = json.loads(raw)\n",
    "arr = np.array(res[\"outputs\"][0][\"data\"])\n",
    "X = X_test[idx].reshape(1, 32, 32, 3)\n",
    "plt.imshow(X.reshape(32, 32, 3))\n",
    "plt.axis(\"off\")\n",
    "plt.show()\n",
    "\n",
    "print(\"class:\", class_names[labels[idx]])\n",
    "print(\"prediction:\", class_names[arr.argmax()])"
   ]
  },
  {
   "cell_type": "code",
   "execution_count": 33,
   "metadata": {},
   "outputs": [
    {
     "name": "stdout",
     "output_type": "stream",
     "text": [
      "seldondeployment.machinelearning.seldon.io \"cifar10\" deleted\n"
     ]
    }
   ],
   "source": [
    "!kubectl delete -f resources/triton_pt_cifar10.yaml"
   ]
  },
  {
   "cell_type": "markdown",
   "metadata": {},
   "source": [
    "## Multi-Model Serving\n"
   ]
  },
  {
   "cell_type": "code",
   "execution_count": 34,
   "metadata": {},
   "outputs": [
    {
     "name": "stdout",
     "output_type": "stream",
     "text": [
      "Writing resources/triton_multi.yaml\n"
     ]
    }
   ],
   "source": [
    "%%writefile resources/triton_multi.yaml\n",
    "apiVersion: machinelearning.seldon.io/v1\n",
    "kind: SeldonDeployment\n",
    "metadata:\n",
    "  name: multi\n",
    "  namespace: seldon\n",
    "spec:\n",
    "  predictors:\n",
    "  - graph:\n",
    "      implementation: TRITON_SERVER\n",
    "      logger:\n",
    "        mode: all\n",
    "      modelUri: gs://seldon-models/triton/multi\n",
    "      name: multi\n",
    "      type: MODEL\n",
    "    name: default\n",
    "    replicas: 1\n",
    "  protocol: v2"
   ]
  },
  {
   "cell_type": "code",
   "execution_count": 35,
   "metadata": {},
   "outputs": [
    {
     "name": "stdout",
     "output_type": "stream",
     "text": [
      "seldondeployment.machinelearning.seldon.io/multi created\n"
     ]
    }
   ],
   "source": [
    "!kubectl apply -f resources/triton_multi.yaml"
   ]
  },
  {
   "cell_type": "code",
   "execution_count": 37,
   "metadata": {},
   "outputs": [
    {
     "name": "stdout",
     "output_type": "stream",
     "text": [
      "deployment \"multi-default-0-multi\" successfully rolled out\n"
     ]
    }
   ],
   "source": [
    "!kubectl rollout status -n seldon deploy/$(kubectl get deploy -l seldon-deployment-id=multi -n seldon -o jsonpath='{.items[0].metadata.name}')"
   ]
  },
  {
   "cell_type": "code",
   "execution_count": 38,
   "metadata": {},
   "outputs": [
    {
     "name": "stderr",
     "output_type": "stream",
     "text": [
      "  % Total    % Received % Xferd  Average Speed   Time    Time     Time  Current\n",
      "                                 Dload  Upload   Total   Spent    Left  Speed\n",
      "100 63903  100   336  100 63567    142  26949  0:00:02  0:00:02 --:--:-- 27100\n"
     ]
    },
    {
     "data": {
      "image/png": "[encoded data removed]",
      "text/plain": [
       "<Figure size 432x288 with 1 Axes>"
      ]
     },
     "metadata": {
      "needs_background": "light"
     },
     "output_type": "display_data"
    },
    {
     "name": "stdout",
     "output_type": "stream",
     "text": [
      "class: ship\n",
      "prediction: ship\n"
     ]
    }
   ],
   "source": [
    "import json\n",
    "from subprocess import PIPE, Popen, run\n",
    "\n",
    "import numpy as np\n",
    "\n",
    "idx = 1\n",
    "test_example = X_test[idx : idx + 1].tolist()\n",
    "payload = (\n",
    "    '{\"inputs\":[{\"name\":\"input_1\",\"datatype\":\"FP32\",\"shape\":[1, 32, 32, 3],\"data\":'\n",
    "    + f\"{test_example}\"\n",
    "    + \"}]}\"\n",
    ")\n",
    "cmd = f\"\"\"curl -d '{payload}' \\\n",
    "   http://localhost:8004/seldon/seldon/multi/v2/models/cifar10/infer \\\n",
    "   -H \"Content-Type: application/json\"\n",
    "\"\"\"\n",
    "ret = Popen(cmd, shell=True, stdout=PIPE)\n",
    "raw = ret.stdout.read().decode(\"utf-8\")\n",
    "res = json.loads(raw)\n",
    "arr = np.array(res[\"outputs\"][0][\"data\"])\n",
    "X = X_test[idx].reshape(1, 32, 32, 3)\n",
    "plt.imshow(X.reshape(32, 32, 3))\n",
    "plt.axis(\"off\")\n",
    "plt.show()\n",
    "print(\"class:\", class_names[y_test[idx][0]])\n",
    "print(\"prediction:\", class_names[arr.argmax()])"
   ]
  },
  {
   "cell_type": "code",
   "execution_count": 39,
   "metadata": {},
   "outputs": [
    {
     "name": "stdout",
     "output_type": "stream",
     "text": [
      "{'model_name': 'simple', 'model_version': '1', 'outputs': [{'name': 'OUTPUT0', 'datatype': 'INT32', 'shape': [1, 16], 'data': [2, 4, 6, 8, 10, 12, 14, 16, 18, 20, 22, 24, 26, 28, 30, 32]}, {'name': 'OUTPUT1', 'datatype': 'INT32', 'shape': [1, 16], 'data': [0, 0, 0, 0, 0, 0, 0, 0, 0, 0, 0, 0, 0, 0, 0, 0]}]}\n"
     ]
    }
   ],
   "source": [
    "X=!curl -s -d '{\"inputs\":[{\"name\":\"INPUT0\",\"data\":[1,2,3,4,5,6,7,8,9,10,11,12,13,14,15,16],\"datatype\":\"INT32\",\"shape\":[1,16]},{\"name\":\"INPUT1\",\"data\":[1,2,3,4,5,6,7,8,9,10,11,12,13,14,15,16],\"datatype\":\"INT32\",\"shape\":[1,16]}]}'  \\\n",
    "        -X POST http://0.0.0.0:8004/seldon/seldon/multi/v2/models/simple/infer \\\n",
    "        -H \"Content-Type: application/json\"\n",
    "d=json.loads(X[0])\n",
    "print(d)\n",
    "assert(d[\"outputs\"][0][\"data\"][0]==2)"
   ]
  },
  {
   "cell_type": "code",
   "execution_count": 40,
   "metadata": {},
   "outputs": [
    {
     "name": "stdout",
     "output_type": "stream",
     "text": [
      "error: error when deleting \"resources/triton_multi.yaml\": Delete \"https://127.0.0.1:57560/apis/machinelearning.seldon.io/v1/namespaces/seldon/seldondeployments/multi\": EOF\n"
     ]
    }
   ],
   "source": [
    "!kubectl delete -f resources/triton_multi.yaml"
   ]
  },
  {
   "attachments": {},
   "cell_type": "markdown",
   "metadata": {},
   "source": [
    "### Copy PyTorch cifar10 model to MINIO"
   ]
  },
  {
   "cell_type": "code",
   "execution_count": 11,
   "metadata": {},
   "outputs": [
    {
     "name": "stdout",
     "output_type": "stream",
     "text": [
      "\u001b[0;32mKubernetes control plane\u001b[0m is running at \u001b[0;33mhttps://127.0.0.1:57215\u001b[0m\n",
      "\u001b[0;32mCoreDNS\u001b[0m is running at \u001b[0;33mhttps://127.0.0.1:57215/api/v1/namespaces/kube-system/services/kube-dns:dns/proxy\u001b[0m\n",
      "\n",
      "To further debug and diagnose cluster problems, use 'kubectl cluster-info dump'.\n",
      "Added `gcs` successfully.\n",
      "Bucket created successfully `minio-seldon/pytorchcifar10`.\n",
      "`gcs/seldon-models/triton/pytorch_cifar10/cifar10/1/model.pt` -> `minio-seldon/pytorchcifar10/cifar10/1/model.pt`\n",
      "`gcs/seldon-models/triton/pytorch_cifar10/cifar10/config.pbtxt` -> `minio-seldon/pytorchcifar10/cifar10/config.pbtxt`\n",
      "Total: 0 B, Transferred: 255.32 KiB, Speed: 177.83 KiB/s\n"
     ]
    }
   ],
   "source": [
    "%%bash\n",
    "kubectl cluster-info --context kind-seldon\n",
    "mc config host add gcs https://storage.googleapis.com \"\" \"\" \n",
    "\n",
    "mc mb minio-seldon/pytorchcifar10 -p\n",
    "mc cp gcs/seldon-models/triton/pytorch_cifar10/cifar10 minio-seldon/pytorchcifar10/ --recursive\n",
    "# mc cp gcs/seldon-models/sklearn/iris/metadata.yaml minio-seldon/iris/"
   ]
  }
 ],
 "metadata": {
  "anaconda-cloud": {},
  "kernelspec": {
   "display_name": "Python 3.9.12 ('base')",
   "language": "python",
   "name": "python3"
  },
  "language_info": {
   "codemirror_mode": {
    "name": "ipython",
    "version": 3
   },
   "file_extension": ".py",
   "mimetype": "text/x-python",
   "name": "python",
   "nbconvert_exporter": "python",
   "pygments_lexer": "ipython3",
   "version": "3.9.12"
  },
  "varInspector": {
   "cols": {
    "lenName": 16,
    "lenType": 16,
    "lenVar": 40
   },
   "kernels_config": {
    "python": {
     "delete_cmd_postfix": "",
     "delete_cmd_prefix": "del ",
     "library": "var_list.py",
     "varRefreshCmd": "print(var_dic_list())"
    },
    "r": {
     "delete_cmd_postfix": ") ",
     "delete_cmd_prefix": "rm(",
     "library": "var_list.r",
     "varRefreshCmd": "cat(var_dic_list()) "
    }
   },
   "types_to_exclude": [
    "module",
    "function",
    "builtin_function_or_method",
    "instance",
    "_Feature"
   ],
   "window_display": false
  },
  "vscode": {
   "interpreter": {
    "hash": "3c5b05c738269f3db37ab2b93400d252a3eceb4ebe547b00838e0efaaa2ac1dc"
   }
  }
 },
 "nbformat": 4,
 "nbformat_minor": 4
}
