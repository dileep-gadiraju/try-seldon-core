{
 "cells": [
  {
   "cell_type": "markdown",
   "metadata": {},
   "source": [
    "# MLFlow Pre-packaged Model Server AB Test Deployment \n",
    "In this example we will build two models with MLFlow and we will deploy them as an A/B test deployment. The reason this is powerful is because it allows you to deploy a new model next to the old one, distributing a percentage of traffic. These deployment strategies are quite simple using Seldon, and can be extended to shadow deployments, multi-armed-bandits, etc."
   ]
  },
  {
   "cell_type": "markdown",
   "metadata": {},
   "source": [
    "## Tutorial Overview\n",
    "\n",
    "This tutorial will follow closely break down in the following sections:\n",
    "\n",
    "1. Train the MLFlow elastic net wine example\n",
    "\n",
    "2. Deploy your trained model leveraging our pre-packaged MLFlow model server\n",
    "\n",
    "3. Test the deployed MLFlow model by sending requests\n",
    "\n",
    "4. Deploy your second model as an A/B test\n",
    "\n",
    "5. Visualise and monitor the performance of your models using Seldon Analytics\n",
    "\n",
    "It will follow closely our talk at the [Spark + AI Summit 2019 on Seldon and MLflow](https://www.youtube.com/watch?v=D6eSfd9w9eA)."
   ]
  },
  {
   "cell_type": "markdown",
   "metadata": {},
   "source": [
    "## Dependencies\n",
    "\n",
    "For this example to work you must be running Seldon 0.3.2 or above - you can follow our [getting started guide for this](https://docs.seldon.io/projects/seldon-core/en/latest/workflow/install.html).\n",
    "\n",
    "In regards to other dependencies, make sure you have installed:\n",
    "\n",
    "* Helm v3.0.0+\n",
    "* kubectl v1.14+\n",
    "* Python 3.6+\n",
    "* MLFlow 1.1.0\n",
    "* [pygmentize](https://pygments.org/docs/cmdline/)\n",
    "\n",
    "We will also take this chance to load the Python dependencies we will use through the tutorial:"
   ]
  },
  {
   "cell_type": "code",
   "execution_count": 59,
   "metadata": {},
   "outputs": [],
   "source": [
    "import numpy as np\n",
    "import pandas as pd\n",
    "\n",
    "from seldon_core.seldon_client import SeldonClient"
   ]
  },
  {
   "cell_type": "markdown",
   "metadata": {},
   "source": [
    "Let's get started! 🚀🔥"
   ]
  },
  {
   "cell_type": "markdown",
   "metadata": {},
   "source": [
    "## 1. Train the first MLFlow Elastic Net Wine example\n",
    "\n",
    "For our example, we will use the elastic net wine example from [MLflow's tutorial](https://github.com/mlflow/mlflow/tree/master/examples/sklearn_elasticnet_wine)."
   ]
  },
  {
   "cell_type": "code",
   "execution_count": 60,
   "metadata": {},
   "outputs": [
    {
     "name": "stdout",
     "output_type": "stream",
     "text": [
      "fatal: destination path 'mlflow' already exists and is not an empty directory.\n",
      "MLproject        python_env.yaml  train.py\n",
      "conda.yaml       train.ipynb      wine-quality.csv\n"
     ]
    }
   ],
   "source": [
    "!git clone https://github.com/mlflow/mlflow.git\n",
    "!ls ./mlflow/examples/sklearn_elasticnet_wine"
   ]
  },
  {
   "cell_type": "markdown",
   "metadata": {},
   "source": [
    "### MLproject\n",
    "\n",
    "As any other MLflow project, it is defined by its `MLproject` file:"
   ]
  },
  {
   "cell_type": "code",
   "execution_count": 61,
   "metadata": {},
   "outputs": [
    {
     "name": "stdout",
     "output_type": "stream",
     "text": [
      "\u001b[94mname\u001b[39;49;00m:\u001b[37m \u001b[39;49;00mtutorial\u001b[37m\u001b[39;49;00m\r\n",
      "\u001b[37m\u001b[39;49;00m\r\n",
      "\u001b[94mpython_env\u001b[39;49;00m:\u001b[37m \u001b[39;49;00mpython_env.yaml\u001b[37m\u001b[39;49;00m\r\n",
      "\u001b[37m\u001b[39;49;00m\r\n",
      "\u001b[94mentry_points\u001b[39;49;00m:\u001b[37m\u001b[39;49;00m\r\n",
      "\u001b[37m  \u001b[39;49;00m\u001b[94mmain\u001b[39;49;00m:\u001b[37m\u001b[39;49;00m\r\n",
      "\u001b[37m    \u001b[39;49;00m\u001b[94mparameters\u001b[39;49;00m:\u001b[37m\u001b[39;49;00m\r\n",
      "\u001b[37m      \u001b[39;49;00m\u001b[94malpha\u001b[39;49;00m:\u001b[37m \u001b[39;49;00m{\u001b[94mtype\u001b[39;49;00m:\u001b[37m \u001b[39;49;00m\u001b[31mfloat\u001b[39;49;00m,\u001b[94m default\u001b[39;49;00m:\u001b[37m \u001b[39;49;00m\u001b[31m0.5\u001b[39;49;00m}\u001b[37m\u001b[39;49;00m\r\n",
      "\u001b[37m      \u001b[39;49;00m\u001b[94ml1_ratio\u001b[39;49;00m:\u001b[37m \u001b[39;49;00m{\u001b[94mtype\u001b[39;49;00m:\u001b[37m \u001b[39;49;00m\u001b[31mfloat\u001b[39;49;00m,\u001b[94m default\u001b[39;49;00m:\u001b[37m \u001b[39;49;00m\u001b[31m0.1\u001b[39;49;00m}\u001b[37m\u001b[39;49;00m\r\n",
      "\u001b[37m    \u001b[39;49;00m\u001b[94mcommand\u001b[39;49;00m:\u001b[37m \u001b[39;49;00m\u001b[33m\"\u001b[39;49;00m\u001b[33mpython\u001b[39;49;00m\u001b[31m \u001b[39;49;00m\u001b[33mtrain.py\u001b[39;49;00m\u001b[31m \u001b[39;49;00m\u001b[33m{alpha}\u001b[39;49;00m\u001b[31m \u001b[39;49;00m\u001b[33m{l1_ratio}\u001b[39;49;00m\u001b[33m\"\u001b[39;49;00m\u001b[37m\u001b[39;49;00m\r\n"
     ]
    }
   ],
   "source": [
    "PROJECT_DIR='./mlflow/examples/sklearn_elasticnet_wine'\n",
    "!pygmentize -l yaml $PROJECT_DIR/MLproject"
   ]
  },
  {
   "cell_type": "markdown",
   "metadata": {},
   "source": [
    "We can see that this project uses Conda for the environment and that it's defined in the `conda.yaml` file:"
   ]
  },
  {
   "cell_type": "code",
   "execution_count": 62,
   "metadata": {},
   "outputs": [
    {
     "name": "stdout",
     "output_type": "stream",
     "text": [
      "\u001b[94mname\u001b[39;49;00m:\u001b[37m \u001b[39;49;00mtutorial\u001b[37m\u001b[39;49;00m\r\n",
      "\u001b[94mchannels\u001b[39;49;00m:\u001b[37m\u001b[39;49;00m\r\n",
      "\u001b[37m  \u001b[39;49;00m-\u001b[37m \u001b[39;49;00mconda-forge\u001b[37m\u001b[39;49;00m\r\n",
      "\u001b[94mdependencies\u001b[39;49;00m:\u001b[37m\u001b[39;49;00m\r\n",
      "\u001b[37m  \u001b[39;49;00m-\u001b[37m \u001b[39;49;00mpython=3.8\u001b[37m\u001b[39;49;00m\r\n",
      "\u001b[37m  \u001b[39;49;00m-\u001b[37m \u001b[39;49;00mpip\u001b[37m\u001b[39;49;00m\r\n",
      "\u001b[37m  \u001b[39;49;00m-\u001b[37m \u001b[39;49;00m\u001b[94mpip\u001b[39;49;00m:\u001b[37m\u001b[39;49;00m\r\n",
      "\u001b[37m      \u001b[39;49;00m-\u001b[37m \u001b[39;49;00mscikit-learn==0.23.2\u001b[37m\u001b[39;49;00m\r\n",
      "\u001b[37m      \u001b[39;49;00m-\u001b[37m \u001b[39;49;00mmlflow>=1.0\u001b[37m\u001b[39;49;00m\r\n",
      "\u001b[37m      \u001b[39;49;00m-\u001b[37m \u001b[39;49;00mpandas\u001b[37m\u001b[39;49;00m\r\n"
     ]
    }
   ],
   "source": [
    "!pygmentize $PROJECT_DIR/conda.yaml"
   ]
  },
  {
   "cell_type": "markdown",
   "metadata": {},
   "source": [
    "Lastly, we can also see that the training will be performed by the `train.py` file, which receives two parameters `alpha` and `l1_ratio`:"
   ]
  },
  {
   "cell_type": "code",
   "execution_count": 63,
   "metadata": {},
   "outputs": [
    {
     "name": "stdout",
     "output_type": "stream",
     "text": [
      "\u001b[37m# The data set used in this example is from http://archive.ics.uci.edu/ml/datasets/Wine+Quality\u001b[39;49;00m\n",
      "\u001b[37m# P. Cortez, A. Cerdeira, F. Almeida, T. Matos and J. Reis.\u001b[39;49;00m\n",
      "\u001b[37m# Modeling wine preferences by data mining from physicochemical properties. In Decision Support Systems, Elsevier, 47(4):547-553, 2009.\u001b[39;49;00m\n",
      "\n",
      "\u001b[34mimport\u001b[39;49;00m \u001b[04m\u001b[36mos\u001b[39;49;00m\n",
      "\u001b[34mimport\u001b[39;49;00m \u001b[04m\u001b[36mwarnings\u001b[39;49;00m\n",
      "\u001b[34mimport\u001b[39;49;00m \u001b[04m\u001b[36msys\u001b[39;49;00m\n",
      "\n",
      "\u001b[34mimport\u001b[39;49;00m \u001b[04m\u001b[36mpandas\u001b[39;49;00m \u001b[34mas\u001b[39;49;00m \u001b[04m\u001b[36mpd\u001b[39;49;00m\n",
      "\u001b[34mimport\u001b[39;49;00m \u001b[04m\u001b[36mnumpy\u001b[39;49;00m \u001b[34mas\u001b[39;49;00m \u001b[04m\u001b[36mnp\u001b[39;49;00m\n",
      "\u001b[34mfrom\u001b[39;49;00m \u001b[04m\u001b[36msklearn\u001b[39;49;00m\u001b[04m\u001b[36m.\u001b[39;49;00m\u001b[04m\u001b[36mmetrics\u001b[39;49;00m \u001b[34mimport\u001b[39;49;00m mean_squared_error, mean_absolute_error, r2_score\n",
      "\u001b[34mfrom\u001b[39;49;00m \u001b[04m\u001b[36msklearn\u001b[39;49;00m\u001b[04m\u001b[36m.\u001b[39;49;00m\u001b[04m\u001b[36mmodel_selection\u001b[39;49;00m \u001b[34mimport\u001b[39;49;00m train_test_split\n",
      "\u001b[34mfrom\u001b[39;49;00m \u001b[04m\u001b[36msklearn\u001b[39;49;00m\u001b[04m\u001b[36m.\u001b[39;49;00m\u001b[04m\u001b[36mlinear_model\u001b[39;49;00m \u001b[34mimport\u001b[39;49;00m ElasticNet\n",
      "\u001b[34mfrom\u001b[39;49;00m \u001b[04m\u001b[36murllib\u001b[39;49;00m\u001b[04m\u001b[36m.\u001b[39;49;00m\u001b[04m\u001b[36mparse\u001b[39;49;00m \u001b[34mimport\u001b[39;49;00m urlparse\n",
      "\u001b[34mimport\u001b[39;49;00m \u001b[04m\u001b[36mmlflow\u001b[39;49;00m\n",
      "\u001b[34mimport\u001b[39;49;00m \u001b[04m\u001b[36mmlflow\u001b[39;49;00m\u001b[04m\u001b[36m.\u001b[39;49;00m\u001b[04m\u001b[36msklearn\u001b[39;49;00m\n",
      "\n",
      "\u001b[34mimport\u001b[39;49;00m \u001b[04m\u001b[36mlogging\u001b[39;49;00m\n",
      "\n",
      "logging.basicConfig(level=logging.WARN)\n",
      "logger = logging.getLogger(\u001b[31m__name__\u001b[39;49;00m)\n",
      "\n",
      "\n",
      "\u001b[34mdef\u001b[39;49;00m \u001b[32meval_metrics\u001b[39;49;00m(actual, pred):\n",
      "    rmse = np.sqrt(mean_squared_error(actual, pred))\n",
      "    mae = mean_absolute_error(actual, pred)\n",
      "    r2 = r2_score(actual, pred)\n",
      "    \u001b[34mreturn\u001b[39;49;00m rmse, mae, r2\n",
      "\n",
      "\n",
      "\u001b[34mif\u001b[39;49;00m \u001b[31m__name__\u001b[39;49;00m == \u001b[33m\"\u001b[39;49;00m\u001b[33m__main__\u001b[39;49;00m\u001b[33m\"\u001b[39;49;00m:\n",
      "    warnings.filterwarnings(\u001b[33m\"\u001b[39;49;00m\u001b[33mignore\u001b[39;49;00m\u001b[33m\"\u001b[39;49;00m)\n",
      "    np.random.seed(\u001b[34m40\u001b[39;49;00m)\n",
      "\n",
      "    \u001b[37m# Read the wine-quality csv file from the URL\u001b[39;49;00m\n",
      "    csv_url = (\n",
      "        \u001b[33m\"\u001b[39;49;00m\u001b[33mhttps://raw.githubusercontent.com/mlflow/mlflow/master/tests/data/winequality-red.csv\u001b[39;49;00m\u001b[33m\"\u001b[39;49;00m\n",
      "    )\n",
      "    \u001b[34mtry\u001b[39;49;00m:\n",
      "        data = pd.read_csv(csv_url, sep=\u001b[33m\"\u001b[39;49;00m\u001b[33m;\u001b[39;49;00m\u001b[33m\"\u001b[39;49;00m)\n",
      "    \u001b[34mexcept\u001b[39;49;00m \u001b[36mException\u001b[39;49;00m \u001b[34mas\u001b[39;49;00m e:\n",
      "        logger.exception(\n",
      "            \u001b[33m\"\u001b[39;49;00m\u001b[33mUnable to download training & test CSV, check your internet connection. Error: \u001b[39;49;00m\u001b[33m%s\u001b[39;49;00m\u001b[33m\"\u001b[39;49;00m, e\n",
      "        )\n",
      "\n",
      "    \u001b[37m# Split the data into training and test sets. (0.75, 0.25) split.\u001b[39;49;00m\n",
      "    train, test = train_test_split(data)\n",
      "\n",
      "    \u001b[37m# The predicted column is \"quality\" which is a scalar from [3, 9]\u001b[39;49;00m\n",
      "    train_x = train.drop([\u001b[33m\"\u001b[39;49;00m\u001b[33mquality\u001b[39;49;00m\u001b[33m\"\u001b[39;49;00m], axis=\u001b[34m1\u001b[39;49;00m)\n",
      "    test_x = test.drop([\u001b[33m\"\u001b[39;49;00m\u001b[33mquality\u001b[39;49;00m\u001b[33m\"\u001b[39;49;00m], axis=\u001b[34m1\u001b[39;49;00m)\n",
      "    train_y = train[[\u001b[33m\"\u001b[39;49;00m\u001b[33mquality\u001b[39;49;00m\u001b[33m\"\u001b[39;49;00m]]\n",
      "    test_y = test[[\u001b[33m\"\u001b[39;49;00m\u001b[33mquality\u001b[39;49;00m\u001b[33m\"\u001b[39;49;00m]]\n",
      "\n",
      "    alpha = \u001b[36mfloat\u001b[39;49;00m(sys.argv[\u001b[34m1\u001b[39;49;00m]) \u001b[34mif\u001b[39;49;00m \u001b[36mlen\u001b[39;49;00m(sys.argv) > \u001b[34m1\u001b[39;49;00m \u001b[34melse\u001b[39;49;00m \u001b[34m0.5\u001b[39;49;00m\n",
      "    l1_ratio = \u001b[36mfloat\u001b[39;49;00m(sys.argv[\u001b[34m2\u001b[39;49;00m]) \u001b[34mif\u001b[39;49;00m \u001b[36mlen\u001b[39;49;00m(sys.argv) > \u001b[34m2\u001b[39;49;00m \u001b[34melse\u001b[39;49;00m \u001b[34m0.5\u001b[39;49;00m\n",
      "\n",
      "    \u001b[34mwith\u001b[39;49;00m mlflow.start_run():\n",
      "        lr = ElasticNet(alpha=alpha, l1_ratio=l1_ratio, random_state=\u001b[34m42\u001b[39;49;00m)\n",
      "        lr.fit(train_x, train_y)\n",
      "\n",
      "        predicted_qualities = lr.predict(test_x)\n",
      "\n",
      "        (rmse, mae, r2) = eval_metrics(test_y, predicted_qualities)\n",
      "\n",
      "        \u001b[36mprint\u001b[39;49;00m(\u001b[33m\"\u001b[39;49;00m\u001b[33mElasticnet model (alpha=\u001b[39;49;00m\u001b[33m%f\u001b[39;49;00m\u001b[33m, l1_ratio=\u001b[39;49;00m\u001b[33m%f\u001b[39;49;00m\u001b[33m):\u001b[39;49;00m\u001b[33m\"\u001b[39;49;00m % (alpha, l1_ratio))\n",
      "        \u001b[36mprint\u001b[39;49;00m(\u001b[33m\"\u001b[39;49;00m\u001b[33m  RMSE: \u001b[39;49;00m\u001b[33m%s\u001b[39;49;00m\u001b[33m\"\u001b[39;49;00m % rmse)\n",
      "        \u001b[36mprint\u001b[39;49;00m(\u001b[33m\"\u001b[39;49;00m\u001b[33m  MAE: \u001b[39;49;00m\u001b[33m%s\u001b[39;49;00m\u001b[33m\"\u001b[39;49;00m % mae)\n",
      "        \u001b[36mprint\u001b[39;49;00m(\u001b[33m\"\u001b[39;49;00m\u001b[33m  R2: \u001b[39;49;00m\u001b[33m%s\u001b[39;49;00m\u001b[33m\"\u001b[39;49;00m % r2)\n",
      "\n",
      "        mlflow.log_param(\u001b[33m\"\u001b[39;49;00m\u001b[33malpha\u001b[39;49;00m\u001b[33m\"\u001b[39;49;00m, alpha)\n",
      "        mlflow.log_param(\u001b[33m\"\u001b[39;49;00m\u001b[33ml1_ratio\u001b[39;49;00m\u001b[33m\"\u001b[39;49;00m, l1_ratio)\n",
      "        mlflow.log_metric(\u001b[33m\"\u001b[39;49;00m\u001b[33mrmse\u001b[39;49;00m\u001b[33m\"\u001b[39;49;00m, rmse)\n",
      "        mlflow.log_metric(\u001b[33m\"\u001b[39;49;00m\u001b[33mr2\u001b[39;49;00m\u001b[33m\"\u001b[39;49;00m, r2)\n",
      "        mlflow.log_metric(\u001b[33m\"\u001b[39;49;00m\u001b[33mmae\u001b[39;49;00m\u001b[33m\"\u001b[39;49;00m, mae)\n",
      "\n",
      "        tracking_url_type_store = urlparse(mlflow.get_tracking_uri()).scheme\n",
      "\n",
      "        \u001b[37m# Model registry does not work with file store\u001b[39;49;00m\n",
      "        \u001b[34mif\u001b[39;49;00m tracking_url_type_store != \u001b[33m\"\u001b[39;49;00m\u001b[33mfile\u001b[39;49;00m\u001b[33m\"\u001b[39;49;00m:\n",
      "\n",
      "            \u001b[37m# Register the model\u001b[39;49;00m\n",
      "            \u001b[37m# There are other ways to use the Model Registry, which depends on the use case,\u001b[39;49;00m\n",
      "            \u001b[37m# please refer to the doc for more information:\u001b[39;49;00m\n",
      "            \u001b[37m# https://mlflow.org/docs/latest/model-registry.html#api-workflow\u001b[39;49;00m\n",
      "            mlflow.sklearn.log_model(lr, \u001b[33m\"\u001b[39;49;00m\u001b[33mmodel\u001b[39;49;00m\u001b[33m\"\u001b[39;49;00m, registered_model_name=\u001b[33m\"\u001b[39;49;00m\u001b[33mElasticnetWineModel\u001b[39;49;00m\u001b[33m\"\u001b[39;49;00m)\n",
      "        \u001b[34melse\u001b[39;49;00m:\n",
      "            mlflow.sklearn.log_model(lr, \u001b[33m\"\u001b[39;49;00m\u001b[33mmodel\u001b[39;49;00m\u001b[33m\"\u001b[39;49;00m)\n"
     ]
    }
   ],
   "source": [
    "!pygmentize $PROJECT_DIR/train.py"
   ]
  },
  {
   "cell_type": "markdown",
   "metadata": {},
   "source": [
    "### Dataset\n",
    "\n",
    "We will use the wine quality dataset.\n",
    "Let's load it to see what's inside:"
   ]
  },
  {
   "cell_type": "code",
   "execution_count": 64,
   "metadata": {},
   "outputs": [
    {
     "data": {
      "text/html": [
       "<div>\n",
       "<style scoped>\n",
       "    .dataframe tbody tr th:only-of-type {\n",
       "        vertical-align: middle;\n",
       "    }\n",
       "\n",
       "    .dataframe tbody tr th {\n",
       "        vertical-align: top;\n",
       "    }\n",
       "\n",
       "    .dataframe thead th {\n",
       "        text-align: right;\n",
       "    }\n",
       "</style>\n",
       "<table border=\"1\" class=\"dataframe\">\n",
       "  <thead>\n",
       "    <tr style=\"text-align: right;\">\n",
       "      <th></th>\n",
       "      <th>fixed acidity</th>\n",
       "      <th>volatile acidity</th>\n",
       "      <th>citric acid</th>\n",
       "      <th>residual sugar</th>\n",
       "      <th>chlorides</th>\n",
       "      <th>free sulfur dioxide</th>\n",
       "      <th>total sulfur dioxide</th>\n",
       "      <th>density</th>\n",
       "      <th>pH</th>\n",
       "      <th>sulphates</th>\n",
       "      <th>alcohol</th>\n",
       "      <th>quality</th>\n",
       "    </tr>\n",
       "  </thead>\n",
       "  <tbody>\n",
       "    <tr>\n",
       "      <th>0</th>\n",
       "      <td>7.0</td>\n",
       "      <td>0.27</td>\n",
       "      <td>0.36</td>\n",
       "      <td>20.7</td>\n",
       "      <td>0.045</td>\n",
       "      <td>45.0</td>\n",
       "      <td>170.0</td>\n",
       "      <td>1.0010</td>\n",
       "      <td>3.00</td>\n",
       "      <td>0.45</td>\n",
       "      <td>8.8</td>\n",
       "      <td>6</td>\n",
       "    </tr>\n",
       "    <tr>\n",
       "      <th>1</th>\n",
       "      <td>6.3</td>\n",
       "      <td>0.30</td>\n",
       "      <td>0.34</td>\n",
       "      <td>1.6</td>\n",
       "      <td>0.049</td>\n",
       "      <td>14.0</td>\n",
       "      <td>132.0</td>\n",
       "      <td>0.9940</td>\n",
       "      <td>3.30</td>\n",
       "      <td>0.49</td>\n",
       "      <td>9.5</td>\n",
       "      <td>6</td>\n",
       "    </tr>\n",
       "    <tr>\n",
       "      <th>2</th>\n",
       "      <td>8.1</td>\n",
       "      <td>0.28</td>\n",
       "      <td>0.40</td>\n",
       "      <td>6.9</td>\n",
       "      <td>0.050</td>\n",
       "      <td>30.0</td>\n",
       "      <td>97.0</td>\n",
       "      <td>0.9951</td>\n",
       "      <td>3.26</td>\n",
       "      <td>0.44</td>\n",
       "      <td>10.1</td>\n",
       "      <td>6</td>\n",
       "    </tr>\n",
       "    <tr>\n",
       "      <th>3</th>\n",
       "      <td>7.2</td>\n",
       "      <td>0.23</td>\n",
       "      <td>0.32</td>\n",
       "      <td>8.5</td>\n",
       "      <td>0.058</td>\n",
       "      <td>47.0</td>\n",
       "      <td>186.0</td>\n",
       "      <td>0.9956</td>\n",
       "      <td>3.19</td>\n",
       "      <td>0.40</td>\n",
       "      <td>9.9</td>\n",
       "      <td>6</td>\n",
       "    </tr>\n",
       "    <tr>\n",
       "      <th>4</th>\n",
       "      <td>7.2</td>\n",
       "      <td>0.23</td>\n",
       "      <td>0.32</td>\n",
       "      <td>8.5</td>\n",
       "      <td>0.058</td>\n",
       "      <td>47.0</td>\n",
       "      <td>186.0</td>\n",
       "      <td>0.9956</td>\n",
       "      <td>3.19</td>\n",
       "      <td>0.40</td>\n",
       "      <td>9.9</td>\n",
       "      <td>6</td>\n",
       "    </tr>\n",
       "  </tbody>\n",
       "</table>\n",
       "</div>"
      ],
      "text/plain": [
       "   fixed acidity  volatile acidity  citric acid  residual sugar  chlorides  \\\n",
       "0            7.0              0.27         0.36            20.7      0.045   \n",
       "1            6.3              0.30         0.34             1.6      0.049   \n",
       "2            8.1              0.28         0.40             6.9      0.050   \n",
       "3            7.2              0.23         0.32             8.5      0.058   \n",
       "4            7.2              0.23         0.32             8.5      0.058   \n",
       "\n",
       "   free sulfur dioxide  total sulfur dioxide  density    pH  sulphates  \\\n",
       "0                 45.0                 170.0   1.0010  3.00       0.45   \n",
       "1                 14.0                 132.0   0.9940  3.30       0.49   \n",
       "2                 30.0                  97.0   0.9951  3.26       0.44   \n",
       "3                 47.0                 186.0   0.9956  3.19       0.40   \n",
       "4                 47.0                 186.0   0.9956  3.19       0.40   \n",
       "\n",
       "   alcohol  quality  \n",
       "0      8.8        6  \n",
       "1      9.5        6  \n",
       "2     10.1        6  \n",
       "3      9.9        6  \n",
       "4      9.9        6  "
      ]
     },
     "execution_count": 64,
     "metadata": {},
     "output_type": "execute_result"
    }
   ],
   "source": [
    "filename = \"./mlflow/examples/sklearn_elasticnet_wine/wine-quality.csv\"\n",
    "data = pd.read_csv(filename)\n",
    "data.head()"
   ]
  },
  {
   "cell_type": "markdown",
   "metadata": {},
   "source": [
    "### Training\n",
    "\n",
    "We've set up our MLflow project and our dataset is ready, so we are now good to start training.\n",
    "MLflow allows us to train our model with the following command:\n",
    "\n",
    "``` bash\n",
    "$ mlflow run . -P alpha=... -P l1_ratio=...\n",
    "```\n",
    "\n",
    "On each run, `mlflow` will set up the Conda environment defined by the `conda.yaml` file and will run the training commands defined in the `MLproject` file."
   ]
  },
  {
   "cell_type": "code",
   "execution_count": 65,
   "metadata": {},
   "outputs": [
    {
     "name": "stdout",
     "output_type": "stream",
     "text": [
      "2022/12/07 04:16:02 INFO mlflow.utils.virtualenv: Installing python 3.8.14 if it does not exist\n",
      "2022/12/07 04:16:03 INFO mlflow.utils.virtualenv: Environment /Users/dileep.gadiraju/.mlflow/envs/mlflow-eee90753fcbd811c61a366651b95e9611177504d already exists\n",
      "2022/12/07 04:16:03 INFO mlflow.projects.utils: === Created directory /var/folders/p9/nndbrbws0j9ghcfk3yw_0smh0000gp/T/tmpsttldq99 for downloading remote URIs passed to arguments of type 'path' ===\n",
      "2022/12/07 04:16:03 INFO mlflow.projects.backend.local: === Running command 'source /Users/dileep.gadiraju/.mlflow/envs/mlflow-eee90753fcbd811c61a366651b95e9611177504d/bin/activate && python train.py 0.5 0.5' in run with ID '5072d00e159e41d08fe3b46eb678a84e' === \n",
      "Elasticnet model (alpha=0.500000, l1_ratio=0.500000):\n",
      "  RMSE: 0.7931640229276851\n",
      "  MAE: 0.6271946374319586\n",
      "  R2: 0.10862644997792614\n",
      "2022/12/07 04:16:23 INFO mlflow.projects: === Run (ID '5072d00e159e41d08fe3b46eb678a84e') succeeded ===\n"
     ]
    }
   ],
   "source": [
    "# !pip install mlflow\n",
    "!mlflow run $PROJECT_DIR -P alpha=0.5 -P l1_ratio=0.5"
   ]
  },
  {
   "cell_type": "markdown",
   "metadata": {},
   "source": [
    "Each of these commands will create a new run which can be visualised through the MLFlow dashboard as per the screenshot below.\n",
    "\n",
    "![mlflow-dashboard](images/mlflow-dashboard.png)\n"
   ]
  },
  {
   "cell_type": "markdown",
   "metadata": {},
   "source": [
    "Each of these models can actually be found on the `mlruns` folder:"
   ]
  },
  {
   "cell_type": "code",
   "execution_count": 66,
   "metadata": {},
   "outputs": [
    {
     "name": "stdout",
     "output_type": "stream",
     "text": [
      "\u001b[01;34mmlruns/0\u001b[0m\r\n",
      "├── \u001b[01;34m02024ee8d05741b5b0f71938007e3ea7\u001b[0m\r\n",
      "├── \u001b[01;34m5072d00e159e41d08fe3b46eb678a84e\u001b[0m\r\n",
      "└── \u001b[00mmeta.yaml\u001b[0m\r\n",
      "\r\n",
      "2 directories, 1 file\r\n"
     ]
    }
   ],
   "source": [
    "!tree -L 1 mlruns/0"
   ]
  },
  {
   "cell_type": "markdown",
   "metadata": {},
   "source": [
    "### MLmodel\n",
    "\n",
    "Inside each of these folders, MLflow stores the parameters we used to train our model, any metric we logged during training, and a snapshot of our model.\n",
    "If we look into one of them, we can see the following structure:"
   ]
  },
  {
   "cell_type": "code",
   "execution_count": 67,
   "metadata": {},
   "outputs": [
    {
     "name": "stdout",
     "output_type": "stream",
     "text": [
      "\u001b[01;34mmlruns/0/02024ee8d05741b5b0f71938007e3ea7\u001b[0m\r\n",
      "├── \u001b[01;34martifacts\u001b[0m\r\n",
      "│   └── \u001b[01;34mmodel\u001b[0m\r\n",
      "│       ├── \u001b[00mMLmodel\u001b[0m\r\n",
      "│       ├── \u001b[00mconda.yaml\u001b[0m\r\n",
      "│       ├── \u001b[00mmodel.pkl\u001b[0m\r\n",
      "│       ├── \u001b[00mpython_env.yaml\u001b[0m\r\n",
      "│       └── \u001b[00mrequirements.txt\u001b[0m\r\n",
      "├── \u001b[00mmeta.yaml\u001b[0m\r\n",
      "├── \u001b[01;34mmetrics\u001b[0m\r\n",
      "│   ├── \u001b[00mmae\u001b[0m\r\n",
      "│   ├── \u001b[00mr2\u001b[0m\r\n",
      "│   └── \u001b[00mrmse\u001b[0m\r\n",
      "├── \u001b[01;34mparams\u001b[0m\r\n",
      "│   ├── \u001b[00malpha\u001b[0m\r\n",
      "│   └── \u001b[00ml1_ratio\u001b[0m\r\n",
      "└── \u001b[01;34mtags\u001b[0m\r\n",
      "    ├── \u001b[00mmlflow.gitRepoURL\u001b[0m\r\n",
      "    ├── \u001b[00mmlflow.log-model.history\u001b[0m\r\n",
      "    ├── \u001b[00mmlflow.project.backend\u001b[0m\r\n",
      "    ├── \u001b[00mmlflow.project.entryPoint\u001b[0m\r\n",
      "    ├── \u001b[00mmlflow.project.env\u001b[0m\r\n",
      "    ├── \u001b[00mmlflow.runName\u001b[0m\r\n",
      "    ├── \u001b[00mmlflow.source.git.commit\u001b[0m\r\n",
      "    ├── \u001b[00mmlflow.source.git.repoURL\u001b[0m\r\n",
      "    ├── \u001b[00mmlflow.source.name\u001b[0m\r\n",
      "    ├── \u001b[00mmlflow.source.type\u001b[0m\r\n",
      "    └── \u001b[00mmlflow.user\u001b[0m\r\n",
      "\r\n",
      "5 directories, 22 files\r\n"
     ]
    }
   ],
   "source": [
    "!tree mlruns/0/$(ls mlruns/0 | head -1)"
   ]
  },
  {
   "cell_type": "markdown",
   "metadata": {},
   "source": [
    "In particular, we are interested in the `MLmodel` file stored under `artifacts/model`:"
   ]
  },
  {
   "cell_type": "code",
   "execution_count": 68,
   "metadata": {},
   "outputs": [
    {
     "name": "stdout",
     "output_type": "stream",
     "text": [
      "\u001b[94martifact_path\u001b[39;49;00m:\u001b[37m \u001b[39;49;00mmodel\u001b[37m\u001b[39;49;00m\r\n",
      "\u001b[94mflavors\u001b[39;49;00m:\u001b[37m\u001b[39;49;00m\r\n",
      "\u001b[37m  \u001b[39;49;00m\u001b[94mpython_function\u001b[39;49;00m:\u001b[37m\u001b[39;49;00m\r\n",
      "\u001b[37m    \u001b[39;49;00m\u001b[94menv\u001b[39;49;00m:\u001b[37m\u001b[39;49;00m\r\n",
      "\u001b[37m      \u001b[39;49;00m\u001b[94mconda\u001b[39;49;00m:\u001b[37m \u001b[39;49;00mconda.yaml\u001b[37m\u001b[39;49;00m\r\n",
      "\u001b[37m      \u001b[39;49;00m\u001b[94mvirtualenv\u001b[39;49;00m:\u001b[37m \u001b[39;49;00mpython_env.yaml\u001b[37m\u001b[39;49;00m\r\n",
      "\u001b[37m    \u001b[39;49;00m\u001b[94mloader_module\u001b[39;49;00m:\u001b[37m \u001b[39;49;00mmlflow.sklearn\u001b[37m\u001b[39;49;00m\r\n",
      "\u001b[37m    \u001b[39;49;00m\u001b[94mmodel_path\u001b[39;49;00m:\u001b[37m \u001b[39;49;00mmodel.pkl\u001b[37m\u001b[39;49;00m\r\n",
      "\u001b[37m    \u001b[39;49;00m\u001b[94mpredict_fn\u001b[39;49;00m:\u001b[37m \u001b[39;49;00mpredict\u001b[37m\u001b[39;49;00m\r\n",
      "\u001b[37m    \u001b[39;49;00m\u001b[94mpython_version\u001b[39;49;00m:\u001b[37m \u001b[39;49;00m3.8.14\u001b[37m\u001b[39;49;00m\r\n",
      "\u001b[37m  \u001b[39;49;00m\u001b[94msklearn\u001b[39;49;00m:\u001b[37m\u001b[39;49;00m\r\n",
      "\u001b[37m    \u001b[39;49;00m\u001b[94mcode\u001b[39;49;00m:\u001b[37m \u001b[39;49;00mnull\u001b[37m\u001b[39;49;00m\r\n",
      "\u001b[37m    \u001b[39;49;00m\u001b[94mpickled_model\u001b[39;49;00m:\u001b[37m \u001b[39;49;00mmodel.pkl\u001b[37m\u001b[39;49;00m\r\n",
      "\u001b[37m    \u001b[39;49;00m\u001b[94mserialization_format\u001b[39;49;00m:\u001b[37m \u001b[39;49;00mcloudpickle\u001b[37m\u001b[39;49;00m\r\n",
      "\u001b[37m    \u001b[39;49;00m\u001b[94msklearn_version\u001b[39;49;00m:\u001b[37m \u001b[39;49;00m0.23.2\u001b[37m\u001b[39;49;00m\r\n",
      "\u001b[94mmlflow_version\u001b[39;49;00m:\u001b[37m \u001b[39;49;00m2.0.1\u001b[37m\u001b[39;49;00m\r\n",
      "\u001b[94mmodel_uuid\u001b[39;49;00m:\u001b[37m \u001b[39;49;00mb7871a2b059b4133ace52866af689203\u001b[37m\u001b[39;49;00m\r\n",
      "\u001b[94mrun_id\u001b[39;49;00m:\u001b[37m \u001b[39;49;00m02024ee8d05741b5b0f71938007e3ea7\u001b[37m\u001b[39;49;00m\r\n",
      "\u001b[94mutc_time_created\u001b[39;49;00m:\u001b[37m \u001b[39;49;00m\u001b[33m'\u001b[39;49;00m\u001b[33m2022-12-06\u001b[39;49;00m\u001b[31m \u001b[39;49;00m\u001b[33m20:57:54.085772\u001b[39;49;00m\u001b[33m'\u001b[39;49;00m\u001b[37m\u001b[39;49;00m\r\n"
     ]
    }
   ],
   "source": [
    "!pygmentize -l yaml mlruns/0/$(ls mlruns/0 | head -1)/artifacts/model/MLmodel"
   ]
  },
  {
   "cell_type": "markdown",
   "metadata": {},
   "source": [
    "This file stores the details of how the model was stored.\n",
    "With this information (plus the other files in the folder), we are able to load the model back.\n",
    "Seldon's MLflow server will use this information to serve this model.\n",
    "\n",
    "Now we should upload our newly trained model into a public Google Bucket or S3 bucket.\n",
    "We have already done this to make it simpler, which you will be able to find at `gs://seldon-models/mlflow/model-a`."
   ]
  },
  {
   "cell_type": "markdown",
   "metadata": {},
   "source": [
    "## 2. Deploy your model using the Pre-packaged Moldel Server for MLFlow\n",
    "\n",
    "Now we can deploy our trained MLFlow model.\n",
    "\n",
    "For this we have to create a Seldon definition of the model server definition, which we will break down further below.\n",
    "\n",
    "We will be using the model we updated to our google bucket (gs://seldon-models/mlflow/elasticnet_wine_1.8.0), but you can use your model if you uploaded it to a public bucket."
   ]
  },
  {
   "cell_type": "markdown",
   "metadata": {},
   "source": [
    "### Setup Seldon Core\n",
    "\n",
    "Use the setup notebook to [Setup Cluster](https://docs.seldon.io/projects/seldon-core/en/latest/examples/seldon_core_setup.html#Setup-Cluster) with [Ambassador Ingress](https://docs.seldon.io/projects/seldon-core/en/latest/examples/seldon_core_setup.html#Ambassador) and [Install Seldon Core](https://docs.seldon.io/projects/seldon-core/en/latest/examples/seldon_core_setup.html#Install-Seldon-Core). Instructions [also online](https://docs.seldon.io/projects/seldon-core/en/latest/examples/seldon_core_setup.html)."
   ]
  },
  {
   "cell_type": "code",
   "execution_count": 69,
   "metadata": {},
   "outputs": [
    {
     "name": "stdout",
     "output_type": "stream",
     "text": [
      "\u001b[04m\u001b[36m---\u001b[39;49;00m\u001b[37m\u001b[39;49;00m\r\n",
      "\u001b[94mapiVersion\u001b[39;49;00m:\u001b[37m \u001b[39;49;00mmachinelearning.seldon.io/v1alpha2\u001b[37m\u001b[39;49;00m\r\n",
      "\u001b[94mkind\u001b[39;49;00m:\u001b[37m \u001b[39;49;00mSeldonDeployment\u001b[37m\u001b[39;49;00m\r\n",
      "\u001b[94mmetadata\u001b[39;49;00m:\u001b[37m\u001b[39;49;00m\r\n",
      "\u001b[37m  \u001b[39;49;00m\u001b[94mname\u001b[39;49;00m:\u001b[37m \u001b[39;49;00mmlflow-deployment\u001b[37m\u001b[39;49;00m\r\n",
      "\u001b[94mspec\u001b[39;49;00m:\u001b[37m\u001b[39;49;00m\r\n",
      "\u001b[37m  \u001b[39;49;00m\u001b[94mname\u001b[39;49;00m:\u001b[37m \u001b[39;49;00mmlflow-deployment\u001b[37m\u001b[39;49;00m\r\n",
      "\u001b[37m  \u001b[39;49;00m\u001b[94mpredictors\u001b[39;49;00m:\u001b[37m\u001b[39;49;00m\r\n",
      "\u001b[37m    \u001b[39;49;00m-\u001b[37m \u001b[39;49;00m\u001b[94mgraph\u001b[39;49;00m:\u001b[37m\u001b[39;49;00m\r\n",
      "\u001b[37m        \u001b[39;49;00m\u001b[94mchildren\u001b[39;49;00m:\u001b[37m \u001b[39;49;00m[]\u001b[37m\u001b[39;49;00m\r\n",
      "\u001b[37m        \u001b[39;49;00m\u001b[94mimplementation\u001b[39;49;00m:\u001b[37m \u001b[39;49;00mMLFLOW_SERVER\u001b[37m\u001b[39;49;00m\r\n",
      "\u001b[37m        \u001b[39;49;00m\u001b[94mmodelUri\u001b[39;49;00m:\u001b[37m \u001b[39;49;00mgs://seldon-models/mlflow/model-a\u001b[37m\u001b[39;49;00m\r\n",
      "\u001b[37m        \u001b[39;49;00m\u001b[94mname\u001b[39;49;00m:\u001b[37m \u001b[39;49;00mwines-classifier\u001b[37m\u001b[39;49;00m\r\n",
      "\u001b[37m      \u001b[39;49;00m\u001b[94mname\u001b[39;49;00m:\u001b[37m \u001b[39;49;00mmlflow-deployment-dag\u001b[37m\u001b[39;49;00m\r\n",
      "\u001b[37m      \u001b[39;49;00m\u001b[94mreplicas\u001b[39;49;00m:\u001b[37m \u001b[39;49;00m1\u001b[37m\u001b[39;49;00m\r\n"
     ]
    }
   ],
   "source": [
    "!pygmentize ./seldon-core/examples/models/mlflow_server_ab_test_ambassador/mlflow-model-server-seldon-config.yaml"
   ]
  },
  {
   "cell_type": "code",
   "execution_count": 70,
   "metadata": {},
   "outputs": [
    {
     "name": "stdout",
     "output_type": "stream",
     "text": [
      "W1207 04:18:20.978082   38859 warnings.go:70] apiextensions.k8s.io/v1beta1 CustomResourceDefinition is deprecated in v1.16+, unavailable in v1.22+; use apiextensions.k8s.io/v1 CustomResourceDefinition\n",
      "W1207 04:18:20.995221   38859 warnings.go:70] apiextensions.k8s.io/v1beta1 CustomResourceDefinition is deprecated in v1.16+, unavailable in v1.22+; use apiextensions.k8s.io/v1 CustomResourceDefinition\n",
      "W1207 04:18:21.090675   38859 warnings.go:70] apiextensions.k8s.io/v1beta1 CustomResourceDefinition is deprecated in v1.16+, unavailable in v1.22+; use apiextensions.k8s.io/v1 CustomResourceDefinition\n",
      "W1207 04:18:21.121067   38859 warnings.go:70] apiextensions.k8s.io/v1beta1 CustomResourceDefinition is deprecated in v1.16+, unavailable in v1.22+; use apiextensions.k8s.io/v1 CustomResourceDefinition\n",
      "W1207 04:18:21.159886   38859 warnings.go:70] apiextensions.k8s.io/v1beta1 CustomResourceDefinition is deprecated in v1.16+, unavailable in v1.22+; use apiextensions.k8s.io/v1 CustomResourceDefinition\n",
      "W1207 04:18:21.254291   38859 warnings.go:70] apiextensions.k8s.io/v1beta1 CustomResourceDefinition is deprecated in v1.16+, unavailable in v1.22+; use apiextensions.k8s.io/v1 CustomResourceDefinition\n",
      "W1207 04:18:21.274910   38859 warnings.go:70] apiextensions.k8s.io/v1beta1 CustomResourceDefinition is deprecated in v1.16+, unavailable in v1.22+; use apiextensions.k8s.io/v1 CustomResourceDefinition\n",
      "W1207 04:18:21.317143   38859 warnings.go:70] apiextensions.k8s.io/v1beta1 CustomResourceDefinition is deprecated in v1.16+, unavailable in v1.22+; use apiextensions.k8s.io/v1 CustomResourceDefinition\n",
      "W1207 04:18:21.356215   38859 warnings.go:70] apiextensions.k8s.io/v1beta1 CustomResourceDefinition is deprecated in v1.16+, unavailable in v1.22+; use apiextensions.k8s.io/v1 CustomResourceDefinition\n",
      "W1207 04:18:21.436645   38859 warnings.go:70] apiextensions.k8s.io/v1beta1 CustomResourceDefinition is deprecated in v1.16+, unavailable in v1.22+; use apiextensions.k8s.io/v1 CustomResourceDefinition\n",
      "W1207 04:18:21.476511   38859 warnings.go:70] apiextensions.k8s.io/v1beta1 CustomResourceDefinition is deprecated in v1.16+, unavailable in v1.22+; use apiextensions.k8s.io/v1 CustomResourceDefinition\n",
      "W1207 04:18:21.508880   38859 warnings.go:70] apiextensions.k8s.io/v1beta1 CustomResourceDefinition is deprecated in v1.16+, unavailable in v1.22+; use apiextensions.k8s.io/v1 CustomResourceDefinition\n",
      "W1207 04:18:21.545685   38859 warnings.go:70] apiextensions.k8s.io/v1beta1 CustomResourceDefinition is deprecated in v1.16+, unavailable in v1.22+; use apiextensions.k8s.io/v1 CustomResourceDefinition\n",
      "W1207 04:18:21.589784   38859 warnings.go:70] apiextensions.k8s.io/v1beta1 CustomResourceDefinition is deprecated in v1.16+, unavailable in v1.22+; use apiextensions.k8s.io/v1 CustomResourceDefinition\n",
      "W1207 04:18:21.824665   38859 warnings.go:70] apiextensions.k8s.io/v1beta1 CustomResourceDefinition is deprecated in v1.16+, unavailable in v1.22+; use apiextensions.k8s.io/v1 CustomResourceDefinition\n",
      "W1207 04:18:21.854424   38859 warnings.go:70] apiextensions.k8s.io/v1beta1 CustomResourceDefinition is deprecated in v1.16+, unavailable in v1.22+; use apiextensions.k8s.io/v1 CustomResourceDefinition\n",
      "W1207 04:18:21.891459   38859 warnings.go:70] apiextensions.k8s.io/v1beta1 CustomResourceDefinition is deprecated in v1.16+, unavailable in v1.22+; use apiextensions.k8s.io/v1 CustomResourceDefinition\n",
      "W1207 04:18:21.952232   38859 warnings.go:70] apiextensions.k8s.io/v1beta1 CustomResourceDefinition is deprecated in v1.16+, unavailable in v1.22+; use apiextensions.k8s.io/v1 CustomResourceDefinition\n",
      "W1207 04:18:21.999273   38859 warnings.go:70] apiextensions.k8s.io/v1beta1 CustomResourceDefinition is deprecated in v1.16+, unavailable in v1.22+; use apiextensions.k8s.io/v1 CustomResourceDefinition\n",
      "W1207 04:18:22.059350   38859 warnings.go:70] apiextensions.k8s.io/v1beta1 CustomResourceDefinition is deprecated in v1.16+, unavailable in v1.22+; use apiextensions.k8s.io/v1 CustomResourceDefinition\n",
      "W1207 04:18:22.075316   38859 warnings.go:70] apiextensions.k8s.io/v1beta1 CustomResourceDefinition is deprecated in v1.16+, unavailable in v1.22+; use apiextensions.k8s.io/v1 CustomResourceDefinition\n",
      "W1207 04:18:22.084882   38859 warnings.go:70] apiextensions.k8s.io/v1beta1 CustomResourceDefinition is deprecated in v1.16+, unavailable in v1.22+; use apiextensions.k8s.io/v1 CustomResourceDefinition\n",
      "W1207 04:18:22.091504   38859 warnings.go:70] apiextensions.k8s.io/v1beta1 CustomResourceDefinition is deprecated in v1.16+, unavailable in v1.22+; use apiextensions.k8s.io/v1 CustomResourceDefinition\n",
      "W1207 04:18:22.110759   38859 warnings.go:70] apiextensions.k8s.io/v1beta1 CustomResourceDefinition is deprecated in v1.16+, unavailable in v1.22+; use apiextensions.k8s.io/v1 CustomResourceDefinition\n",
      "W1207 04:18:22.125906   38859 warnings.go:70] apiextensions.k8s.io/v1beta1 CustomResourceDefinition is deprecated in v1.16+, unavailable in v1.22+; use apiextensions.k8s.io/v1 CustomResourceDefinition\n",
      "W1207 04:18:22.141065   38859 warnings.go:70] apiextensions.k8s.io/v1beta1 CustomResourceDefinition is deprecated in v1.16+, unavailable in v1.22+; use apiextensions.k8s.io/v1 CustomResourceDefinition\n",
      "W1207 04:18:22.153434   38859 warnings.go:70] apiextensions.k8s.io/v1beta1 CustomResourceDefinition is deprecated in v1.16+, unavailable in v1.22+; use apiextensions.k8s.io/v1 CustomResourceDefinition\n",
      "W1207 04:18:22.169499   38859 warnings.go:70] apiextensions.k8s.io/v1beta1 CustomResourceDefinition is deprecated in v1.16+, unavailable in v1.22+; use apiextensions.k8s.io/v1 CustomResourceDefinition\n",
      "W1207 04:18:22.192624   38859 warnings.go:70] apiextensions.k8s.io/v1beta1 CustomResourceDefinition is deprecated in v1.16+, unavailable in v1.22+; use apiextensions.k8s.io/v1 CustomResourceDefinition\n",
      "W1207 04:18:24.208315   38859 warnings.go:70] apiextensions.k8s.io/v1beta1 CustomResourceDefinition is deprecated in v1.16+, unavailable in v1.22+; use apiextensions.k8s.io/v1 CustomResourceDefinition\n",
      "W1207 04:18:24.222052   38859 warnings.go:70] apiextensions.k8s.io/v1beta1 CustomResourceDefinition is deprecated in v1.16+, unavailable in v1.22+; use apiextensions.k8s.io/v1 CustomResourceDefinition\n",
      "W1207 04:18:24.250964   38859 warnings.go:70] apiextensions.k8s.io/v1beta1 CustomResourceDefinition is deprecated in v1.16+, unavailable in v1.22+; use apiextensions.k8s.io/v1 CustomResourceDefinition\n",
      "W1207 04:18:24.265622   38859 warnings.go:70] apiextensions.k8s.io/v1beta1 CustomResourceDefinition is deprecated in v1.16+, unavailable in v1.22+; use apiextensions.k8s.io/v1 CustomResourceDefinition\n",
      "W1207 04:18:24.290533   38859 warnings.go:70] apiextensions.k8s.io/v1beta1 CustomResourceDefinition is deprecated in v1.16+, unavailable in v1.22+; use apiextensions.k8s.io/v1 CustomResourceDefinition\n",
      "W1207 04:18:24.313266   38859 warnings.go:70] apiextensions.k8s.io/v1beta1 CustomResourceDefinition is deprecated in v1.16+, unavailable in v1.22+; use apiextensions.k8s.io/v1 CustomResourceDefinition\n",
      "W1207 04:18:24.327891   38859 warnings.go:70] apiextensions.k8s.io/v1beta1 CustomResourceDefinition is deprecated in v1.16+, unavailable in v1.22+; use apiextensions.k8s.io/v1 CustomResourceDefinition\n",
      "W1207 04:18:24.341273   38859 warnings.go:70] apiextensions.k8s.io/v1beta1 CustomResourceDefinition is deprecated in v1.16+, unavailable in v1.22+; use apiextensions.k8s.io/v1 CustomResourceDefinition\n",
      "W1207 04:18:24.349493   38859 warnings.go:70] apiextensions.k8s.io/v1beta1 CustomResourceDefinition is deprecated in v1.16+, unavailable in v1.22+; use apiextensions.k8s.io/v1 CustomResourceDefinition\n",
      "W1207 04:18:24.369292   38859 warnings.go:70] apiextensions.k8s.io/v1beta1 CustomResourceDefinition is deprecated in v1.16+, unavailable in v1.22+; use apiextensions.k8s.io/v1 CustomResourceDefinition\n",
      "W1207 04:18:26.271944   38859 warnings.go:70] apiextensions.k8s.io/v1beta1 CustomResourceDefinition is deprecated in v1.16+, unavailable in v1.22+; use apiextensions.k8s.io/v1 CustomResourceDefinition\n",
      "W1207 04:18:26.377305   38859 warnings.go:70] apiextensions.k8s.io/v1beta1 CustomResourceDefinition is deprecated in v1.16+, unavailable in v1.22+; use apiextensions.k8s.io/v1 CustomResourceDefinition\n"
     ]
    },
    {
     "name": "stdout",
     "output_type": "stream",
     "text": [
      "W1207 04:18:26.395075   38859 warnings.go:70] apiextensions.k8s.io/v1beta1 CustomResourceDefinition is deprecated in v1.16+, unavailable in v1.22+; use apiextensions.k8s.io/v1 CustomResourceDefinition\n",
      "W1207 04:18:26.432467   38859 warnings.go:70] apiextensions.k8s.io/v1beta1 CustomResourceDefinition is deprecated in v1.16+, unavailable in v1.22+; use apiextensions.k8s.io/v1 CustomResourceDefinition\n",
      "W1207 04:18:26.448051   38859 warnings.go:70] apiextensions.k8s.io/v1beta1 CustomResourceDefinition is deprecated in v1.16+, unavailable in v1.22+; use apiextensions.k8s.io/v1 CustomResourceDefinition\n",
      "W1207 04:18:26.463986   38859 warnings.go:70] apiextensions.k8s.io/v1beta1 CustomResourceDefinition is deprecated in v1.16+, unavailable in v1.22+; use apiextensions.k8s.io/v1 CustomResourceDefinition\n",
      "W1207 04:18:26.473084   38859 warnings.go:70] apiextensions.k8s.io/v1beta1 CustomResourceDefinition is deprecated in v1.16+, unavailable in v1.22+; use apiextensions.k8s.io/v1 CustomResourceDefinition\n",
      "W1207 04:18:26.496254   38859 warnings.go:70] apiextensions.k8s.io/v1beta1 CustomResourceDefinition is deprecated in v1.16+, unavailable in v1.22+; use apiextensions.k8s.io/v1 CustomResourceDefinition\n",
      "W1207 04:18:26.509537   38859 warnings.go:70] apiextensions.k8s.io/v1beta1 CustomResourceDefinition is deprecated in v1.16+, unavailable in v1.22+; use apiextensions.k8s.io/v1 CustomResourceDefinition\n",
      "W1207 04:18:26.533877   38859 warnings.go:70] apiextensions.k8s.io/v1beta1 CustomResourceDefinition is deprecated in v1.16+, unavailable in v1.22+; use apiextensions.k8s.io/v1 CustomResourceDefinition\n",
      "W1207 04:18:26.544879   38859 warnings.go:70] apiextensions.k8s.io/v1beta1 CustomResourceDefinition is deprecated in v1.16+, unavailable in v1.22+; use apiextensions.k8s.io/v1 CustomResourceDefinition\n",
      "W1207 04:18:26.561588   38859 warnings.go:70] apiextensions.k8s.io/v1beta1 CustomResourceDefinition is deprecated in v1.16+, unavailable in v1.22+; use apiextensions.k8s.io/v1 CustomResourceDefinition\n",
      "W1207 04:18:26.572679   38859 warnings.go:70] apiextensions.k8s.io/v1beta1 CustomResourceDefinition is deprecated in v1.16+, unavailable in v1.22+; use apiextensions.k8s.io/v1 CustomResourceDefinition\n",
      "W1207 04:18:26.585324   38859 warnings.go:70] apiextensions.k8s.io/v1beta1 CustomResourceDefinition is deprecated in v1.16+, unavailable in v1.22+; use apiextensions.k8s.io/v1 CustomResourceDefinition\n",
      "W1207 04:18:26.600533   38859 warnings.go:70] apiextensions.k8s.io/v1beta1 CustomResourceDefinition is deprecated in v1.16+, unavailable in v1.22+; use apiextensions.k8s.io/v1 CustomResourceDefinition\n",
      "W1207 04:18:26.607074   38859 warnings.go:70] apiextensions.k8s.io/v1beta1 CustomResourceDefinition is deprecated in v1.16+, unavailable in v1.22+; use apiextensions.k8s.io/v1 CustomResourceDefinition\n",
      "W1207 04:18:26.618472   38859 warnings.go:70] apiextensions.k8s.io/v1beta1 CustomResourceDefinition is deprecated in v1.16+, unavailable in v1.22+; use apiextensions.k8s.io/v1 CustomResourceDefinition\n",
      "W1207 04:18:26.627397   38859 warnings.go:70] apiextensions.k8s.io/v1beta1 CustomResourceDefinition is deprecated in v1.16+, unavailable in v1.22+; use apiextensions.k8s.io/v1 CustomResourceDefinition\n",
      "W1207 04:18:26.636756   38859 warnings.go:70] apiextensions.k8s.io/v1beta1 CustomResourceDefinition is deprecated in v1.16+, unavailable in v1.22+; use apiextensions.k8s.io/v1 CustomResourceDefinition\n",
      "manifest_sorter.go:192: info: skipping unknown hook: \"crd-install\"\n",
      "manifest_sorter.go:192: info: skipping unknown hook: \"crd-install\"\n",
      "manifest_sorter.go:192: info: skipping unknown hook: \"crd-install\"\n",
      "manifest_sorter.go:192: info: skipping unknown hook: \"crd-install\"\n",
      "manifest_sorter.go:192: info: skipping unknown hook: \"crd-install\"\n",
      "manifest_sorter.go:192: info: skipping unknown hook: \"crd-install\"\n",
      "manifest_sorter.go:192: info: skipping unknown hook: \"crd-install\"\n",
      "manifest_sorter.go:192: info: skipping unknown hook: \"crd-install\"\n",
      "manifest_sorter.go:192: info: skipping unknown hook: \"crd-install\"\n",
      "manifest_sorter.go:192: info: skipping unknown hook: \"crd-install\"\n",
      "manifest_sorter.go:192: info: skipping unknown hook: \"crd-install\"\n",
      "manifest_sorter.go:192: info: skipping unknown hook: \"crd-install\"\n",
      "manifest_sorter.go:192: info: skipping unknown hook: \"crd-install\"\n",
      "manifest_sorter.go:192: info: skipping unknown hook: \"crd-install\"\n",
      "manifest_sorter.go:192: info: skipping unknown hook: \"crd-install\"\n",
      "manifest_sorter.go:192: info: skipping unknown hook: \"crd-install\"\n",
      "manifest_sorter.go:192: info: skipping unknown hook: \"crd-install\"\n",
      "manifest_sorter.go:192: info: skipping unknown hook: \"crd-install\"\n",
      "manifest_sorter.go:192: info: skipping unknown hook: \"crd-install\"\n",
      "W1207 04:18:27.288017   38859 warnings.go:70] rbac.authorization.k8s.io/v1beta1 ClusterRole is deprecated in v1.17+, unavailable in v1.22+; use rbac.authorization.k8s.io/v1 ClusterRole\n",
      "W1207 04:18:27.301392   38859 warnings.go:70] rbac.authorization.k8s.io/v1beta1 ClusterRole is deprecated in v1.17+, unavailable in v1.22+; use rbac.authorization.k8s.io/v1 ClusterRole\n",
      "W1207 04:18:27.311467   38859 warnings.go:70] rbac.authorization.k8s.io/v1beta1 ClusterRole is deprecated in v1.17+, unavailable in v1.22+; use rbac.authorization.k8s.io/v1 ClusterRole\n",
      "W1207 04:18:27.318737   38859 warnings.go:70] rbac.authorization.k8s.io/v1beta1 ClusterRole is deprecated in v1.17+, unavailable in v1.22+; use rbac.authorization.k8s.io/v1 ClusterRole\n",
      "W1207 04:18:27.322598   38859 warnings.go:70] rbac.authorization.k8s.io/v1beta1 ClusterRole is deprecated in v1.17+, unavailable in v1.22+; use rbac.authorization.k8s.io/v1 ClusterRole\n",
      "W1207 04:18:27.327408   38859 warnings.go:70] rbac.authorization.k8s.io/v1beta1 ClusterRole is deprecated in v1.17+, unavailable in v1.22+; use rbac.authorization.k8s.io/v1 ClusterRole\n",
      "W1207 04:18:27.331236   38859 warnings.go:70] rbac.authorization.k8s.io/v1beta1 ClusterRole is deprecated in v1.17+, unavailable in v1.22+; use rbac.authorization.k8s.io/v1 ClusterRole\n",
      "W1207 04:18:27.349524   38859 warnings.go:70] rbac.authorization.k8s.io/v1beta1 ClusterRole is deprecated in v1.17+, unavailable in v1.22+; use rbac.authorization.k8s.io/v1 ClusterRole\n",
      "W1207 04:18:27.362795   38859 warnings.go:70] rbac.authorization.k8s.io/v1beta1 ClusterRole is deprecated in v1.17+, unavailable in v1.22+; use rbac.authorization.k8s.io/v1 ClusterRole\n",
      "W1207 04:18:27.371759   38859 warnings.go:70] rbac.authorization.k8s.io/v1beta1 ClusterRole is deprecated in v1.17+, unavailable in v1.22+; use rbac.authorization.k8s.io/v1 ClusterRole\n",
      "W1207 04:18:27.376676   38859 warnings.go:70] rbac.authorization.k8s.io/v1beta1 ClusterRoleBinding is deprecated in v1.17+, unavailable in v1.22+; use rbac.authorization.k8s.io/v1 ClusterRoleBinding\n",
      "W1207 04:18:27.390171   38859 warnings.go:70] rbac.authorization.k8s.io/v1beta1 ClusterRoleBinding is deprecated in v1.17+, unavailable in v1.22+; use rbac.authorization.k8s.io/v1 ClusterRoleBinding\n",
      "W1207 04:18:27.405500   38859 warnings.go:70] rbac.authorization.k8s.io/v1beta1 Role is deprecated in v1.17+, unavailable in v1.22+; use rbac.authorization.k8s.io/v1 Role\n",
      "W1207 04:18:27.418177   38859 warnings.go:70] rbac.authorization.k8s.io/v1beta1 RoleBinding is deprecated in v1.17+, unavailable in v1.22+; use rbac.authorization.k8s.io/v1 RoleBinding\n",
      "W1207 04:18:27.891382   38859 warnings.go:70] rbac.authorization.k8s.io/v1beta1 ClusterRole is deprecated in v1.17+, unavailable in v1.22+; use rbac.authorization.k8s.io/v1 ClusterRole\n",
      "W1207 04:18:27.893981   38859 warnings.go:70] rbac.authorization.k8s.io/v1beta1 ClusterRole is deprecated in v1.17+, unavailable in v1.22+; use rbac.authorization.k8s.io/v1 ClusterRole\n",
      "W1207 04:18:27.903751   38859 warnings.go:70] rbac.authorization.k8s.io/v1beta1 ClusterRole is deprecated in v1.17+, unavailable in v1.22+; use rbac.authorization.k8s.io/v1 ClusterRole\n",
      "W1207 04:18:27.903864   38859 warnings.go:70] rbac.authorization.k8s.io/v1beta1 ClusterRole is deprecated in v1.17+, unavailable in v1.22+; use rbac.authorization.k8s.io/v1 ClusterRole\n",
      "W1207 04:18:27.903932   38859 warnings.go:70] rbac.authorization.k8s.io/v1beta1 ClusterRole is deprecated in v1.17+, unavailable in v1.22+; use rbac.authorization.k8s.io/v1 ClusterRole\n",
      "W1207 04:18:27.904201   38859 warnings.go:70] rbac.authorization.k8s.io/v1beta1 ClusterRole is deprecated in v1.17+, unavailable in v1.22+; use rbac.authorization.k8s.io/v1 ClusterRole\n",
      "W1207 04:18:27.904278   38859 warnings.go:70] rbac.authorization.k8s.io/v1beta1 ClusterRole is deprecated in v1.17+, unavailable in v1.22+; use rbac.authorization.k8s.io/v1 ClusterRole\n",
      "W1207 04:18:27.904614   38859 warnings.go:70] rbac.authorization.k8s.io/v1beta1 ClusterRole is deprecated in v1.17+, unavailable in v1.22+; use rbac.authorization.k8s.io/v1 ClusterRole\n"
     ]
    },
    {
     "name": "stdout",
     "output_type": "stream",
     "text": [
      "W1207 04:18:27.978831   38859 warnings.go:70] rbac.authorization.k8s.io/v1beta1 ClusterRole is deprecated in v1.17+, unavailable in v1.22+; use rbac.authorization.k8s.io/v1 ClusterRole\n",
      "W1207 04:18:27.978968   38859 warnings.go:70] rbac.authorization.k8s.io/v1beta1 ClusterRole is deprecated in v1.17+, unavailable in v1.22+; use rbac.authorization.k8s.io/v1 ClusterRole\n",
      "W1207 04:18:28.029535   38859 warnings.go:70] rbac.authorization.k8s.io/v1beta1 ClusterRoleBinding is deprecated in v1.17+, unavailable in v1.22+; use rbac.authorization.k8s.io/v1 ClusterRoleBinding\n",
      "W1207 04:18:28.046826   38859 warnings.go:70] rbac.authorization.k8s.io/v1beta1 ClusterRoleBinding is deprecated in v1.17+, unavailable in v1.22+; use rbac.authorization.k8s.io/v1 ClusterRoleBinding\n",
      "W1207 04:18:28.081700   38859 warnings.go:70] rbac.authorization.k8s.io/v1beta1 Role is deprecated in v1.17+, unavailable in v1.22+; use rbac.authorization.k8s.io/v1 Role\n",
      "W1207 04:18:28.100044   38859 warnings.go:70] rbac.authorization.k8s.io/v1beta1 RoleBinding is deprecated in v1.17+, unavailable in v1.22+; use rbac.authorization.k8s.io/v1 RoleBinding\n",
      "NAME: ambassador\n",
      "LAST DEPLOYED: Wed Dec  7 04:18:26 2022\n",
      "NAMESPACE: seldon-system\n",
      "STATUS: deployed\n",
      "REVISION: 1\n",
      "NOTES:\n",
      "-------------------------------------------------------------------------------\n",
      "Congratulations! You have successfully installed The Ambassador Edge Stack!\n",
      "-------------------------------------------------------------------------------\n",
      "NOTE: You are currently running The Ambassador Edge Stack in EVALUATION MODE.\n",
      "\n",
      "Request a free community license key at https://SERVICE_IP/edge_stack_admin/#dashboard\n",
      "to unlock all the features of The Ambassador Edge Stack and update the value of\n",
      "licenseKey.value in your values.yaml file.\n",
      "-------------------------------------------------------------------------------\n",
      "WARNING:\n",
      "\n",
      "With your installation of the Ambassador Edge Stack, you have created a:\n",
      "\n",
      "- AuthService named ambassador-auth\n",
      " \n",
      "- RateLimitService named ambassador-ratelimit\n",
      "\n",
      "in the seldon-system namespace.\n",
      "\n",
      "Please ensure there is not another of these resources configured in your cluster.\n",
      "If there is, please either remove the old resource or run\n",
      "\n",
      "helm upgrade ambassador -n seldon-system --set authService.create=false --set RateLimit.create=false\n",
      "\n",
      "For help, visit our Slack at http://a8r.io/Slack or view the documentation online at https://www.getambassador.io.\n"
     ]
    }
   ],
   "source": [
    "### Install Ambassador Edge Stack\n",
    "!helm install ambassador datawire/ambassador \\\n",
    "    --set image.repository=docker.io/datawire/ambassador \\\n",
    "    --set crds.keep=false \\\n",
    "    --namespace seldon-system"
   ]
  },
  {
   "cell_type": "markdown",
   "metadata": {},
   "source": [
    "Once we write our configuration file, we are able to deploy it to our cluster by running it with our command"
   ]
  },
  {
   "cell_type": "code",
   "execution_count": 71,
   "metadata": {},
   "outputs": [
    {
     "name": "stdout",
     "output_type": "stream",
     "text": [
      "---\n",
      "apiVersion: machinelearning.seldon.io/v1alpha2\n",
      "kind: SeldonDeployment\n",
      "metadata:\n",
      "  name: mlflow-deployment\n",
      "spec:\n",
      "  name: mlflow-deployment\n",
      "  predictors:\n",
      "    - graph:\n",
      "        children: []\n",
      "        implementation: MLFLOW_SERVER\n",
      "        modelUri: gs://seldon-models/mlflow/model-a\n",
      "        name: wines-classifier\n",
      "      name: mlflow-deployment-dag\n",
      "      replicas: 1\n",
      "seldondeployment.machinelearning.seldon.io/mlflow-deployment created\n"
     ]
    }
   ],
   "source": [
    "!cat ./seldon-core/examples/models/mlflow_server_ab_test_ambassador/mlflow-model-server-seldon-config.yaml\n",
    "#!kubectl delete -f ./seldon-core/examples/models/mlflow_server_ab_test_ambassador/mlflow-model-server-seldon-config.yaml\n",
    "!kubectl apply -f ./seldon-core/examples/models/mlflow_server_ab_test_ambassador/mlflow-model-server-seldon-config.yaml"
   ]
  },
  {
   "cell_type": "markdown",
   "metadata": {},
   "source": [
    "Once it's created we just wait until it's deployed. \n",
    "\n",
    "It will basically download the image for the pre-packaged MLFlow model server, and initialise it with the model we specified above.\n",
    "\n",
    "You can check the status of the deployment with the following command:"
   ]
  },
  {
   "cell_type": "code",
   "execution_count": 72,
   "metadata": {},
   "outputs": [
    {
     "name": "stdout",
     "output_type": "stream",
     "text": [
      "Waiting for deployment \"mlflow-deployment-mlflow-deployment-dag-0-wines-classifier\" rollout to finish: 0 of 1 updated replicas are available...\n",
      "^C\n"
     ]
    }
   ],
   "source": [
    "!kubectl rollout status deployment.apps/mlflow-deployment-mlflow-deployment-dag-0-wines-classifier"
   ]
  },
  {
   "cell_type": "markdown",
   "metadata": {},
   "source": [
    "Once it's deployed, we should see a \"succcessfully rolled out\" message above. We can now test it!"
   ]
  },
  {
   "cell_type": "markdown",
   "metadata": {},
   "source": [
    "## 3. Test the deployed MLFlow model by sending requests\n",
    "Now that our model is deployed in Kubernetes, we are able to send any requests."
   ]
  },
  {
   "cell_type": "markdown",
   "metadata": {},
   "source": [
    "We will first need the URL that is currently available through Ambassador. \n",
    "\n",
    "If you are running this locally, you should be able to reach it through localhost, in this case we can use port 80."
   ]
  },
  {
   "cell_type": "code",
   "execution_count": 76,
   "metadata": {},
   "outputs": [
    {
     "name": "stdout",
     "output_type": "stream",
     "text": [
      "NAME                     TYPE           CLUSTER-IP      EXTERNAL-IP   PORT(S)                      AGE\r\n",
      "ambassador               LoadBalancer   10.96.209.201   <pending>     80:30785/TCP,443:31534/TCP   6m54s\r\n",
      "ambassador-admin         ClusterIP      10.96.11.228    <none>        8877/TCP,8005/TCP            6m54s\r\n",
      "ambassador-redis         ClusterIP      10.96.152.118   <none>        6379/TCP                     6m54s\r\n",
      "seldon-webhook-service   ClusterIP      10.96.28.175    <none>        443/TCP                      18m\r\n"
     ]
    }
   ],
   "source": [
    "!kubectl get svc -n seldon-system | grep ambassador"
   ]
  },
  {
   "cell_type": "markdown",
   "metadata": {},
   "source": [
    "Now we will select the first datapoint in our dataset to send to the model."
   ]
  },
  {
   "cell_type": "code",
   "execution_count": 77,
   "metadata": {},
   "outputs": [
    {
     "name": "stdout",
     "output_type": "stream",
     "text": [
      "[7.0, 0.27, 0.36, 20.7, 0.045, 45.0, 170.0, 1.001, 3.0, 0.45, 8.8]\n"
     ]
    }
   ],
   "source": [
    "x_0 = data.drop([\"quality\"], axis=1).values[:1]\n",
    "print(list(x_0[0]))"
   ]
  },
  {
   "cell_type": "markdown",
   "metadata": {},
   "source": [
    "We can try sending a request first using curl:"
   ]
  },
  {
   "cell_type": "code",
   "execution_count": null,
   "metadata": {},
   "outputs": [],
   "source": [
    "## Ensure gateway port forwarded using \n",
    "## kubectl port-forward $(kubectl get pods -l istio=ingressgateway -n istio-system -o jsonpath='{.items[0].metadata.name}') -n istio-system 8004:8080"
   ]
  },
  {
   "cell_type": "code",
   "execution_count": 79,
   "metadata": {},
   "outputs": [],
   "source": [
    "!curl -X POST -H 'Content-Type: application/json' \\\n",
    "    -d '{\"data\": {\"names\": [], \"ndarray\": [[7.0, 0.27, 0.36, 20.7, 0.045, 45.0, 170.0, 1.001, 3.0, 0.45, 8.8]]}}' \\\n",
    "    http://localhost:8004/seldon/seldon/mlflow-deployment/api/v0.1/predictions"
   ]
  },
  {
   "cell_type": "markdown",
   "metadata": {},
   "source": [
    "We can also send the request by using our python client"
   ]
  },
  {
   "cell_type": "code",
   "execution_count": null,
   "metadata": {},
   "outputs": [],
   "source": [
    "import math\n",
    "import subprocess\n",
    "\n",
    "import numpy as np\n",
    "\n",
    "from seldon_core.seldon_client import SeldonClient\n",
    "\n",
    "HOST = \"localhost\"  # Add the URL you found above\n",
    "port = \"80\"  # Make sure you use the port above\n",
    "batch = x_0\n",
    "payload_type = \"ndarray\"\n",
    "\n",
    "sc = SeldonClient(\n",
    "    gateway=\"ambassador\", namespace=\"seldon\", gateway_endpoint=HOST + \":\" + port\n",
    ")\n",
    "\n",
    "client_prediction = sc.predict(\n",
    "    data=batch, deployment_name=\"mlflow-deployment\", names=[], payload_type=payload_type\n",
    ")\n",
    "\n",
    "print(client_prediction.response)"
   ]
  },
  {
   "cell_type": "markdown",
   "metadata": {},
   "source": [
    "## 4. Deploy your second model as an A/B test\n",
    "\n",
    "Now that we have a model in production, it's possible to deploy a second model as an A/B test.\n",
    "Our model will also be an Elastic Net model but using a different set of parameters.\n",
    "We can easily train it by leveraging MLflow:"
   ]
  },
  {
   "cell_type": "code",
   "execution_count": null,
   "metadata": {},
   "outputs": [],
   "source": [
    "!mlflow run $PROJECT_DIR -P alpha=0.75 -P l1_ratio=0.2"
   ]
  },
  {
   "cell_type": "markdown",
   "metadata": {},
   "source": [
    "As we did before, we will now need to upload our model to a cloud bucket.\n",
    "To speed things up, we already have done so and the second model is now accessible in `gs://seldon-models/mlflow/model-b`."
   ]
  },
  {
   "cell_type": "markdown",
   "metadata": {},
   "source": [
    "### A/B test\n",
    "\n",
    "We will deploy our second model as an A/B test.\n",
    "In particular, we will redirect 20% of the traffic to the new model.\n",
    "\n",
    "This can be done by simply adding a `traffic` attribute on our `SeldonDeployment` spec:"
   ]
  },
  {
   "cell_type": "code",
   "execution_count": null,
   "metadata": {},
   "outputs": [],
   "source": [
    "!pygmentize ab-test-mlflow-model-server-seldon-config.yaml"
   ]
  },
  {
   "cell_type": "markdown",
   "metadata": {},
   "source": [
    "And similar to the model above, we only need to run the following to deploy it:"
   ]
  },
  {
   "cell_type": "code",
   "execution_count": null,
   "metadata": {},
   "outputs": [],
   "source": [
    "!kubectl apply -f ab-test-mlflow-model-server-seldon-config.yaml"
   ]
  },
  {
   "cell_type": "markdown",
   "metadata": {},
   "source": [
    "We can check that the models have been deployed and are running with the following command.\n",
    "\n",
    "We should now see the \"a-\" model and the \"b-\" models."
   ]
  },
  {
   "cell_type": "code",
   "execution_count": null,
   "metadata": {},
   "outputs": [],
   "source": [
    "!kubectl get pods"
   ]
  },
  {
   "cell_type": "markdown",
   "metadata": {},
   "source": [
    "## 5. Visualise and monitor the performance of your models using Seldon Analytics\n",
    "\n",
    "This section is optional, but by following the instructions you will be able to visualise the performance of both models as per the chart below.\n",
    "\n",
    "In order for this example to work you need to install and run the [Grafana Analytics package for Seldon Core](https://docs.seldon.io/projects/seldon-core/en/latest/analytics/analytics.html#helm-analytics-chart).\n",
    "\n",
    "For this we can access the URL with the command below, it will request an admin and password which by default are set to the following:\n",
    "* Username: admin\n",
    "* Password: password\n",
    "\n",
    "You can access the grafana dashboard through the port provided below:"
   ]
  },
  {
   "cell_type": "code",
   "execution_count": null,
   "metadata": {},
   "outputs": [],
   "source": [
    "!kubectl get svc grafana-prom -o jsonpath='{.spec.ports[0].nodePort}'"
   ]
  },
  {
   "cell_type": "markdown",
   "metadata": {},
   "source": [
    "Now that we have both models running in our Kubernetes cluster, we can analyse their performance using Seldon Core's integration with Prometheus and Grafana.\n",
    "To do so, we will iterate over the training set (which can be found in `wine-quality.csv`), making a request and sending the feedback of the prediction.\n",
    "\n",
    "Since the `/feedback` endpoint requires a `reward` signal (i.e. the higher the better), we will simulate one as:\n",
    "\n",
    "$$\n",
    "  R(x_{n})\n",
    "    = \\begin{cases}\n",
    "        \\frac{1}{(y_{n} - f(x_{n}))^{2}} &, y_{n} \\neq f(x_{n}) \\\\\n",
    "        500 &, y_{n} = f(x_{n})\n",
    "      \\end{cases}\n",
    "$$\n",
    "\n",
    ", where $R(x_{n})$ is the reward for input point $x_{n}$, $f(x_{n})$ is our trained model and $y_{n}$ is the actual value."
   ]
  },
  {
   "cell_type": "code",
   "execution_count": null,
   "metadata": {},
   "outputs": [],
   "source": [
    "sc = SeldonClient(\n",
    "    gateway=\"ambassador\", namespace=\"seldon\", deployment_name=\"wines-classifier\"\n",
    ")\n",
    "\n",
    "\n",
    "def _get_reward(y, y_pred):\n",
    "    if y == y_pred:\n",
    "        return 500\n",
    "\n",
    "    return 1 / np.square(y - y_pred)\n",
    "\n",
    "\n",
    "def _test_row(row):\n",
    "    input_features = row[:-1]\n",
    "    feature_names = input_features.index.to_list()\n",
    "    X = input_features.values.reshape(1, -1)\n",
    "    y = row[-1].reshape(1, -1)\n",
    "\n",
    "    # Note that we are re-using the SeldonClient defined previously\n",
    "    r = sc.predict(deployment_name=\"mlflow-deployment\", data=X, names=feature_names)\n",
    "\n",
    "    y_pred = r.response[\"data\"][\"tensor\"][\"values\"]\n",
    "    reward = _get_reward(y, y_pred)\n",
    "    sc.feedback(\n",
    "        deployment_name=\"mlflow-deployment\",\n",
    "        prediction_request=r.request,\n",
    "        prediction_response=r.response,\n",
    "        reward=reward,\n",
    "    )\n",
    "\n",
    "    return reward[0]\n",
    "\n",
    "\n",
    "data.apply(_test_row, axis=1)"
   ]
  },
  {
   "cell_type": "markdown",
   "metadata": {},
   "source": [
    "You should now be able to see Seldon's pre-built Grafana dashboard."
   ]
  },
  {
   "cell_type": "markdown",
   "metadata": {},
   "source": [
    "![grafana-mlflow](images/grafana-mlflow.jpg)"
   ]
  },
  {
   "cell_type": "markdown",
   "metadata": {},
   "source": [
    "In bottom of the dashboard you can see the following charts: \n",
    "\n",
    "- On the left: the requests per second, which shows the different traffic breakdown we specified.\n",
    "- On the center: the reward, where you can see how model `a` outperforms model `b` by a large margin.\n",
    "- On the right, the latency for each one of them.\n",
    "\n",
    "You are able to add your own custom metrics, and try out other more complex deployments by following further guides at https://docs.seldon.io/projects/seldon-core/en/latest/examples/mlflow_server_ab_test_ambassador.html"
   ]
  }
 ],
 "metadata": {
  "kernelspec": {
   "display_name": "Python 3 (ipykernel)",
   "language": "python",
   "name": "python3"
  },
  "language_info": {
   "codemirror_mode": {
    "name": "ipython",
    "version": 3
   },
   "file_extension": ".py",
   "mimetype": "text/x-python",
   "name": "python",
   "nbconvert_exporter": "python",
   "pygments_lexer": "ipython3",
   "version": "3.9.12"
  },
  "varInspector": {
   "cols": {
    "lenName": 16,
    "lenType": 16,
    "lenVar": 40
   },
   "kernels_config": {
    "python": {
     "delete_cmd_postfix": "",
     "delete_cmd_prefix": "del ",
     "library": "var_list.py",
     "varRefreshCmd": "print(var_dic_list())"
    },
    "r": {
     "delete_cmd_postfix": ") ",
     "delete_cmd_prefix": "rm(",
     "library": "var_list.r",
     "varRefreshCmd": "cat(var_dic_list()) "
    }
   },
   "types_to_exclude": [
    "module",
    "function",
    "builtin_function_or_method",
    "instance",
    "_Feature"
   ],
   "window_display": false
  }
 },
 "nbformat": 4,
 "nbformat_minor": 4
}
